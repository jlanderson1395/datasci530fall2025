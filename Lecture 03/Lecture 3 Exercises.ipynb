{
 "cells": [
  {
   "attachments": {},
   "cell_type": "markdown",
   "metadata": {},
   "source": [
    "# <span style=\"color:darkblue\"> Lecture 3 Exercises </span>"
   ]
  },
  {
   "cell_type": "markdown",
   "metadata": {},
   "source": [
    "\n",
    "\n",
    "## Short Questions\n",
    "\n",
    "<font size = \"5\">\n",
    "\n",
    "1. What is a codebook?\n",
    "2. How you define a missing value in Python?\n",
    "2. What is chaining?"
   ]
  },
  {
   "cell_type": "code",
   "execution_count": null,
   "metadata": {},
   "outputs": [],
   "source": [
    "# Write your answers here as comments\n",
    "\n",
    "# a codebook tells you the characterisitcs of your variables\n",
    "# you can define a missing value in python by using NaN (not a number)\n",
    "# chaining is a way of linking different commands together in one chunk of code\n",
    "\n"
   ]
  },
  {
   "cell_type": "markdown",
   "metadata": {},
   "source": [
    "## Long Questions"
   ]
  },
  {
   "attachments": {},
   "cell_type": "markdown",
   "metadata": {},
   "source": [
    "<font size = \"5\">\n",
    "\n",
    "Import the libraries \"numpy\" and \"pandas\""
   ]
  },
  {
   "cell_type": "code",
   "execution_count": 1,
   "metadata": {},
   "outputs": [],
   "source": [
    "# Write your own code\n",
    "import pandas as pd\n",
    "import numpy as np\n",
    "\n",
    "\n"
   ]
  },
  {
   "cell_type": "markdown",
   "metadata": {},
   "source": [
    "<font size = \"5\">\n",
    "\n",
    "(a) Replace values from intervals\n",
    "\n",
    "<font size = \"3\">\n",
    "\n",
    "- Import the dataset \"data_raw/students.csv\" to a new object \"students\"\n",
    "- Use \"pd.cut()\" to assign the column \"numericgrade\" to a letter grade <br>\n",
    "using the following table\n",
    "\n",
    "<img src=\"figures/grading_scale.png\" alt=\"drawing\" width=\"600\"/>\n"
   ]
  },
  {
   "cell_type": "code",
   "execution_count": 30,
   "metadata": {},
   "outputs": [
    {
     "data": {
      "application/vnd.microsoft.datawrangler.viewer.v0+json": {
       "columns": [
        {
         "name": "index",
         "rawType": "int64",
         "type": "integer"
        },
        {
         "name": "studentid",
         "rawType": "int64",
         "type": "integer"
        },
        {
         "name": "numericgrade",
         "rawType": "int64",
         "type": "integer"
        },
        {
         "name": "grade",
         "rawType": "category",
         "type": "unknown"
        }
       ],
       "ref": "99e64ee7-b895-492e-b5f5-d105af404985",
       "rows": [
        [
         "0",
         "1",
         "61",
         "C-"
        ],
        [
         "1",
         "2",
         "0",
         "F"
        ],
        [
         "2",
         "3",
         "14",
         "F"
        ],
        [
         "3",
         "4",
         "57",
         "D"
        ],
        [
         "4",
         "5",
         "72",
         "C+"
        ],
        [
         "5",
         "6",
         "93",
         "A"
        ],
        [
         "6",
         "7",
         "40",
         "F"
        ],
        [
         "7",
         "8",
         "11",
         "F"
        ],
        [
         "8",
         "9",
         "3",
         "F"
        ],
        [
         "9",
         "10",
         "63",
         "C-"
        ],
        [
         "10",
         "11",
         "7",
         "F"
        ],
        [
         "11",
         "12",
         "46",
         "F"
        ],
        [
         "12",
         "13",
         "75",
         "B-"
        ],
        [
         "13",
         "14",
         "95",
         "A"
        ],
        [
         "14",
         "15",
         "22",
         "F"
        ],
        [
         "15",
         "16",
         "40",
         "F"
        ],
        [
         "16",
         "17",
         "53",
         "F"
        ],
        [
         "17",
         "18",
         "57",
         "D"
        ],
        [
         "18",
         "19",
         "82",
         "B"
        ],
        [
         "19",
         "20",
         "50",
         "F"
        ],
        [
         "20",
         "21",
         "8",
         "F"
        ],
        [
         "21",
         "22",
         "87",
         "A-"
        ],
        [
         "22",
         "23",
         "82",
         "B"
        ],
        [
         "23",
         "24",
         "30",
         "F"
        ],
        [
         "24",
         "25",
         "62",
         "C-"
        ]
       ],
       "shape": {
        "columns": 3,
        "rows": 25
       }
      },
      "text/html": [
       "<div>\n",
       "<style scoped>\n",
       "    .dataframe tbody tr th:only-of-type {\n",
       "        vertical-align: middle;\n",
       "    }\n",
       "\n",
       "    .dataframe tbody tr th {\n",
       "        vertical-align: top;\n",
       "    }\n",
       "\n",
       "    .dataframe thead th {\n",
       "        text-align: right;\n",
       "    }\n",
       "</style>\n",
       "<table border=\"1\" class=\"dataframe\">\n",
       "  <thead>\n",
       "    <tr style=\"text-align: right;\">\n",
       "      <th></th>\n",
       "      <th>studentid</th>\n",
       "      <th>numericgrade</th>\n",
       "      <th>grade</th>\n",
       "    </tr>\n",
       "  </thead>\n",
       "  <tbody>\n",
       "    <tr>\n",
       "      <th>0</th>\n",
       "      <td>1</td>\n",
       "      <td>61</td>\n",
       "      <td>C-</td>\n",
       "    </tr>\n",
       "    <tr>\n",
       "      <th>1</th>\n",
       "      <td>2</td>\n",
       "      <td>0</td>\n",
       "      <td>F</td>\n",
       "    </tr>\n",
       "    <tr>\n",
       "      <th>2</th>\n",
       "      <td>3</td>\n",
       "      <td>14</td>\n",
       "      <td>F</td>\n",
       "    </tr>\n",
       "    <tr>\n",
       "      <th>3</th>\n",
       "      <td>4</td>\n",
       "      <td>57</td>\n",
       "      <td>D</td>\n",
       "    </tr>\n",
       "    <tr>\n",
       "      <th>4</th>\n",
       "      <td>5</td>\n",
       "      <td>72</td>\n",
       "      <td>C+</td>\n",
       "    </tr>\n",
       "    <tr>\n",
       "      <th>5</th>\n",
       "      <td>6</td>\n",
       "      <td>93</td>\n",
       "      <td>A</td>\n",
       "    </tr>\n",
       "    <tr>\n",
       "      <th>6</th>\n",
       "      <td>7</td>\n",
       "      <td>40</td>\n",
       "      <td>F</td>\n",
       "    </tr>\n",
       "    <tr>\n",
       "      <th>7</th>\n",
       "      <td>8</td>\n",
       "      <td>11</td>\n",
       "      <td>F</td>\n",
       "    </tr>\n",
       "    <tr>\n",
       "      <th>8</th>\n",
       "      <td>9</td>\n",
       "      <td>3</td>\n",
       "      <td>F</td>\n",
       "    </tr>\n",
       "    <tr>\n",
       "      <th>9</th>\n",
       "      <td>10</td>\n",
       "      <td>63</td>\n",
       "      <td>C-</td>\n",
       "    </tr>\n",
       "    <tr>\n",
       "      <th>10</th>\n",
       "      <td>11</td>\n",
       "      <td>7</td>\n",
       "      <td>F</td>\n",
       "    </tr>\n",
       "    <tr>\n",
       "      <th>11</th>\n",
       "      <td>12</td>\n",
       "      <td>46</td>\n",
       "      <td>F</td>\n",
       "    </tr>\n",
       "    <tr>\n",
       "      <th>12</th>\n",
       "      <td>13</td>\n",
       "      <td>75</td>\n",
       "      <td>B-</td>\n",
       "    </tr>\n",
       "    <tr>\n",
       "      <th>13</th>\n",
       "      <td>14</td>\n",
       "      <td>95</td>\n",
       "      <td>A</td>\n",
       "    </tr>\n",
       "    <tr>\n",
       "      <th>14</th>\n",
       "      <td>15</td>\n",
       "      <td>22</td>\n",
       "      <td>F</td>\n",
       "    </tr>\n",
       "    <tr>\n",
       "      <th>15</th>\n",
       "      <td>16</td>\n",
       "      <td>40</td>\n",
       "      <td>F</td>\n",
       "    </tr>\n",
       "    <tr>\n",
       "      <th>16</th>\n",
       "      <td>17</td>\n",
       "      <td>53</td>\n",
       "      <td>F</td>\n",
       "    </tr>\n",
       "    <tr>\n",
       "      <th>17</th>\n",
       "      <td>18</td>\n",
       "      <td>57</td>\n",
       "      <td>D</td>\n",
       "    </tr>\n",
       "    <tr>\n",
       "      <th>18</th>\n",
       "      <td>19</td>\n",
       "      <td>82</td>\n",
       "      <td>B</td>\n",
       "    </tr>\n",
       "    <tr>\n",
       "      <th>19</th>\n",
       "      <td>20</td>\n",
       "      <td>50</td>\n",
       "      <td>F</td>\n",
       "    </tr>\n",
       "    <tr>\n",
       "      <th>20</th>\n",
       "      <td>21</td>\n",
       "      <td>8</td>\n",
       "      <td>F</td>\n",
       "    </tr>\n",
       "    <tr>\n",
       "      <th>21</th>\n",
       "      <td>22</td>\n",
       "      <td>87</td>\n",
       "      <td>A-</td>\n",
       "    </tr>\n",
       "    <tr>\n",
       "      <th>22</th>\n",
       "      <td>23</td>\n",
       "      <td>82</td>\n",
       "      <td>B</td>\n",
       "    </tr>\n",
       "    <tr>\n",
       "      <th>23</th>\n",
       "      <td>24</td>\n",
       "      <td>30</td>\n",
       "      <td>F</td>\n",
       "    </tr>\n",
       "    <tr>\n",
       "      <th>24</th>\n",
       "      <td>25</td>\n",
       "      <td>62</td>\n",
       "      <td>C-</td>\n",
       "    </tr>\n",
       "  </tbody>\n",
       "</table>\n",
       "</div>"
      ],
      "text/plain": [
       "    studentid  numericgrade grade\n",
       "0           1            61    C-\n",
       "1           2             0     F\n",
       "2           3            14     F\n",
       "3           4            57     D\n",
       "4           5            72    C+\n",
       "5           6            93     A\n",
       "6           7            40     F\n",
       "7           8            11     F\n",
       "8           9             3     F\n",
       "9          10            63    C-\n",
       "10         11             7     F\n",
       "11         12            46     F\n",
       "12         13            75    B-\n",
       "13         14            95     A\n",
       "14         15            22     F\n",
       "15         16            40     F\n",
       "16         17            53     F\n",
       "17         18            57     D\n",
       "18         19            82     B\n",
       "19         20            50     F\n",
       "20         21             8     F\n",
       "21         22            87    A-\n",
       "22         23            82     B\n",
       "23         24            30     F\n",
       "24         25            62    C-"
      ]
     },
     "execution_count": 30,
     "metadata": {},
     "output_type": "execute_result"
    }
   ],
   "source": [
    "# Write your own code\n",
    "students = pd.read_csv(\"data_raw/students.csv\")\n",
    "students.dtypes\n",
    "lettergrade = pd.cut(students['numericgrade'], bins=[0, 54, 59, 64, 69, 74, 79, 82, 86, 92, 100],\n",
    "                     labels=['F', 'D', 'C-', 'C', 'C+', 'B-', 'B', 'B+', 'A-', 'A']\n",
    "                     , right=True,\n",
    "                     include_lowest=True,)\n",
    "students['grade'] = lettergrade\n",
    "students"
   ]
  },
  {
   "cell_type": "markdown",
   "metadata": {},
   "source": [
    "<font size = \"5\">\n",
    "\n",
    "For questions (b)-(e) use \"results.csv\", <br>\n",
    "a dataset on competitive car racing\n",
    "\n",
    "Import the dataset \"data/raw_results.csv\" to <br>\n",
    " a new object \"results\""
   ]
  },
  {
   "cell_type": "markdown",
   "metadata": {},
   "source": [
    "<font size = \"5\">\n",
    "\n",
    "(b) Check column types\n",
    "\n",
    "<font size = \"3\">\n",
    "\n",
    "- View the dataset\n",
    "- Use the function \"results.dtypes\" to get the column types\n",
    "- Search for the \"results\" table in \"codebook/f1_codebook.pdf\".\n",
    "- Does the type of the \"milliseconds\" column agree with the codebook? <br>\n",
    "i.e. is it an integer, float, or string/object?\n",
    "\n",
    "\n",
    "HINT: See Lectures 13 and 14 for how to interpret the codebook\n"
   ]
  },
  {
   "cell_type": "code",
   "execution_count": 34,
   "metadata": {},
   "outputs": [
    {
     "data": {
      "application/vnd.microsoft.datawrangler.viewer.v0+json": {
       "columns": [
        {
         "name": "index",
         "rawType": "object",
         "type": "string"
        },
        {
         "name": "0",
         "rawType": "object",
         "type": "unknown"
        }
       ],
       "ref": "417a35fb-6716-4981-babd-79f26218b821",
       "rows": [
        [
         "resultId",
         "int64"
        ],
        [
         "raceId",
         "int64"
        ],
        [
         "driverId",
         "int64"
        ],
        [
         "constructorId",
         "int64"
        ],
        [
         "number",
         "object"
        ],
        [
         "grid",
         "int64"
        ],
        [
         "position",
         "object"
        ],
        [
         "positionText",
         "object"
        ],
        [
         "positionOrder",
         "int64"
        ],
        [
         "points",
         "float64"
        ],
        [
         "laps",
         "int64"
        ],
        [
         "time",
         "object"
        ],
        [
         "milliseconds",
         "object"
        ],
        [
         "fastestLap",
         "object"
        ],
        [
         "rank",
         "object"
        ],
        [
         "fastestLapTime",
         "object"
        ],
        [
         "fastestLapSpeed",
         "object"
        ],
        [
         "statusId",
         "int64"
        ]
       ],
       "shape": {
        "columns": 1,
        "rows": 18
       }
      },
      "text/plain": [
       "resultId             int64\n",
       "raceId               int64\n",
       "driverId             int64\n",
       "constructorId        int64\n",
       "number              object\n",
       "grid                 int64\n",
       "position            object\n",
       "positionText        object\n",
       "positionOrder        int64\n",
       "points             float64\n",
       "laps                 int64\n",
       "time                object\n",
       "milliseconds        object\n",
       "fastestLap          object\n",
       "rank                object\n",
       "fastestLapTime      object\n",
       "fastestLapSpeed     object\n",
       "statusId             int64\n",
       "dtype: object"
      ]
     },
     "execution_count": 34,
     "metadata": {},
     "output_type": "execute_result"
    }
   ],
   "source": [
    "# Write your own code\n",
    "results = pd.read_csv(\"data_raw/results.csv\")\n",
    "results.dtypes\n",
    "\n",
    "# miliseconds is an integer in the codebook but an object in the results data\n",
    "\n"
   ]
  },
  {
   "cell_type": "markdown",
   "metadata": {},
   "source": [
    "<font size = \"5\">\n",
    "\n",
    "(c) Clean a column\n",
    "\n",
    "<font size = \"3\">\n",
    "\n",
    "- Import the dataset \"data_raw/results.csv\" to a new object \"results\"\n",
    "- Our goal is to replace any string values in the column \"milliseconds\" <br>\n",
    "to missing values (NaNs) and covert to numeric\n",
    "- To do so, go to Lecture 13 and follow the setups under the headings\n",
    "    - \"Extract list of non-numeric values\"\n",
    "    - \"Replace certain values\"\n",
    "    - \"Convert column to numeric\"\n",
    "\n",
    "HINT: substitute \"milliseconds\" instead of \"alt\", <br>\n",
    "and the dataset \"results\" instead of \"circuits\" \n"
   ]
  },
  {
   "cell_type": "code",
   "execution_count": 37,
   "metadata": {},
   "outputs": [
    {
     "name": "stdout",
     "output_type": "stream",
     "text": [
      "['\\\\N']\n"
     ]
    }
   ],
   "source": [
    "# Write your own code\n",
    "\n",
    "results = pd.read_csv(\"data_raw/results.csv\")\n",
    "subset = results.query(\"milliseconds.str.isnumeric() == False\")\n",
    "list_unique = pd.unique(subset[\"milliseconds\"])\n",
    "print(list_unique)\n",
    "\n",
    "\n"
   ]
  },
  {
   "cell_type": "markdown",
   "metadata": {},
   "source": [
    "<font size = \"5\">\n",
    "\n",
    "(d) Groupby + Aggregate\n",
    "\n",
    "<font size = \"3\">\n",
    "\n",
    "- Compute the mean and standard deviation of \"laps\", <br>\n",
    "grouping by \"constructorId\". Store the new dataset <br>\n",
    "as \"results_agg\"\n",
    "- Sort the aggregate dataset in decending <br>\n",
    "order of mean laps using \".sort_values()\"\n",
    "\n",
    "HINT: See Lecture 14 <br>\n"
   ]
  },
  {
   "cell_type": "code",
   "execution_count": 46,
   "metadata": {},
   "outputs": [
    {
     "data": {
      "application/vnd.microsoft.datawrangler.viewer.v0+json": {
       "columns": [
        {
         "name": "index",
         "rawType": "int64",
         "type": "integer"
        },
        {
         "name": "resultId",
         "rawType": "int64",
         "type": "integer"
        },
        {
         "name": "raceId",
         "rawType": "int64",
         "type": "integer"
        },
        {
         "name": "driverId",
         "rawType": "int64",
         "type": "integer"
        },
        {
         "name": "constructorId",
         "rawType": "int64",
         "type": "integer"
        },
        {
         "name": "number",
         "rawType": "object",
         "type": "string"
        },
        {
         "name": "grid",
         "rawType": "int64",
         "type": "integer"
        },
        {
         "name": "position",
         "rawType": "object",
         "type": "string"
        },
        {
         "name": "positionText",
         "rawType": "object",
         "type": "string"
        },
        {
         "name": "positionOrder",
         "rawType": "int64",
         "type": "integer"
        },
        {
         "name": "points",
         "rawType": "float64",
         "type": "float"
        },
        {
         "name": "laps",
         "rawType": "int64",
         "type": "integer"
        },
        {
         "name": "time",
         "rawType": "object",
         "type": "string"
        },
        {
         "name": "milliseconds",
         "rawType": "object",
         "type": "string"
        },
        {
         "name": "fastestLap",
         "rawType": "object",
         "type": "string"
        },
        {
         "name": "rank",
         "rawType": "object",
         "type": "string"
        },
        {
         "name": "fastestLapTime",
         "rawType": "object",
         "type": "string"
        },
        {
         "name": "fastestLapSpeed",
         "rawType": "object",
         "type": "string"
        },
        {
         "name": "statusId",
         "rawType": "int64",
         "type": "integer"
        }
       ],
       "ref": "5dce2357-ba4b-4cf1-ad4a-a4daf7cf1f52",
       "rows": [
        [
         "0",
         "1",
         "18",
         "1",
         "1",
         "22",
         "1",
         "1",
         "1",
         "1",
         "10.0",
         "58",
         "1:34:50.616",
         "5690616",
         "39",
         "2",
         "1:27.452",
         "218.300",
         "1"
        ],
        [
         "1",
         "2",
         "18",
         "2",
         "2",
         "3",
         "5",
         "2",
         "2",
         "2",
         "8.0",
         "58",
         "+5.478",
         "5696094",
         "41",
         "3",
         "1:27.739",
         "217.586",
         "1"
        ],
        [
         "2",
         "3",
         "18",
         "3",
         "3",
         "7",
         "7",
         "3",
         "3",
         "3",
         "6.0",
         "58",
         "+8.163",
         "5698779",
         "41",
         "5",
         "1:28.090",
         "216.719",
         "1"
        ],
        [
         "3",
         "4",
         "18",
         "4",
         "4",
         "5",
         "11",
         "4",
         "4",
         "4",
         "5.0",
         "58",
         "+17.181",
         "5707797",
         "58",
         "7",
         "1:28.603",
         "215.464",
         "1"
        ],
        [
         "4",
         "5",
         "18",
         "5",
         "1",
         "23",
         "3",
         "5",
         "5",
         "5",
         "4.0",
         "58",
         "+18.014",
         "5708630",
         "43",
         "1",
         "1:27.418",
         "218.385",
         "1"
        ],
        [
         "5",
         "6",
         "18",
         "6",
         "3",
         "8",
         "13",
         "6",
         "6",
         "6",
         "3.0",
         "57",
         "\\N",
         "\\N",
         "50",
         "14",
         "1:29.639",
         "212.974",
         "11"
        ],
        [
         "6",
         "7",
         "18",
         "7",
         "5",
         "14",
         "17",
         "7",
         "7",
         "7",
         "2.0",
         "55",
         "\\N",
         "\\N",
         "22",
         "12",
         "1:29.534",
         "213.224",
         "5"
        ],
        [
         "7",
         "8",
         "18",
         "8",
         "6",
         "1",
         "15",
         "8",
         "8",
         "8",
         "1.0",
         "53",
         "\\N",
         "\\N",
         "20",
         "4",
         "1:27.903",
         "217.180",
         "5"
        ],
        [
         "8",
         "9",
         "18",
         "9",
         "2",
         "4",
         "2",
         "\\N",
         "R",
         "9",
         "0.0",
         "47",
         "\\N",
         "\\N",
         "15",
         "9",
         "1:28.753",
         "215.100",
         "4"
        ],
        [
         "9",
         "10",
         "18",
         "10",
         "7",
         "12",
         "18",
         "\\N",
         "R",
         "10",
         "0.0",
         "43",
         "\\N",
         "\\N",
         "23",
         "13",
         "1:29.558",
         "213.166",
         "3"
        ],
        [
         "10",
         "11",
         "18",
         "11",
         "8",
         "18",
         "19",
         "\\N",
         "R",
         "11",
         "0.0",
         "32",
         "\\N",
         "\\N",
         "24",
         "15",
         "1:30.892",
         "210.038",
         "7"
        ],
        [
         "11",
         "12",
         "18",
         "12",
         "4",
         "6",
         "20",
         "\\N",
         "R",
         "12",
         "0.0",
         "30",
         "\\N",
         "\\N",
         "20",
         "16",
         "1:31.384",
         "208.907",
         "8"
        ],
        [
         "12",
         "13",
         "18",
         "13",
         "6",
         "2",
         "4",
         "\\N",
         "R",
         "13",
         "0.0",
         "29",
         "\\N",
         "\\N",
         "23",
         "6",
         "1:28.175",
         "216.510",
         "5"
        ],
        [
         "13",
         "14",
         "18",
         "14",
         "9",
         "9",
         "8",
         "\\N",
         "R",
         "14",
         "0.0",
         "25",
         "\\N",
         "\\N",
         "21",
         "11",
         "1:29.502",
         "213.300",
         "4"
        ],
        [
         "14",
         "15",
         "18",
         "15",
         "7",
         "11",
         "6",
         "\\N",
         "R",
         "15",
         "0.0",
         "19",
         "\\N",
         "\\N",
         "18",
         "10",
         "1:29.310",
         "213.758",
         "10"
        ],
        [
         "15",
         "16",
         "18",
         "16",
         "10",
         "20",
         "22",
         "\\N",
         "R",
         "16",
         "0.0",
         "8",
         "\\N",
         "\\N",
         "8",
         "17",
         "1:32.021",
         "207.461",
         "9"
        ],
        [
         "16",
         "17",
         "18",
         "17",
         "9",
         "10",
         "14",
         "\\N",
         "R",
         "17",
         "0.0",
         "0",
         "\\N",
         "\\N",
         "\\N",
         "\\N",
         "\\N",
         "\\N",
         "4"
        ],
        [
         "17",
         "18",
         "18",
         "18",
         "11",
         "16",
         "12",
         "\\N",
         "R",
         "18",
         "0.0",
         "0",
         "\\N",
         "\\N",
         "\\N",
         "\\N",
         "\\N",
         "\\N",
         "4"
        ],
        [
         "18",
         "19",
         "18",
         "19",
         "8",
         "19",
         "21",
         "\\N",
         "R",
         "19",
         "0.0",
         "0",
         "\\N",
         "\\N",
         "\\N",
         "\\N",
         "\\N",
         "\\N",
         "4"
        ],
        [
         "19",
         "20",
         "18",
         "20",
         "5",
         "15",
         "9",
         "\\N",
         "R",
         "20",
         "0.0",
         "0",
         "\\N",
         "\\N",
         "\\N",
         "\\N",
         "\\N",
         "\\N",
         "4"
        ],
        [
         "20",
         "21",
         "18",
         "21",
         "10",
         "21",
         "16",
         "\\N",
         "R",
         "21",
         "0.0",
         "0",
         "\\N",
         "\\N",
         "\\N",
         "\\N",
         "\\N",
         "\\N",
         "4"
        ],
        [
         "21",
         "22",
         "18",
         "22",
         "11",
         "17",
         "10",
         "\\N",
         "D",
         "22",
         "0.0",
         "58",
         "\\N",
         "\\N",
         "44",
         "8",
         "1:28.736",
         "215.141",
         "2"
        ],
        [
         "22",
         "23",
         "19",
         "8",
         "6",
         "1",
         "2",
         "1",
         "1",
         "1",
         "10.0",
         "56",
         "1:31:18.555",
         "5478555",
         "37",
         "2",
         "1:35.405",
         "209.158",
         "1"
        ],
        [
         "23",
         "24",
         "19",
         "9",
         "2",
         "4",
         "4",
         "2",
         "2",
         "2",
         "8.0",
         "56",
         "+19.570",
         "5498125",
         "39",
         "6",
         "1:35.921",
         "208.033",
         "1"
        ],
        [
         "24",
         "25",
         "19",
         "5",
         "1",
         "23",
         "8",
         "3",
         "3",
         "3",
         "6.0",
         "56",
         "+38.450",
         "5517005",
         "19",
         "7",
         "1:35.922",
         "208.031",
         "1"
        ],
        [
         "25",
         "26",
         "19",
         "15",
         "7",
         "11",
         "3",
         "4",
         "4",
         "4",
         "5.0",
         "56",
         "+45.832",
         "5524387",
         "53",
         "8",
         "1:36.068",
         "207.715",
         "1"
        ],
        [
         "26",
         "27",
         "19",
         "1",
         "1",
         "22",
         "9",
         "5",
         "5",
         "5",
         "4.0",
         "56",
         "+46.548",
         "5525103",
         "53",
         "3",
         "1:35.462",
         "209.033",
         "1"
        ],
        [
         "27",
         "28",
         "19",
         "2",
         "2",
         "3",
         "5",
         "6",
         "6",
         "6",
         "3.0",
         "56",
         "+49.833",
         "5528388",
         "55",
         "1",
         "1:35.366",
         "209.244",
         "1"
        ],
        [
         "28",
         "29",
         "19",
         "17",
         "9",
         "10",
         "6",
         "7",
         "7",
         "7",
         "2.0",
         "56",
         "+1:08.130",
         "5546685",
         "53",
         "12",
         "1:36.696",
         "206.366",
         "1"
        ],
        [
         "29",
         "30",
         "19",
         "4",
         "4",
         "5",
         "7",
         "8",
         "8",
         "8",
         "1.0",
         "56",
         "+1:10.041",
         "5548596",
         "40",
         "10",
         "1:36.288",
         "207.240",
         "1"
        ],
        [
         "30",
         "31",
         "19",
         "14",
         "9",
         "9",
         "12",
         "9",
         "9",
         "9",
         "0.0",
         "56",
         "+1:16.220",
         "5554775",
         "55",
         "9",
         "1:36.206",
         "207.417",
         "1"
        ],
        [
         "31",
         "32",
         "19",
         "18",
         "11",
         "16",
         "11",
         "10",
         "10",
         "10",
         "0.0",
         "56",
         "+1:26.214",
         "5564769",
         "56",
         "4",
         "1:35.715",
         "208.481",
         "1"
        ],
        [
         "32",
         "33",
         "19",
         "12",
         "4",
         "6",
         "13",
         "11",
         "11",
         "11",
         "0.0",
         "56",
         "+1:32.202",
         "5570757",
         "52",
         "15",
         "1:36.956",
         "205.812",
         "1"
        ],
        [
         "33",
         "34",
         "19",
         "21",
         "10",
         "21",
         "17",
         "12",
         "12",
         "12",
         "0.0",
         "55",
         "\\N",
         "\\N",
         "52",
         "16",
         "1:36.962",
         "205.800",
         "11"
        ],
        [
         "34",
         "35",
         "19",
         "22",
         "11",
         "17",
         "14",
         "13",
         "13",
         "13",
         "0.0",
         "55",
         "\\N",
         "\\N",
         "55",
         "11",
         "1:36.693",
         "206.372",
         "11"
        ],
        [
         "35",
         "36",
         "19",
         "3",
         "3",
         "7",
         "16",
         "14",
         "14",
         "14",
         "0.0",
         "55",
         "\\N",
         "\\N",
         "55",
         "13",
         "1:36.782",
         "206.182",
         "11"
        ],
        [
         "36",
         "37",
         "19",
         "19",
         "8",
         "19",
         "21",
         "15",
         "15",
         "15",
         "0.0",
         "55",
         "\\N",
         "\\N",
         "55",
         "18",
         "1:38.171",
         "203.265",
         "11"
        ],
        [
         "37",
         "38",
         "19",
         "11",
         "8",
         "18",
         "19",
         "16",
         "16",
         "16",
         "0.0",
         "54",
         "\\N",
         "\\N",
         "53",
         "19",
         "1:38.504",
         "202.578",
         "12"
        ],
        [
         "38",
         "39",
         "19",
         "6",
         "3",
         "8",
         "22",
         "17",
         "17",
         "17",
         "0.0",
         "54",
         "\\N",
         "\\N",
         "19",
         "17",
         "1:37.711",
         "204.222",
         "12"
        ],
        [
         "39",
         "40",
         "19",
         "20",
         "5",
         "15",
         "15",
         "\\N",
         "R",
         "18",
         "0.0",
         "39",
         "\\N",
         "\\N",
         "37",
         "14",
         "1:36.870",
         "205.995",
         "5"
        ],
        [
         "40",
         "41",
         "19",
         "13",
         "6",
         "2",
         "1",
         "\\N",
         "R",
         "19",
         "0.0",
         "30",
         "\\N",
         "\\N",
         "15",
         "5",
         "1:35.914",
         "208.048",
         "20"
        ],
        [
         "41",
         "42",
         "19",
         "16",
         "10",
         "20",
         "20",
         "\\N",
         "R",
         "20",
         "0.0",
         "5",
         "\\N",
         "\\N",
         "3",
         "20",
         "1:40.330",
         "198.891",
         "9"
        ],
        [
         "42",
         "43",
         "19",
         "10",
         "7",
         "12",
         "10",
         "\\N",
         "R",
         "21",
         "0.0",
         "1",
         "\\N",
         "\\N",
         "\\N",
         "\\N",
         "\\N",
         "\\N",
         "4"
        ],
        [
         "43",
         "44",
         "19",
         "7",
         "5",
         "14",
         "18",
         "\\N",
         "R",
         "22",
         "0.0",
         "0",
         "\\N",
         "\\N",
         "\\N",
         "\\N",
         "\\N",
         "\\N",
         "20"
        ],
        [
         "44",
         "45",
         "20",
         "13",
         "6",
         "2",
         "2",
         "1",
         "1",
         "1",
         "10.0",
         "57",
         "1:31:06.970",
         "5466970",
         "38",
         "3",
         "1:33.600",
         "208.153",
         "1"
        ],
        [
         "45",
         "46",
         "20",
         "8",
         "6",
         "1",
         "4",
         "2",
         "2",
         "2",
         "8.0",
         "57",
         "+3.339",
         "5470309",
         "35",
         "4",
         "1:33.709",
         "207.911",
         "1"
        ],
        [
         "46",
         "47",
         "20",
         "9",
         "2",
         "4",
         "1",
         "3",
         "3",
         "3",
         "6.0",
         "57",
         "+4.998",
         "5471968",
         "55",
         "5",
         "1:33.775",
         "207.765",
         "1"
        ],
        [
         "47",
         "48",
         "20",
         "2",
         "2",
         "3",
         "6",
         "4",
         "4",
         "4",
         "5.0",
         "57",
         "+8.409",
         "5475379",
         "48",
         "2",
         "1:33.565",
         "208.231",
         "1"
        ],
        [
         "48",
         "49",
         "20",
         "5",
         "1",
         "23",
         "5",
         "5",
         "5",
         "5",
         "4.0",
         "57",
         "+26.789",
         "5493759",
         "49",
         "1",
         "1:33.193",
         "209.062",
         "1"
        ],
        [
         "49",
         "50",
         "20",
         "15",
         "7",
         "11",
         "7",
         "6",
         "6",
         "6",
         "3.0",
         "57",
         "+41.314",
         "5508284",
         "45",
         "7",
         "1:34.204",
         "206.819",
         "1"
        ]
       ],
       "shape": {
        "columns": 18,
        "rows": 25840
       }
      },
      "text/html": [
       "<div>\n",
       "<style scoped>\n",
       "    .dataframe tbody tr th:only-of-type {\n",
       "        vertical-align: middle;\n",
       "    }\n",
       "\n",
       "    .dataframe tbody tr th {\n",
       "        vertical-align: top;\n",
       "    }\n",
       "\n",
       "    .dataframe thead th {\n",
       "        text-align: right;\n",
       "    }\n",
       "</style>\n",
       "<table border=\"1\" class=\"dataframe\">\n",
       "  <thead>\n",
       "    <tr style=\"text-align: right;\">\n",
       "      <th></th>\n",
       "      <th>resultId</th>\n",
       "      <th>raceId</th>\n",
       "      <th>driverId</th>\n",
       "      <th>constructorId</th>\n",
       "      <th>number</th>\n",
       "      <th>grid</th>\n",
       "      <th>position</th>\n",
       "      <th>positionText</th>\n",
       "      <th>positionOrder</th>\n",
       "      <th>points</th>\n",
       "      <th>laps</th>\n",
       "      <th>time</th>\n",
       "      <th>milliseconds</th>\n",
       "      <th>fastestLap</th>\n",
       "      <th>rank</th>\n",
       "      <th>fastestLapTime</th>\n",
       "      <th>fastestLapSpeed</th>\n",
       "      <th>statusId</th>\n",
       "    </tr>\n",
       "  </thead>\n",
       "  <tbody>\n",
       "    <tr>\n",
       "      <th>0</th>\n",
       "      <td>1</td>\n",
       "      <td>18</td>\n",
       "      <td>1</td>\n",
       "      <td>1</td>\n",
       "      <td>22</td>\n",
       "      <td>1</td>\n",
       "      <td>1</td>\n",
       "      <td>1</td>\n",
       "      <td>1</td>\n",
       "      <td>10.0</td>\n",
       "      <td>58</td>\n",
       "      <td>1:34:50.616</td>\n",
       "      <td>5690616</td>\n",
       "      <td>39</td>\n",
       "      <td>2</td>\n",
       "      <td>1:27.452</td>\n",
       "      <td>218.300</td>\n",
       "      <td>1</td>\n",
       "    </tr>\n",
       "    <tr>\n",
       "      <th>1</th>\n",
       "      <td>2</td>\n",
       "      <td>18</td>\n",
       "      <td>2</td>\n",
       "      <td>2</td>\n",
       "      <td>3</td>\n",
       "      <td>5</td>\n",
       "      <td>2</td>\n",
       "      <td>2</td>\n",
       "      <td>2</td>\n",
       "      <td>8.0</td>\n",
       "      <td>58</td>\n",
       "      <td>+5.478</td>\n",
       "      <td>5696094</td>\n",
       "      <td>41</td>\n",
       "      <td>3</td>\n",
       "      <td>1:27.739</td>\n",
       "      <td>217.586</td>\n",
       "      <td>1</td>\n",
       "    </tr>\n",
       "    <tr>\n",
       "      <th>2</th>\n",
       "      <td>3</td>\n",
       "      <td>18</td>\n",
       "      <td>3</td>\n",
       "      <td>3</td>\n",
       "      <td>7</td>\n",
       "      <td>7</td>\n",
       "      <td>3</td>\n",
       "      <td>3</td>\n",
       "      <td>3</td>\n",
       "      <td>6.0</td>\n",
       "      <td>58</td>\n",
       "      <td>+8.163</td>\n",
       "      <td>5698779</td>\n",
       "      <td>41</td>\n",
       "      <td>5</td>\n",
       "      <td>1:28.090</td>\n",
       "      <td>216.719</td>\n",
       "      <td>1</td>\n",
       "    </tr>\n",
       "    <tr>\n",
       "      <th>3</th>\n",
       "      <td>4</td>\n",
       "      <td>18</td>\n",
       "      <td>4</td>\n",
       "      <td>4</td>\n",
       "      <td>5</td>\n",
       "      <td>11</td>\n",
       "      <td>4</td>\n",
       "      <td>4</td>\n",
       "      <td>4</td>\n",
       "      <td>5.0</td>\n",
       "      <td>58</td>\n",
       "      <td>+17.181</td>\n",
       "      <td>5707797</td>\n",
       "      <td>58</td>\n",
       "      <td>7</td>\n",
       "      <td>1:28.603</td>\n",
       "      <td>215.464</td>\n",
       "      <td>1</td>\n",
       "    </tr>\n",
       "    <tr>\n",
       "      <th>4</th>\n",
       "      <td>5</td>\n",
       "      <td>18</td>\n",
       "      <td>5</td>\n",
       "      <td>1</td>\n",
       "      <td>23</td>\n",
       "      <td>3</td>\n",
       "      <td>5</td>\n",
       "      <td>5</td>\n",
       "      <td>5</td>\n",
       "      <td>4.0</td>\n",
       "      <td>58</td>\n",
       "      <td>+18.014</td>\n",
       "      <td>5708630</td>\n",
       "      <td>43</td>\n",
       "      <td>1</td>\n",
       "      <td>1:27.418</td>\n",
       "      <td>218.385</td>\n",
       "      <td>1</td>\n",
       "    </tr>\n",
       "    <tr>\n",
       "      <th>...</th>\n",
       "      <td>...</td>\n",
       "      <td>...</td>\n",
       "      <td>...</td>\n",
       "      <td>...</td>\n",
       "      <td>...</td>\n",
       "      <td>...</td>\n",
       "      <td>...</td>\n",
       "      <td>...</td>\n",
       "      <td>...</td>\n",
       "      <td>...</td>\n",
       "      <td>...</td>\n",
       "      <td>...</td>\n",
       "      <td>...</td>\n",
       "      <td>...</td>\n",
       "      <td>...</td>\n",
       "      <td>...</td>\n",
       "      <td>...</td>\n",
       "      <td>...</td>\n",
       "    </tr>\n",
       "    <tr>\n",
       "      <th>25835</th>\n",
       "      <td>25841</td>\n",
       "      <td>1096</td>\n",
       "      <td>854</td>\n",
       "      <td>210</td>\n",
       "      <td>47</td>\n",
       "      <td>12</td>\n",
       "      <td>16</td>\n",
       "      <td>16</td>\n",
       "      <td>16</td>\n",
       "      <td>0.0</td>\n",
       "      <td>57</td>\n",
       "      <td>\\N</td>\n",
       "      <td>\\N</td>\n",
       "      <td>39</td>\n",
       "      <td>12</td>\n",
       "      <td>1:29.833</td>\n",
       "      <td>211.632</td>\n",
       "      <td>11</td>\n",
       "    </tr>\n",
       "    <tr>\n",
       "      <th>25836</th>\n",
       "      <td>25842</td>\n",
       "      <td>1096</td>\n",
       "      <td>825</td>\n",
       "      <td>210</td>\n",
       "      <td>20</td>\n",
       "      <td>16</td>\n",
       "      <td>17</td>\n",
       "      <td>17</td>\n",
       "      <td>17</td>\n",
       "      <td>0.0</td>\n",
       "      <td>57</td>\n",
       "      <td>\\N</td>\n",
       "      <td>\\N</td>\n",
       "      <td>40</td>\n",
       "      <td>20</td>\n",
       "      <td>1:31.158</td>\n",
       "      <td>208.556</td>\n",
       "      <td>11</td>\n",
       "    </tr>\n",
       "    <tr>\n",
       "      <th>25837</th>\n",
       "      <td>25843</td>\n",
       "      <td>1096</td>\n",
       "      <td>1</td>\n",
       "      <td>131</td>\n",
       "      <td>44</td>\n",
       "      <td>5</td>\n",
       "      <td>18</td>\n",
       "      <td>18</td>\n",
       "      <td>18</td>\n",
       "      <td>0.0</td>\n",
       "      <td>55</td>\n",
       "      <td>\\N</td>\n",
       "      <td>\\N</td>\n",
       "      <td>42</td>\n",
       "      <td>11</td>\n",
       "      <td>1:29.788</td>\n",
       "      <td>211.738</td>\n",
       "      <td>9</td>\n",
       "    </tr>\n",
       "    <tr>\n",
       "      <th>25838</th>\n",
       "      <td>25844</td>\n",
       "      <td>1096</td>\n",
       "      <td>849</td>\n",
       "      <td>3</td>\n",
       "      <td>6</td>\n",
       "      <td>20</td>\n",
       "      <td>19</td>\n",
       "      <td>19</td>\n",
       "      <td>19</td>\n",
       "      <td>0.0</td>\n",
       "      <td>55</td>\n",
       "      <td>\\N</td>\n",
       "      <td>\\N</td>\n",
       "      <td>45</td>\n",
       "      <td>14</td>\n",
       "      <td>1:30.309</td>\n",
       "      <td>210.517</td>\n",
       "      <td>130</td>\n",
       "    </tr>\n",
       "    <tr>\n",
       "      <th>25839</th>\n",
       "      <td>25845</td>\n",
       "      <td>1096</td>\n",
       "      <td>4</td>\n",
       "      <td>214</td>\n",
       "      <td>14</td>\n",
       "      <td>10</td>\n",
       "      <td>\\N</td>\n",
       "      <td>R</td>\n",
       "      <td>20</td>\n",
       "      <td>0.0</td>\n",
       "      <td>27</td>\n",
       "      <td>\\N</td>\n",
       "      <td>\\N</td>\n",
       "      <td>24</td>\n",
       "      <td>17</td>\n",
       "      <td>1:30.579</td>\n",
       "      <td>209.889</td>\n",
       "      <td>47</td>\n",
       "    </tr>\n",
       "  </tbody>\n",
       "</table>\n",
       "<p>25840 rows × 18 columns</p>\n",
       "</div>"
      ],
      "text/plain": [
       "       resultId  raceId  driverId  constructorId number  grid position  \\\n",
       "0             1      18         1              1     22     1        1   \n",
       "1             2      18         2              2      3     5        2   \n",
       "2             3      18         3              3      7     7        3   \n",
       "3             4      18         4              4      5    11        4   \n",
       "4             5      18         5              1     23     3        5   \n",
       "...         ...     ...       ...            ...    ...   ...      ...   \n",
       "25835     25841    1096       854            210     47    12       16   \n",
       "25836     25842    1096       825            210     20    16       17   \n",
       "25837     25843    1096         1            131     44     5       18   \n",
       "25838     25844    1096       849              3      6    20       19   \n",
       "25839     25845    1096         4            214     14    10       \\N   \n",
       "\n",
       "      positionText  positionOrder  points  laps         time milliseconds  \\\n",
       "0                1              1    10.0    58  1:34:50.616      5690616   \n",
       "1                2              2     8.0    58       +5.478      5696094   \n",
       "2                3              3     6.0    58       +8.163      5698779   \n",
       "3                4              4     5.0    58      +17.181      5707797   \n",
       "4                5              5     4.0    58      +18.014      5708630   \n",
       "...            ...            ...     ...   ...          ...          ...   \n",
       "25835           16             16     0.0    57           \\N           \\N   \n",
       "25836           17             17     0.0    57           \\N           \\N   \n",
       "25837           18             18     0.0    55           \\N           \\N   \n",
       "25838           19             19     0.0    55           \\N           \\N   \n",
       "25839            R             20     0.0    27           \\N           \\N   \n",
       "\n",
       "      fastestLap rank fastestLapTime fastestLapSpeed  statusId  \n",
       "0             39    2       1:27.452         218.300         1  \n",
       "1             41    3       1:27.739         217.586         1  \n",
       "2             41    5       1:28.090         216.719         1  \n",
       "3             58    7       1:28.603         215.464         1  \n",
       "4             43    1       1:27.418         218.385         1  \n",
       "...          ...  ...            ...             ...       ...  \n",
       "25835         39   12       1:29.833         211.632        11  \n",
       "25836         40   20       1:31.158         208.556        11  \n",
       "25837         42   11       1:29.788         211.738         9  \n",
       "25838         45   14       1:30.309         210.517       130  \n",
       "25839         24   17       1:30.579         209.889        47  \n",
       "\n",
       "[25840 rows x 18 columns]"
      ]
     },
     "execution_count": 46,
     "metadata": {},
     "output_type": "execute_result"
    }
   ],
   "source": [
    "# Write your own code\n",
    "\n",
    "results_agg = (results.groupby(\"constructorId\")\n",
    "                .agg(mean_laps=(\"laps\", \"mean\"),\n",
    "                    std_laps=(\"laps\", \"std\"))\n",
    "                .sort_values(\"mean_laps\", ascending=False))\n",
    "results_agg\n",
    "\n",
    "results"
   ]
  },
  {
   "cell_type": "markdown",
   "metadata": {},
   "source": [
    "<font size = \"5\" >\n",
    "\n",
    "(e) Query + Groupby + Aggregate\n",
    "\n",
    "<font size = \"3\">\n",
    "\n",
    "- Use \".query()\" to subset observations with <br>\n",
    "'race_id >= 200'\n",
    "- Compute the mean and standard deviation of \"laps\", <br>\n",
    "grouping by \"constructorId\". Store the new dataset <br>\n",
    "as \"results_agg\"\n",
    "\n",
    "Hint: See Lecture 11 (to refresh \".query()\") and <br>\n",
    "Lecture 14 for how to combine it with \".groupby()\""
   ]
  },
  {
   "cell_type": "code",
   "execution_count": 49,
   "metadata": {},
   "outputs": [
    {
     "data": {
      "application/vnd.microsoft.datawrangler.viewer.v0+json": {
       "columns": [
        {
         "name": "constructorId",
         "rawType": "int64",
         "type": "integer"
        },
        {
         "name": "mean_laps",
         "rawType": "float64",
         "type": "float"
        },
        {
         "name": "std_laps",
         "rawType": "float64",
         "type": "float"
        }
       ],
       "ref": "88801a50-a8c8-4d6b-946b-e47e6effee68",
       "rows": [
        [
         "1",
         "50.09351011863224",
         "23.147774451164214"
        ],
        [
         "3",
         "51.34962089300758",
         "21.06490226325233"
        ],
        [
         "4",
         "46.396449704142015",
         "22.565290146291048"
        ],
        [
         "5",
         "51.78787878787879",
         "18.28177357668892"
        ],
        [
         "6",
         "50.305797845048744",
         "25.953854015084552"
        ],
        [
         "9",
         "54.54633204633205",
         "17.275466892272735"
        ],
        [
         "10",
         "53.440677966101696",
         "18.26196330596334"
        ],
        [
         "11",
         "45.19565217391305",
         "32.12518538828817"
        ],
        [
         "15",
         "48.51789077212806",
         "21.12382987884325"
        ],
        [
         "17",
         "42.04132231404959",
         "25.50987009185173"
        ],
        [
         "18",
         "36.43990384615385",
         "26.518849745001404"
        ],
        [
         "20",
         "46.166666666666664",
         "22.130496272072776"
        ],
        [
         "21",
         "42.345982142857146",
         "25.464603356211263"
        ],
        [
         "22",
         "50.13681592039801",
         "22.26083614212592"
        ],
        [
         "24",
         "35.229166666666664",
         "21.452807764787053"
        ],
        [
         "25",
         "44.72800925925926",
         "25.836841709918176"
        ],
        [
         "26",
         "33.03636363636364",
         "26.81437794812722"
        ],
        [
         "27",
         "42.93617021276596",
         "25.630812356029534"
        ],
        [
         "28",
         "33.407407407407405",
         "27.018175935608443"
        ],
        [
         "29",
         "36.90721649484536",
         "26.709173473778044"
        ],
        [
         "30",
         "17.484848484848484",
         "22.48913749705189"
        ],
        [
         "31",
         "36.825",
         "24.79235562498847"
        ],
        [
         "32",
         "42.36509758897819",
         "27.69322708530935"
        ],
        [
         "33",
         "38.625",
         "25.68671948964162"
        ],
        [
         "34",
         "40.483383685800604",
         "27.04569219477136"
        ],
        [
         "35",
         "37.6875",
         "25.41968532649258"
        ],
        [
         "36",
         "17.523809523809526",
         "21.92585965746683"
        ],
        [
         "37",
         "36.791984732824424",
         "29.114737298908775"
        ],
        [
         "38",
         "0.7333333333333333",
         "2.8401877872187726"
        ],
        [
         "39",
         "16.51219512195122",
         "25.8239201141108"
        ],
        [
         "40",
         "8.1875",
         "21.991842329196935"
        ],
        [
         "41",
         "33.34375",
         "25.383545945393546"
        ],
        [
         "42",
         "6.444444444444445",
         "17.362315513778682"
        ],
        [
         "44",
         "11.06578947368421",
         "23.085542677220182"
        ],
        [
         "45",
         "19.21031746031746",
         "22.795981785310065"
        ],
        [
         "46",
         "20.73076923076923",
         "26.091930526742708"
        ],
        [
         "47",
         "0.0",
         "0.0"
        ],
        [
         "48",
         "18.166666666666668",
         "27.004596404137473"
        ],
        [
         "49",
         "21.639097744360903",
         "24.770564870996633"
        ],
        [
         "50",
         "22.929577464788732",
         "23.42606847306282"
        ],
        [
         "51",
         "45.481572481572485",
         "24.125268920301735"
        ],
        [
         "52",
         "37.2",
         "26.492137198295897"
        ],
        [
         "53",
         "22.076335877862597",
         "23.86971635312464"
        ],
        [
         "54",
         "28.580246913580247",
         "27.403977676338137"
        ],
        [
         "55",
         "28.171875",
         "27.990108619931355"
        ],
        [
         "56",
         "34.47741935483871",
         "28.51801332852828"
        ],
        [
         "57",
         "28.98051948051948",
         "28.333326592668353"
        ],
        [
         "58",
         "38.76303317535545",
         "28.370856245262843"
        ],
        [
         "59",
         "40.379746835443036",
         "27.31830596799016"
        ],
        [
         "60",
         "8.5",
         "16.58604154684138"
        ]
       ],
       "shape": {
        "columns": 2,
        "rows": 201
       }
      },
      "text/html": [
       "<div>\n",
       "<style scoped>\n",
       "    .dataframe tbody tr th:only-of-type {\n",
       "        vertical-align: middle;\n",
       "    }\n",
       "\n",
       "    .dataframe tbody tr th {\n",
       "        vertical-align: top;\n",
       "    }\n",
       "\n",
       "    .dataframe thead th {\n",
       "        text-align: right;\n",
       "    }\n",
       "</style>\n",
       "<table border=\"1\" class=\"dataframe\">\n",
       "  <thead>\n",
       "    <tr style=\"text-align: right;\">\n",
       "      <th></th>\n",
       "      <th>mean_laps</th>\n",
       "      <th>std_laps</th>\n",
       "    </tr>\n",
       "    <tr>\n",
       "      <th>constructorId</th>\n",
       "      <th></th>\n",
       "      <th></th>\n",
       "    </tr>\n",
       "  </thead>\n",
       "  <tbody>\n",
       "    <tr>\n",
       "      <th>1</th>\n",
       "      <td>50.093510</td>\n",
       "      <td>23.147774</td>\n",
       "    </tr>\n",
       "    <tr>\n",
       "      <th>3</th>\n",
       "      <td>51.349621</td>\n",
       "      <td>21.064902</td>\n",
       "    </tr>\n",
       "    <tr>\n",
       "      <th>4</th>\n",
       "      <td>46.396450</td>\n",
       "      <td>22.565290</td>\n",
       "    </tr>\n",
       "    <tr>\n",
       "      <th>5</th>\n",
       "      <td>51.787879</td>\n",
       "      <td>18.281774</td>\n",
       "    </tr>\n",
       "    <tr>\n",
       "      <th>6</th>\n",
       "      <td>50.305798</td>\n",
       "      <td>25.953854</td>\n",
       "    </tr>\n",
       "    <tr>\n",
       "      <th>...</th>\n",
       "      <td>...</td>\n",
       "      <td>...</td>\n",
       "    </tr>\n",
       "    <tr>\n",
       "      <th>209</th>\n",
       "      <td>52.282051</td>\n",
       "      <td>19.522147</td>\n",
       "    </tr>\n",
       "    <tr>\n",
       "      <th>210</th>\n",
       "      <td>51.434028</td>\n",
       "      <td>19.915741</td>\n",
       "    </tr>\n",
       "    <tr>\n",
       "      <th>211</th>\n",
       "      <td>54.684211</td>\n",
       "      <td>17.680279</td>\n",
       "    </tr>\n",
       "    <tr>\n",
       "      <th>213</th>\n",
       "      <td>52.393443</td>\n",
       "      <td>19.883361</td>\n",
       "    </tr>\n",
       "    <tr>\n",
       "      <th>214</th>\n",
       "      <td>54.204545</td>\n",
       "      <td>17.951505</td>\n",
       "    </tr>\n",
       "  </tbody>\n",
       "</table>\n",
       "<p>201 rows × 2 columns</p>\n",
       "</div>"
      ],
      "text/plain": [
       "               mean_laps   std_laps\n",
       "constructorId                      \n",
       "1              50.093510  23.147774\n",
       "3              51.349621  21.064902\n",
       "4              46.396450  22.565290\n",
       "5              51.787879  18.281774\n",
       "6              50.305798  25.953854\n",
       "...                  ...        ...\n",
       "209            52.282051  19.522147\n",
       "210            51.434028  19.915741\n",
       "211            54.684211  17.680279\n",
       "213            52.393443  19.883361\n",
       "214            54.204545  17.951505\n",
       "\n",
       "[201 rows x 2 columns]"
      ]
     },
     "execution_count": 49,
     "metadata": {},
     "output_type": "execute_result"
    }
   ],
   "source": [
    "# Write your own code\n",
    "\n",
    "results_agg = (results.query(\"raceId >= 200\")\n",
    "                .groupby(\"constructorId\")\n",
    "                .agg(mean_laps=(\"laps\", \"mean\"),\n",
    "                    std_laps=(\"laps\", \"std\"))) \n",
    "\n",
    "results_agg\n",
    "\n",
    "\n"
   ]
  },
  {
   "attachments": {},
   "cell_type": "markdown",
   "metadata": {},
   "source": [
    "\n",
    "<font size = \"5\">\n",
    "\n",
    "(f) Replace the values of a column\n",
    "\n",
    "<font size = \"3\">\n",
    "\n",
    "- Import the \"data_raw/constructor_standings.csv\" file\n",
    "- Replace the values \"E\" with 11 in the column \"positionText\"\n",
    "- Create a new column \"positionNumeric\" that converts <br>\n",
    "the modified \"positionText\" column from string to numeric <br>\n",
    "using ```pd.to_numeric()```\n",
    "\n"
   ]
  },
  {
   "cell_type": "code",
   "execution_count": null,
   "metadata": {},
   "outputs": [],
   "source": [
    "# Write your own code\n",
    "\n",
    "constructors = pd.read_csv(\"data_raw/constructor_standings.csv\")\n",
    "\n",
    "constructors[\"positionText\"] = constructors[\"positionText\"].replace(\"E\", 11)\n",
    "\n",
    "constructors[\"positionNumeric\"] = pd.to_numeric(constructors[\"positionText\"])\n",
    " "
   ]
  },
  {
   "attachments": {},
   "cell_type": "markdown",
   "metadata": {},
   "source": [
    "<font size = \"5\">\n",
    "\n",
    "(g) Recode a numeric colum\n",
    "\n",
    "<font size = \"3\">\n",
    "\n",
    "- Import the \"data_raw/races.csv\" file\n",
    "- Recode the \"year\" column into a new column \"year_brackets\" <br>\n",
    "with the following categories\n",
    "\n",
    "$\\qquad$ ``` [\"1950-1970\",\"1971-1990\",\"1991-2005\", \"2006-2020\", \"2020-onwards\"] ```\n",
    "\n",
    "$\\qquad$ HINT: Use the \"pd.cut()\" command. "
   ]
  },
  {
   "cell_type": "code",
   "execution_count": 61,
   "metadata": {},
   "outputs": [],
   "source": [
    "# Write your own code\n",
    "\n",
    "races = pd.read_csv(\"data_raw/races.csv\")\n",
    "year_brackets = pd.cut(races['year'], bins=[1950, 1971, 1991, 2006, 2020, float(\"inf\")],\n",
    "                       labels = ['1950-1970', '1971-1990', '1991-2005', '2006-2020', '2020-onwards'],\n",
    "                       right=False)\n",
    "\n",
    "\n"
   ]
  },
  {
   "attachments": {},
   "cell_type": "markdown",
   "metadata": {},
   "source": [
    "<font size = \"5\">\n",
    "\n",
    "(h) Aggregate and query\n",
    "\n",
    "<font size = \"3\">\n",
    "\n",
    "- Import the \"data_raw/constructor_standings.csv\" file\n",
    "- Subset the observations for 'raceId == 10' using ```.query()```\n",
    "- Obtain the sum of \"points\" by \"constructorId\" <br> \n",
    "(the team) using ``` .groupby().agg() ```\n",
    "- Subset the teams with a sum of points $\\ge 50$\n",
    "- Store the results of all these operations in a dataframe <br>\n",
    "```constructor_standings_agg ```"
   ]
  },
  {
   "cell_type": "code",
   "execution_count": 82,
   "metadata": {},
   "outputs": [
    {
     "data": {
      "application/vnd.microsoft.datawrangler.viewer.v0+json": {
       "columns": [
        {
         "name": "constructorId",
         "rawType": "int64",
         "type": "integer"
        },
        {
         "name": "constr_points",
         "rawType": "float64",
         "type": "float"
        }
       ],
       "ref": "8e1a0f32-1d8a-4061-842d-bb4e5529538b",
       "rows": [
        [
         "9",
         "98.5"
        ],
        [
         "23",
         "114.0"
        ]
       ],
       "shape": {
        "columns": 1,
        "rows": 2
       }
      },
      "text/html": [
       "<div>\n",
       "<style scoped>\n",
       "    .dataframe tbody tr th:only-of-type {\n",
       "        vertical-align: middle;\n",
       "    }\n",
       "\n",
       "    .dataframe tbody tr th {\n",
       "        vertical-align: top;\n",
       "    }\n",
       "\n",
       "    .dataframe thead th {\n",
       "        text-align: right;\n",
       "    }\n",
       "</style>\n",
       "<table border=\"1\" class=\"dataframe\">\n",
       "  <thead>\n",
       "    <tr style=\"text-align: right;\">\n",
       "      <th></th>\n",
       "      <th>constr_points</th>\n",
       "    </tr>\n",
       "    <tr>\n",
       "      <th>constructorId</th>\n",
       "      <th></th>\n",
       "    </tr>\n",
       "  </thead>\n",
       "  <tbody>\n",
       "    <tr>\n",
       "      <th>9</th>\n",
       "      <td>98.5</td>\n",
       "    </tr>\n",
       "    <tr>\n",
       "      <th>23</th>\n",
       "      <td>114.0</td>\n",
       "    </tr>\n",
       "  </tbody>\n",
       "</table>\n",
       "</div>"
      ],
      "text/plain": [
       "               constr_points\n",
       "constructorId               \n",
       "9                       98.5\n",
       "23                     114.0"
      ]
     },
     "execution_count": 82,
     "metadata": {},
     "output_type": "execute_result"
    }
   ],
   "source": [
    "# Write your own code\n",
    "standings = pd.read_csv(\"data_raw/constructor_standings.csv\")\n",
    "first_ten = standings.query(\"raceId == 10\")\n",
    "first_ten_grouped = first_ten.groupby(\"constructorId\")\n",
    "points_agg = first_ten_grouped.agg(constr_points=(\"points\", \"sum\"))\n",
    "constructor_standings_agg = points_agg.query(\"constr_points >= 50\")\n",
    "\n",
    "constructor_standings_agg\n",
    "      "
   ]
  },
  {
   "attachments": {},
   "cell_type": "markdown",
   "metadata": {},
   "source": [
    "<font size = \"5\">\n",
    "\n",
    "(i) Aggregate and sort\n",
    "\n",
    "<font size = \"3\">\n",
    "\n",
    "- Import the \"data_raw/constructor_standings.csv\" file\n",
    "- Obtain the sum of \"points\" by \"constructorId\" <br> \n",
    "(the team) using ``` .groupby().agg() ```\n",
    "- Sort the teams in descending order using of <br>\n",
    "the sum of points using ``` .sort_values() ```"
   ]
  },
  {
   "cell_type": "code",
   "execution_count": null,
   "metadata": {},
   "outputs": [
    {
     "data": {
      "application/vnd.microsoft.datawrangler.viewer.v0+json": {
       "columns": [
        {
         "name": "constructorId",
         "rawType": "int64",
         "type": "integer"
        },
        {
         "name": "total_points",
         "rawType": "float64",
         "type": "float"
        }
       ],
       "ref": "77a5fc30-0f34-46f2-a02b-fd616bf55aed",
       "rows": [
        [
         "6",
         "90204.0"
        ],
        [
         "131",
         "71808.5"
        ],
        [
         "9",
         "64986.5"
        ],
        [
         "1",
         "57188.5"
        ],
        [
         "3",
         "32093.5"
        ],
        [
         "4",
         "17168.0"
        ],
        [
         "10",
         "10347.0"
        ],
        [
         "32",
         "7742.0"
        ],
        [
         "208",
         "7485.0"
        ],
        [
         "22",
         "7349.5"
        ],
        [
         "15",
         "5530.0"
        ],
        [
         "5",
         "5193.0"
        ],
        [
         "25",
         "5125.0"
        ],
        [
         "34",
         "4575.0"
        ],
        [
         "214",
         "3404.0"
        ],
        [
         "27",
         "3289.0"
        ],
        [
         "210",
         "3159.0"
        ],
        [
         "2",
         "2932.0"
        ],
        [
         "213",
         "2864.0"
        ],
        [
         "7",
         "2763.0"
        ],
        [
         "17",
         "2502.0"
        ],
        [
         "66",
         "2383.0"
        ],
        [
         "211",
         "2349.0"
        ],
        [
         "51",
         "2003.0"
        ],
        [
         "16",
         "1907.0"
        ],
        [
         "23",
         "1752.0"
        ],
        [
         "117",
         "1499.0"
        ],
        [
         "172",
         "1370.0"
        ],
        [
         "21",
         "1314.0"
        ],
        [
         "170",
         "1174.0"
        ],
        [
         "11",
         "1062.0"
        ],
        [
         "180",
         "1043.0"
        ],
        [
         "37",
         "1014.5"
        ],
        [
         "187",
         "791.0"
        ],
        [
         "196",
         "713.0"
        ],
        [
         "191",
         "696.0"
        ],
        [
         "59",
         "687.0"
        ],
        [
         "56",
         "461.0"
        ],
        [
         "58",
         "429.0"
        ],
        [
         "82",
         "394.0"
        ],
        [
         "18",
         "382.0"
        ],
        [
         "19",
         "378.0"
        ],
        [
         "167",
         "360.0"
        ],
        [
         "24",
         "358.0"
        ],
        [
         "20",
         "347.0"
        ],
        [
         "63",
         "339.0"
        ],
        [
         "64",
         "289.0"
        ],
        [
         "183",
         "284.0"
        ],
        [
         "118",
         "247.0"
        ],
        [
         "87",
         "243.0"
        ]
       ],
       "shape": {
        "columns": 1,
        "rows": 159
       }
      },
      "text/html": [
       "<div>\n",
       "<style scoped>\n",
       "    .dataframe tbody tr th:only-of-type {\n",
       "        vertical-align: middle;\n",
       "    }\n",
       "\n",
       "    .dataframe tbody tr th {\n",
       "        vertical-align: top;\n",
       "    }\n",
       "\n",
       "    .dataframe thead th {\n",
       "        text-align: right;\n",
       "    }\n",
       "</style>\n",
       "<table border=\"1\" class=\"dataframe\">\n",
       "  <thead>\n",
       "    <tr style=\"text-align: right;\">\n",
       "      <th></th>\n",
       "      <th>total_points</th>\n",
       "    </tr>\n",
       "    <tr>\n",
       "      <th>constructorId</th>\n",
       "      <th></th>\n",
       "    </tr>\n",
       "  </thead>\n",
       "  <tbody>\n",
       "    <tr>\n",
       "      <th>6</th>\n",
       "      <td>90204.0</td>\n",
       "    </tr>\n",
       "    <tr>\n",
       "      <th>131</th>\n",
       "      <td>71808.5</td>\n",
       "    </tr>\n",
       "    <tr>\n",
       "      <th>9</th>\n",
       "      <td>64986.5</td>\n",
       "    </tr>\n",
       "    <tr>\n",
       "      <th>1</th>\n",
       "      <td>57188.5</td>\n",
       "    </tr>\n",
       "    <tr>\n",
       "      <th>3</th>\n",
       "      <td>32093.5</td>\n",
       "    </tr>\n",
       "    <tr>\n",
       "      <th>...</th>\n",
       "      <td>...</td>\n",
       "    </tr>\n",
       "    <tr>\n",
       "      <th>201</th>\n",
       "      <td>0.0</td>\n",
       "    </tr>\n",
       "    <tr>\n",
       "      <th>198</th>\n",
       "      <td>0.0</td>\n",
       "    </tr>\n",
       "    <tr>\n",
       "      <th>203</th>\n",
       "      <td>0.0</td>\n",
       "    </tr>\n",
       "    <tr>\n",
       "      <th>199</th>\n",
       "      <td>0.0</td>\n",
       "    </tr>\n",
       "    <tr>\n",
       "      <th>207</th>\n",
       "      <td>0.0</td>\n",
       "    </tr>\n",
       "  </tbody>\n",
       "</table>\n",
       "<p>159 rows × 1 columns</p>\n",
       "</div>"
      ],
      "text/plain": [
       "               total_points\n",
       "constructorId              \n",
       "6                   90204.0\n",
       "131                 71808.5\n",
       "9                   64986.5\n",
       "1                   57188.5\n",
       "3                   32093.5\n",
       "...                     ...\n",
       "201                     0.0\n",
       "198                     0.0\n",
       "203                     0.0\n",
       "199                     0.0\n",
       "207                     0.0\n",
       "\n",
       "[159 rows x 1 columns]"
      ]
     },
     "execution_count": 96,
     "metadata": {},
     "output_type": "execute_result"
    }
   ],
   "source": [
    "# Write your own code\n",
    "\n",
    "standings = pd.read_csv(\"data_raw/constructor_standings.csv\")\n",
    "\n",
    "\n",
    "sum_points = standings.groupby(\"constructorId\").agg(\n",
    "    total_points=(\"points\", \"sum\"))\n",
    "    points_sorted = sum_points.sort_values(\"total_points\", ascending=False)\n",
    "\n",
    "points_sorted\n",
    "\n"
   ]
  },
  {
   "attachments": {},
   "cell_type": "markdown",
   "metadata": {},
   "source": [
    "<font size = \"5\">\n",
    "\n",
    "(j) Rename column\n",
    "\n",
    "<font size = \"3\">\n",
    "\n",
    "- Import the \"data_raw/constructor_standings.csv\" file\n",
    "- Rename the column \"wins\" to \"wins_constructor\"\n",
    "\n",
    "HINT: Create a dictionary and use ```.rename(columns = ...)``` <br>"
   ]
  },
  {
   "cell_type": "code",
   "execution_count": 101,
   "metadata": {},
   "outputs": [],
   "source": [
    "# Write your own code\n",
    "\n",
    "standings = pd.read_csv(\"data_raw/constructor_standings.csv\")\n",
    "\n",
    "# rename the column \"wins\" to \"wins_constructor\" ... create a dictionary and use .rename(columns = ... )\n",
    "standings = standings.rename(columns={\"wins\": \"wins_constructor\"})\n",
    "\n"
   ]
  },
  {
   "attachments": {},
   "cell_type": "markdown",
   "metadata": {},
   "source": [
    "<font size = \"5\">\n",
    "\n",
    "(k) Merge dataset\n",
    "\n",
    "<font size = \"3\">\n",
    "\n",
    "- Import the \"data_raw/constructor_standings.csv\" and <br>\n",
    "\"data_raw/constructors.csv\" files\n",
    "- Create a new dataset with  ```pd.merge()``` using <br>\n",
    "\"constructor_standings\" as the primary dataset, and <br>\n",
    "\"constructors\" as the secondary dataset, merging on <br>\n",
    "the column \"constructorId\"\n",
    "- To get full points **ONLY** merge the \"nationality\" column <br>\n",
    "from the secondary dataset (not all the columns)\n",
    "\n",
    "HINT: Use ```[[...]]``` to extract a subset of columns <br>\n",
    "from the secondary dataset before merging, including the <br>\n",
    "\"constructorId\" column"
   ]
  },
  {
   "cell_type": "code",
   "execution_count": null,
   "metadata": {},
   "outputs": [],
   "source": [
    "# Write your own code\n",
    "\n",
    "\n",
    "merged_data = pd.merge(standings, constructors, on = [\"constructorId\"], how = \"left\")\n",
    "\n",
    "\n",
    "\n",
    "\n"
   ]
  }
 ],
 "metadata": {
  "kernelspec": {
   "display_name": "base",
   "language": "python",
   "name": "python3"
  },
  "language_info": {
   "codemirror_mode": {
    "name": "ipython",
    "version": 3
   },
   "file_extension": ".py",
   "mimetype": "text/x-python",
   "name": "python",
   "nbconvert_exporter": "python",
   "pygments_lexer": "ipython3",
   "version": "3.13.5"
  },
  "orig_nbformat": 4,
  "vscode": {
   "interpreter": {
    "hash": "45fc1f684f6f416f40889115beff3ddf69879b64cf4bfee48cb72a61e9d15d1a"
   }
  }
 },
 "nbformat": 4,
 "nbformat_minor": 2
}
