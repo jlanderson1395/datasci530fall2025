{
 "cells": [
  {
   "attachments": {},
   "cell_type": "markdown",
   "metadata": {},
   "source": [
    "# Lecture 2 Exercises"
   ]
  },
  {
   "cell_type": "markdown",
   "metadata": {},
   "source": [
    "\n",
    "\n",
    "## Short Questions\n",
    "\n",
    "<font size = \"5\">\n",
    "\n",
    "1. How do you check whether an element is part of a list?\n",
    "2. How do you reference a global variable in ```.query()```?\n"
   ]
  },
  {
   "cell_type": "code",
   "execution_count": null,
   "metadata": {},
   "outputs": [],
   "source": [
    "# Write your answers here as comments:\n",
    "\n",
    "#1 You can use the \"in\" condition to check if a string is within a list.\n",
    "#2 Using the @ sign is how to reference a global variable.\n",
    "\n"
   ]
  },
  {
   "cell_type": "markdown",
   "metadata": {},
   "source": [
    "\n",
    "\n",
    "## Long Questions"
   ]
  },
  {
   "attachments": {},
   "cell_type": "markdown",
   "metadata": {},
   "source": [
    "<font size = \"5\">\n",
    "\n",
    "Import the pandas and matplotlib packages"
   ]
  },
  {
   "cell_type": "code",
   "execution_count": 1,
   "metadata": {},
   "outputs": [],
   "source": [
    "# Write your own code\n",
    "\n",
    "import pandas as pd\n",
    "import numpy as np      \n",
    "import matplotlib.pyplot as plt\n"
   ]
  },
  {
   "cell_type": "markdown",
   "metadata": {},
   "source": [
    "<font size = \"5\">\n",
    "\n",
    "(a) Checking a string condition\n",
    "\n",
    "<font size = \"3\">\n",
    "\n",
    "- Define a variable \"fruit\" with the value \"apple\"\n",
    "- Define a list\n",
    "\n",
    "list_fruits = [\"banana\",\"orange\",\"apple\"]\n",
    "- Write an expression to test whether \"fruit\" is contained in \"list_fruits\"\n",
    "\n",
    "Hint: Use the \"in\" command. The final output should be True/False.\n",
    "\n",
    "To get full points run all of the above commands\n"
   ]
  },
  {
   "cell_type": "code",
   "execution_count": 13,
   "metadata": {},
   "outputs": [
    {
     "name": "stdout",
     "output_type": "stream",
     "text": [
      "True\n"
     ]
    }
   ],
   "source": [
    "# Write your own code\n",
    "\n",
    "fruit = 'apple'\n",
    "\n",
    "list_fruits = ['banana', 'orange', 'apple']\n",
    "\n",
    "print(fruit in list_fruits)\n",
    "\n",
    "\n",
    "\n"
   ]
  },
  {
   "cell_type": "markdown",
   "metadata": {},
   "source": [
    "<font size = \"5\">\n",
    "\n",
    "(b) Classifying a variable\n",
    "\n",
    "<font size = \"3\">\n",
    "\n",
    "- Define a new variable \"year\" an assign the value \"2008\"\n",
    "- Write an if/else statement that does the following\n",
    "    - print(\"Year 2000 or earlier\") if the year is less than or equal to  2000.\n",
    "    - print(\"Between 2001 and 2005\") if the year is between 2001 and 2005.\n",
    "    - print(\"Year 2006 or later\") if the year is after 2005.\n",
    "\n",
    "To get full points you must do all of the above instructions\n"
   ]
  },
  {
   "cell_type": "code",
   "execution_count": 17,
   "metadata": {},
   "outputs": [
    {
     "name": "stdout",
     "output_type": "stream",
     "text": [
      "Year 2005 or later\n"
     ]
    }
   ],
   "source": [
    "# Write your own code\n",
    "\n",
    "year = 2008\n",
    "\n",
    "if year <= 2000:\n",
    "    print(\"Year 2000 or earlier\")\n",
    "elif year >= 2001 and year <= 2005:\n",
    "    print(\"Between 2001 and 2005\")\n",
    "elif year > 2005:\n",
    "    print(\"Year 2005 or later\")\n"
   ]
  },
  {
   "cell_type": "markdown",
   "metadata": {},
   "source": [
    "<font size = \"5\">\n",
    "\n",
    "(c) Split a dataset into subsets\n",
    "\n",
    "<font size = \"3\">\n",
    "\n",
    "- Import the \"features.csv\" file as a pandas dataframe called \"data\"\n",
    "- Create ``` list_status = [0,1]```\n",
    "- Create ``` list_prob = [0.5, 0.5]```\n",
    "- Create a new variable $n = 1000$ with the number of rows of the dataset\n",
    "- Use \n",
    "```python\n",
    "    np.random.choice(list_status,\n",
    "                     size = n,\n",
    "                     p = list_prob)\n",
    "```\n",
    "$\\qquad$ to create a new column called \"status\" <br>\n",
    "$\\qquad$ which randomly assigns each row to \"0\" or \"1\" <br>\n",
    "$\\qquad$ with equal probability\n",
    "- Use .query() to subset all observations with status == 0.<br>\n",
    "store it in a new dataset called \"data0\"\n",
    "- Use .query() to subset all observations with status == 1.<br>\n",
    "store it in a new dataset called \"data1\"\n",
    "\n"
   ]
  },
  {
   "cell_type": "code",
   "execution_count": 22,
   "metadata": {},
   "outputs": [
    {
     "name": "stdout",
     "output_type": "stream",
     "text": [
      "     status\n",
      "0         0\n",
      "4         0\n",
      "8         0\n",
      "9         0\n",
      "10        0\n",
      "..      ...\n",
      "988       0\n",
      "989       0\n",
      "996       0\n",
      "998       0\n",
      "999       0\n",
      "\n",
      "[511 rows x 1 columns]\n",
      "     status\n",
      "1         1\n",
      "2         1\n",
      "3         1\n",
      "5         1\n",
      "6         1\n",
      "..      ...\n",
      "992       1\n",
      "993       1\n",
      "994       1\n",
      "995       1\n",
      "997       1\n",
      "\n",
      "[489 rows x 1 columns]\n"
     ]
    }
   ],
   "source": [
    "# Write your own code\n",
    "\n",
    "\n",
    "list_status = [0, 1]\n",
    "list_prob = [0.5, 0.5]\n",
    "n = 1000\n",
    "\n",
    "\n",
    "df = pd.DataFrame({\n",
    "    \"status\": np.random.choice(list_status, size=n, p=list_prob)\n",
    "})\n",
    "\n",
    "\n",
    "data0 = df.query(\"status == 0\")\n",
    "data1 = df.query(\"status == 1\")\n",
    "\n",
    "\n",
    "print(data0)\n",
    "print(data1)\n",
    "\n",
    "\n",
    "\n"
   ]
  },
  {
   "cell_type": "markdown",
   "metadata": {},
   "source": [
    "<font size = \"5\">\n",
    "\n",
    "For questions (d) through (f) mport the dataset <br>\n",
    " \"data_raw/fifa23_players_basic.csv\"\n",
    "\n",
    "<font size = \"3\">\n",
    "\n",
    "- It's a dataset on professional soccer players\n",
    "- Rows correspond to players (18,539)\n",
    "- Columns contain attributes of players (32)\n",
    "- Try to view the dataset before starting"
   ]
  },
  {
   "cell_type": "code",
   "execution_count": 24,
   "metadata": {},
   "outputs": [
    {
     "data": {
      "application/vnd.microsoft.datawrangler.viewer.v0+json": {
       "columns": [
        {
         "name": "index",
         "rawType": "int64",
         "type": "integer"
        },
        {
         "name": "Known As",
         "rawType": "object",
         "type": "string"
        },
        {
         "name": "Full Name",
         "rawType": "object",
         "type": "string"
        },
        {
         "name": "Overall",
         "rawType": "int64",
         "type": "integer"
        },
        {
         "name": "Potential",
         "rawType": "int64",
         "type": "integer"
        },
        {
         "name": "Value(in Euro)",
         "rawType": "int64",
         "type": "integer"
        },
        {
         "name": "Positions Played",
         "rawType": "object",
         "type": "string"
        },
        {
         "name": "Best Position",
         "rawType": "object",
         "type": "string"
        },
        {
         "name": "Nationality",
         "rawType": "object",
         "type": "string"
        },
        {
         "name": "Image Link",
         "rawType": "object",
         "type": "string"
        },
        {
         "name": "Age",
         "rawType": "int64",
         "type": "integer"
        },
        {
         "name": "Height(in cm)",
         "rawType": "int64",
         "type": "integer"
        },
        {
         "name": "Weight(in kg)",
         "rawType": "int64",
         "type": "integer"
        },
        {
         "name": "TotalStats",
         "rawType": "int64",
         "type": "integer"
        },
        {
         "name": "BaseStats",
         "rawType": "int64",
         "type": "integer"
        },
        {
         "name": "Club Name",
         "rawType": "object",
         "type": "string"
        },
        {
         "name": "Wage(in Euro)",
         "rawType": "int64",
         "type": "integer"
        },
        {
         "name": "Release Clause",
         "rawType": "int64",
         "type": "integer"
        },
        {
         "name": "Club Position",
         "rawType": "object",
         "type": "string"
        },
        {
         "name": "Contract Until",
         "rawType": "object",
         "type": "string"
        },
        {
         "name": "Club Jersey Number",
         "rawType": "object",
         "type": "string"
        },
        {
         "name": "Joined On",
         "rawType": "int64",
         "type": "integer"
        },
        {
         "name": "On Loan",
         "rawType": "object",
         "type": "string"
        },
        {
         "name": "Preferred Foot",
         "rawType": "object",
         "type": "string"
        },
        {
         "name": "Weak Foot Rating",
         "rawType": "int64",
         "type": "integer"
        },
        {
         "name": "Skill Moves",
         "rawType": "int64",
         "type": "integer"
        },
        {
         "name": "International Reputation",
         "rawType": "int64",
         "type": "integer"
        },
        {
         "name": "National Team Name",
         "rawType": "object",
         "type": "string"
        },
        {
         "name": "National Team Image Link",
         "rawType": "object",
         "type": "string"
        },
        {
         "name": "National Team Position",
         "rawType": "object",
         "type": "string"
        },
        {
         "name": "National Team Jersey Number",
         "rawType": "object",
         "type": "string"
        },
        {
         "name": "Attacking Work Rate",
         "rawType": "object",
         "type": "string"
        },
        {
         "name": "Defensive Work Rate",
         "rawType": "object",
         "type": "string"
        }
       ],
       "ref": "732bac6c-9b62-423e-a075-2073e0bef813",
       "rows": [
        [
         "0",
         "L. Messi",
         "Lionel Messi",
         "91",
         "91",
         "54000000",
         "RW",
         "CAM",
         "Argentina",
         "https://cdn.sofifa.net/players/158/023/23_60.png",
         "35",
         "169",
         "67",
         "2190",
         "452",
         "Paris Saint-Germain",
         "195000",
         "99900000",
         "RW",
         "2023",
         "30",
         "2021",
         "-",
         "Left",
         "4",
         "4",
         "5",
         "Argentina",
         "https://cdn.sofifa.net/flags/ar.png",
         "RW",
         "10",
         "Low",
         "Low"
        ],
        [
         "1",
         "K. Benzema",
         "Karim Benzema",
         "91",
         "91",
         "64000000",
         "CF,ST",
         "CF",
         "France",
         "https://cdn.sofifa.net/players/165/153/23_60.png",
         "34",
         "185",
         "81",
         "2147",
         "455",
         "Real Madrid CF",
         "450000",
         "131199999",
         "CF",
         "2023",
         "9",
         "2009",
         "-",
         "Right",
         "4",
         "4",
         "4",
         "France",
         "https://cdn.sofifa.net/flags/fr.png",
         "ST",
         "19",
         "Medium",
         "Medium"
        ],
        [
         "2",
         "R. Lewandowski",
         "Robert Lewandowski",
         "91",
         "91",
         "84000000",
         "ST",
         "ST",
         "Poland",
         "https://cdn.sofifa.net/players/188/545/23_60.png",
         "33",
         "185",
         "81",
         "2205",
         "458",
         "FC Barcelona",
         "420000",
         "172200000",
         "ST",
         "2025",
         "9",
         "2022",
         "-",
         "Right",
         "4",
         "4",
         "5",
         "Poland",
         "https://cdn.sofifa.net/flags/pl.png",
         "ST",
         "9",
         "High",
         "Medium"
        ],
        [
         "3",
         "K. De Bruyne",
         "Kevin De Bruyne",
         "91",
         "91",
         "107500000",
         "CM,CAM",
         "CM",
         "Belgium",
         "https://cdn.sofifa.net/players/192/985/23_60.png",
         "31",
         "181",
         "70",
         "2303",
         "483",
         "Manchester City",
         "350000",
         "198900000",
         "CM",
         "2025",
         "17",
         "2015",
         "-",
         "Right",
         "5",
         "4",
         "4",
         "Belgium",
         "https://cdn.sofifa.net/flags/be.png",
         "RF",
         "7",
         "High",
         "High"
        ],
        [
         "4",
         "K. Mbappé",
         "Kylian Mbappé",
         "91",
         "95",
         "190500000",
         "ST,LW",
         "ST",
         "France",
         "https://cdn.sofifa.net/players/231/747/23_60.png",
         "23",
         "182",
         "73",
         "2177",
         "470",
         "Paris Saint-Germain",
         "230000",
         "366700000",
         "ST",
         "2024",
         "7",
         "2018",
         "-",
         "Right",
         "4",
         "5",
         "4",
         "France",
         "https://cdn.sofifa.net/flags/fr.png",
         "ST",
         "10",
         "High",
         "Low"
        ]
       ],
       "shape": {
        "columns": 32,
        "rows": 5
       }
      },
      "text/html": [
       "<div>\n",
       "<style scoped>\n",
       "    .dataframe tbody tr th:only-of-type {\n",
       "        vertical-align: middle;\n",
       "    }\n",
       "\n",
       "    .dataframe tbody tr th {\n",
       "        vertical-align: top;\n",
       "    }\n",
       "\n",
       "    .dataframe thead th {\n",
       "        text-align: right;\n",
       "    }\n",
       "</style>\n",
       "<table border=\"1\" class=\"dataframe\">\n",
       "  <thead>\n",
       "    <tr style=\"text-align: right;\">\n",
       "      <th></th>\n",
       "      <th>Known As</th>\n",
       "      <th>Full Name</th>\n",
       "      <th>Overall</th>\n",
       "      <th>Potential</th>\n",
       "      <th>Value(in Euro)</th>\n",
       "      <th>Positions Played</th>\n",
       "      <th>Best Position</th>\n",
       "      <th>Nationality</th>\n",
       "      <th>Image Link</th>\n",
       "      <th>Age</th>\n",
       "      <th>...</th>\n",
       "      <th>Preferred Foot</th>\n",
       "      <th>Weak Foot Rating</th>\n",
       "      <th>Skill Moves</th>\n",
       "      <th>International Reputation</th>\n",
       "      <th>National Team Name</th>\n",
       "      <th>National Team Image Link</th>\n",
       "      <th>National Team Position</th>\n",
       "      <th>National Team Jersey Number</th>\n",
       "      <th>Attacking Work Rate</th>\n",
       "      <th>Defensive Work Rate</th>\n",
       "    </tr>\n",
       "  </thead>\n",
       "  <tbody>\n",
       "    <tr>\n",
       "      <th>0</th>\n",
       "      <td>L. Messi</td>\n",
       "      <td>Lionel Messi</td>\n",
       "      <td>91</td>\n",
       "      <td>91</td>\n",
       "      <td>54000000</td>\n",
       "      <td>RW</td>\n",
       "      <td>CAM</td>\n",
       "      <td>Argentina</td>\n",
       "      <td>https://cdn.sofifa.net/players/158/023/23_60.png</td>\n",
       "      <td>35</td>\n",
       "      <td>...</td>\n",
       "      <td>Left</td>\n",
       "      <td>4</td>\n",
       "      <td>4</td>\n",
       "      <td>5</td>\n",
       "      <td>Argentina</td>\n",
       "      <td>https://cdn.sofifa.net/flags/ar.png</td>\n",
       "      <td>RW</td>\n",
       "      <td>10</td>\n",
       "      <td>Low</td>\n",
       "      <td>Low</td>\n",
       "    </tr>\n",
       "    <tr>\n",
       "      <th>1</th>\n",
       "      <td>K. Benzema</td>\n",
       "      <td>Karim Benzema</td>\n",
       "      <td>91</td>\n",
       "      <td>91</td>\n",
       "      <td>64000000</td>\n",
       "      <td>CF,ST</td>\n",
       "      <td>CF</td>\n",
       "      <td>France</td>\n",
       "      <td>https://cdn.sofifa.net/players/165/153/23_60.png</td>\n",
       "      <td>34</td>\n",
       "      <td>...</td>\n",
       "      <td>Right</td>\n",
       "      <td>4</td>\n",
       "      <td>4</td>\n",
       "      <td>4</td>\n",
       "      <td>France</td>\n",
       "      <td>https://cdn.sofifa.net/flags/fr.png</td>\n",
       "      <td>ST</td>\n",
       "      <td>19</td>\n",
       "      <td>Medium</td>\n",
       "      <td>Medium</td>\n",
       "    </tr>\n",
       "    <tr>\n",
       "      <th>2</th>\n",
       "      <td>R. Lewandowski</td>\n",
       "      <td>Robert Lewandowski</td>\n",
       "      <td>91</td>\n",
       "      <td>91</td>\n",
       "      <td>84000000</td>\n",
       "      <td>ST</td>\n",
       "      <td>ST</td>\n",
       "      <td>Poland</td>\n",
       "      <td>https://cdn.sofifa.net/players/188/545/23_60.png</td>\n",
       "      <td>33</td>\n",
       "      <td>...</td>\n",
       "      <td>Right</td>\n",
       "      <td>4</td>\n",
       "      <td>4</td>\n",
       "      <td>5</td>\n",
       "      <td>Poland</td>\n",
       "      <td>https://cdn.sofifa.net/flags/pl.png</td>\n",
       "      <td>ST</td>\n",
       "      <td>9</td>\n",
       "      <td>High</td>\n",
       "      <td>Medium</td>\n",
       "    </tr>\n",
       "    <tr>\n",
       "      <th>3</th>\n",
       "      <td>K. De Bruyne</td>\n",
       "      <td>Kevin De Bruyne</td>\n",
       "      <td>91</td>\n",
       "      <td>91</td>\n",
       "      <td>107500000</td>\n",
       "      <td>CM,CAM</td>\n",
       "      <td>CM</td>\n",
       "      <td>Belgium</td>\n",
       "      <td>https://cdn.sofifa.net/players/192/985/23_60.png</td>\n",
       "      <td>31</td>\n",
       "      <td>...</td>\n",
       "      <td>Right</td>\n",
       "      <td>5</td>\n",
       "      <td>4</td>\n",
       "      <td>4</td>\n",
       "      <td>Belgium</td>\n",
       "      <td>https://cdn.sofifa.net/flags/be.png</td>\n",
       "      <td>RF</td>\n",
       "      <td>7</td>\n",
       "      <td>High</td>\n",
       "      <td>High</td>\n",
       "    </tr>\n",
       "    <tr>\n",
       "      <th>4</th>\n",
       "      <td>K. Mbappé</td>\n",
       "      <td>Kylian Mbappé</td>\n",
       "      <td>91</td>\n",
       "      <td>95</td>\n",
       "      <td>190500000</td>\n",
       "      <td>ST,LW</td>\n",
       "      <td>ST</td>\n",
       "      <td>France</td>\n",
       "      <td>https://cdn.sofifa.net/players/231/747/23_60.png</td>\n",
       "      <td>23</td>\n",
       "      <td>...</td>\n",
       "      <td>Right</td>\n",
       "      <td>4</td>\n",
       "      <td>5</td>\n",
       "      <td>4</td>\n",
       "      <td>France</td>\n",
       "      <td>https://cdn.sofifa.net/flags/fr.png</td>\n",
       "      <td>ST</td>\n",
       "      <td>10</td>\n",
       "      <td>High</td>\n",
       "      <td>Low</td>\n",
       "    </tr>\n",
       "  </tbody>\n",
       "</table>\n",
       "<p>5 rows × 32 columns</p>\n",
       "</div>"
      ],
      "text/plain": [
       "         Known As           Full Name  Overall  Potential  Value(in Euro)  \\\n",
       "0        L. Messi        Lionel Messi       91         91        54000000   \n",
       "1      K. Benzema       Karim Benzema       91         91        64000000   \n",
       "2  R. Lewandowski  Robert Lewandowski       91         91        84000000   \n",
       "3    K. De Bruyne     Kevin De Bruyne       91         91       107500000   \n",
       "4       K. Mbappé       Kylian Mbappé       91         95       190500000   \n",
       "\n",
       "  Positions Played Best Position Nationality  \\\n",
       "0               RW           CAM   Argentina   \n",
       "1            CF,ST            CF      France   \n",
       "2               ST            ST      Poland   \n",
       "3           CM,CAM            CM     Belgium   \n",
       "4            ST,LW            ST      France   \n",
       "\n",
       "                                         Image Link  Age  ...  Preferred Foot  \\\n",
       "0  https://cdn.sofifa.net/players/158/023/23_60.png   35  ...            Left   \n",
       "1  https://cdn.sofifa.net/players/165/153/23_60.png   34  ...           Right   \n",
       "2  https://cdn.sofifa.net/players/188/545/23_60.png   33  ...           Right   \n",
       "3  https://cdn.sofifa.net/players/192/985/23_60.png   31  ...           Right   \n",
       "4  https://cdn.sofifa.net/players/231/747/23_60.png   23  ...           Right   \n",
       "\n",
       "   Weak Foot Rating  Skill Moves  International Reputation National Team Name  \\\n",
       "0                 4            4                         5          Argentina   \n",
       "1                 4            4                         4             France   \n",
       "2                 4            4                         5             Poland   \n",
       "3                 5            4                         4            Belgium   \n",
       "4                 4            5                         4             France   \n",
       "\n",
       "              National Team Image Link  National Team Position  \\\n",
       "0  https://cdn.sofifa.net/flags/ar.png                      RW   \n",
       "1  https://cdn.sofifa.net/flags/fr.png                      ST   \n",
       "2  https://cdn.sofifa.net/flags/pl.png                      ST   \n",
       "3  https://cdn.sofifa.net/flags/be.png                      RF   \n",
       "4  https://cdn.sofifa.net/flags/fr.png                      ST   \n",
       "\n",
       "  National Team Jersey Number Attacking Work Rate Defensive Work Rate  \n",
       "0                          10                 Low                 Low  \n",
       "1                          19              Medium              Medium  \n",
       "2                           9                High              Medium  \n",
       "3                           7                High                High  \n",
       "4                          10                High                 Low  \n",
       "\n",
       "[5 rows x 32 columns]"
      ]
     },
     "execution_count": 24,
     "metadata": {},
     "output_type": "execute_result"
    }
   ],
   "source": [
    "# Write your own code\n",
    "\n",
    "fifa_players = pd.read_csv(\"data_raw/fifa23_players_basic.csv\")\n",
    "fifa_players.head()\n",
    "\n",
    "\n"
   ]
  },
  {
   "cell_type": "markdown",
   "metadata": {},
   "source": [
    "<font size = \"5\">\n",
    "\n",
    "(d) Create a new dataset subsetting the <br>\n",
    "players whose age is less than 20"
   ]
  },
  {
   "cell_type": "code",
   "execution_count": 27,
   "metadata": {},
   "outputs": [
    {
     "name": "stdout",
     "output_type": "stream",
     "text": [
      "            Known As             Full Name  Overall  Potential  \\\n",
      "82             Pedri  Pedro González López       85         93   \n",
      "124    J. Bellingham       Jude Bellingham       84         91   \n",
      "225         F. Wirtz         Florian Wirtz       82         91   \n",
      "302       J. Musiala         Jamal Musiala       81         90   \n",
      "527        Ansu Fati        Anssumane Fati       79         90   \n",
      "...              ...                   ...      ...        ...   \n",
      "18530         S. Bag             Sajal Bag       48         61   \n",
      "18533      Pi Ziyang             Ziyang Pi       47         60   \n",
      "18535   Yang Dejiang          Dejiang Yang       47         57   \n",
      "18536      L. Mullan           Liam Mullan       47         67   \n",
      "18537   D. McCallion      Daithí McCallion       47         61   \n",
      "\n",
      "       Value(in Euro) Positions Played Best Position          Nationality  \\\n",
      "82          116000000               CM            CM                Spain   \n",
      "124          81500000            CM,LM            CM              England   \n",
      "225          66000000           CAM,CM           CAM              Germany   \n",
      "302          55500000        CM,LM,CAM           CAM              Germany   \n",
      "527          38000000               LW           CAM                Spain   \n",
      "...               ...              ...           ...                  ...   \n",
      "18530          110000            CM,RM            RM                India   \n",
      "18533          110000               CM           CAM             China PR   \n",
      "18535           90000              CDM           CDM             China PR   \n",
      "18536          130000               CM            RM     Northern Ireland   \n",
      "18537          100000               CB            CB  Republic of Ireland   \n",
      "\n",
      "                                             Image Link  Age  ...  \\\n",
      "82     https://cdn.sofifa.net/players/251/854/23_60.png   19  ...   \n",
      "124    https://cdn.sofifa.net/players/252/371/23_60.png   19  ...   \n",
      "225    https://cdn.sofifa.net/players/256/630/23_60.png   19  ...   \n",
      "302    https://cdn.sofifa.net/players/256/790/23_60.png   19  ...   \n",
      "527    https://cdn.sofifa.net/players/253/004/23_60.png   19  ...   \n",
      "...                                                 ...  ...  ...   \n",
      "18530  https://cdn.sofifa.net/players/270/739/23_60.png   19  ...   \n",
      "18533  https://cdn.sofifa.net/players/269/066/23_60.png   19  ...   \n",
      "18535  https://cdn.sofifa.net/players/261/933/23_60.png   17  ...   \n",
      "18536  https://cdn.sofifa.net/players/267/823/23_60.png   18  ...   \n",
      "18537  https://cdn.sofifa.net/players/267/824/23_60.png   17  ...   \n",
      "\n",
      "       Preferred Foot  Weak Foot Rating  Skill Moves  \\\n",
      "82              Right                 4            4   \n",
      "124             Right                 4            4   \n",
      "225             Right                 4            4   \n",
      "302             Right                 4            4   \n",
      "527             Right                 4            4   \n",
      "...               ...               ...          ...   \n",
      "18530           Right                 4            2   \n",
      "18533           Right                 3            2   \n",
      "18535           Right                 3            2   \n",
      "18536           Right                 3            2   \n",
      "18537           Right                 3            2   \n",
      "\n",
      "       International Reputation National Team Name  \\\n",
      "82                            2              Spain   \n",
      "124                           2            England   \n",
      "225                           2                  -   \n",
      "302                           1            Germany   \n",
      "527                           2                  -   \n",
      "...                         ...                ...   \n",
      "18530                         1                  -   \n",
      "18533                         1                  -   \n",
      "18535                         1                  -   \n",
      "18536                         1                  -   \n",
      "18537                         1                  -   \n",
      "\n",
      "                      National Team Image Link  National Team Position  \\\n",
      "82         https://cdn.sofifa.net/flags/es.png                      CM   \n",
      "124    https://cdn.sofifa.net/flags/gb-eng.png                     SUB   \n",
      "225        https://cdn.sofifa.net/flags/de.png                       -   \n",
      "302        https://cdn.sofifa.net/flags/de.png                     SUB   \n",
      "527        https://cdn.sofifa.net/flags/es.png                       -   \n",
      "...                                        ...                     ...   \n",
      "18530                                        -                       -   \n",
      "18533                                        -                       -   \n",
      "18535                                        -                       -   \n",
      "18536                                        -                       -   \n",
      "18537                                        -                       -   \n",
      "\n",
      "      National Team Jersey Number Attacking Work Rate Defensive Work Rate  \n",
      "82                             10                High                High  \n",
      "124                            26                High                High  \n",
      "225                             -                High              Medium  \n",
      "302                            14              Medium              Medium  \n",
      "527                             -                High              Medium  \n",
      "...                           ...                 ...                 ...  \n",
      "18530                           -              Medium              Medium  \n",
      "18533                           -              Medium              Medium  \n",
      "18535                           -              Medium              Medium  \n",
      "18536                           -                High              Medium  \n",
      "18537                           -              Medium              Medium  \n",
      "\n",
      "[1945 rows x 32 columns]\n"
     ]
    }
   ],
   "source": [
    "# Write your own code\n",
    "\n",
    "young_dudes = fifa_players[fifa_players['Age'] < 20]\n",
    "print(young_dudes)\n",
    "\n",
    "\n",
    "\n"
   ]
  },
  {
   "cell_type": "markdown",
   "metadata": {},
   "source": [
    "<font size = \"5\">\n",
    "\n",
    "(e) Use queries + global variables\n",
    "\n",
    "<font size = \"3\">\n",
    "\n",
    "- Compute the mean of the column \"Value(in Euro)\" <br>\n",
    "and store it as a variable\n",
    "- Subset the players whose value is above the mean value <br>\n",
    "  using \".query()\"\n",
    "\n",
    "\n",
    "HINT: Remember that there is a special syntax for <br>\n",
    "when the column names have spaces (see Lecture 10) <br>\n",
    "Reference the column as ``` `Value(in Euro)`    ``` inside .query()"
   ]
  },
  {
   "cell_type": "code",
   "execution_count": null,
   "metadata": {},
   "outputs": [
    {
     "name": "stdout",
     "output_type": "stream",
     "text": [
      "2875461.4033658775\n"
     ]
    }
   ],
   "source": [
    "# Write your own code\n",
    "\n",
    "mean_value = fifa_players['Value(in Euro)'].mean()  \n",
    "print(mean_value)\n",
    "\n",
    "above_mean = fifa_players.query(\"`Value(in Euro)` > @mean_value\")\n",
    "print(above_mean)\n",
    "\n"
   ]
  },
  {
   "cell_type": "markdown",
   "metadata": {},
   "source": [
    "<font size = \"5\">\n",
    "\n",
    "(f) Use sorting + \".iloc[]\"\n",
    "\n",
    "<font size = \"3\">\n",
    "\n",
    "- Use \".sort_values()\" to order the \"Age\" column <br>\n",
    "from youngest to oldest\n",
    "- Get a subset with the 5 youngest players"
   ]
  },
  {
   "cell_type": "code",
   "execution_count": null,
   "metadata": {},
   "outputs": [
    {
     "name": "stdout",
     "output_type": "stream",
     "text": [
      "           Known As          Full Name  Overall  Potential  Value(in Euro)  \\\n",
      "18425     M. Moraru       Matei Moraru       50         72          150000   \n",
      "18232     B. Faraas    Benjamin Faraas       51         76          180000   \n",
      "18284    D. Lipsiuc     Darius Lipsiuc       51         65          130000   \n",
      "18014     J. Ardila        José Ardila       53         73          250000   \n",
      "16880   M. Kowalski   Mateusz Kowalski       56         75          350000   \n",
      "...             ...                ...      ...        ...             ...   \n",
      "4499      G. Pegolo    Gianluca Pegolo       70         70          180000   \n",
      "7701   N. Penneteau  Nicolas Penneteau       67         67          110000   \n",
      "13548      S. Lukić       Stojan Lukić       62         62           45000   \n",
      "3276     S. Torrico  Sebastián Torrico       72         72          250000   \n",
      "592       G. Buffon   Gianluigi Buffon       79         79         1900000   \n",
      "\n",
      "      Positions Played Best Position             Nationality  \\\n",
      "18425            CM,RW           CAM                 Romania   \n",
      "18232               CM           CAM                  Norway   \n",
      "18284              CAM           CAM     Republic of Ireland   \n",
      "18014               CM           CAM               Venezuela   \n",
      "16880               ST            ST                  Poland   \n",
      "...                ...           ...                     ...   \n",
      "4499                GK            GK                   Italy   \n",
      "7701                GK            GK                  France   \n",
      "13548               GK            GK  Bosnia and Herzegovina   \n",
      "3276                GK            GK               Argentina   \n",
      "592                 GK            GK                   Italy   \n",
      "\n",
      "                                             Image Link  Age  ...  \\\n",
      "18425  https://cdn.sofifa.net/players/271/182/23_60.png   16  ...   \n",
      "18232  https://cdn.sofifa.net/players/271/433/23_60.png   16  ...   \n",
      "18284  https://cdn.sofifa.net/players/268/281/23_60.png   16  ...   \n",
      "18014  https://cdn.sofifa.net/players/268/892/23_60.png   16  ...   \n",
      "16880  https://cdn.sofifa.net/players/270/716/23_60.png   16  ...   \n",
      "...                                                 ...  ...  ...   \n",
      "4499   https://cdn.sofifa.net/players/106/795/23_60.png   41  ...   \n",
      "7701   https://cdn.sofifa.net/players/018/122/23_60.png   41  ...   \n",
      "13548  https://cdn.sofifa.net/players/213/483/23_60.png   42  ...   \n",
      "3276   https://cdn.sofifa.net/players/216/692/23_60.png   42  ...   \n",
      "592    https://cdn.sofifa.net/players/001/179/23_60.png   44  ...   \n",
      "\n",
      "       Preferred Foot  Weak Foot Rating  Skill Moves  \\\n",
      "18425           Right                 2            2   \n",
      "18232           Right                 2            2   \n",
      "18284           Right                 3            2   \n",
      "18014           Right                 3            2   \n",
      "16880           Right                 2            2   \n",
      "...               ...               ...          ...   \n",
      "4499             Left                 2            1   \n",
      "7701             Left                 3            1   \n",
      "13548           Right                 2            1   \n",
      "3276            Right                 2            1   \n",
      "592             Right                 2            1   \n",
      "\n",
      "       International Reputation National Team Name  \\\n",
      "18425                         1                  -   \n",
      "18232                         1                  -   \n",
      "18284                         1                  -   \n",
      "18014                         1                  -   \n",
      "16880                         1                  -   \n",
      "...                         ...                ...   \n",
      "4499                          1                  -   \n",
      "7701                          2                  -   \n",
      "13548                         1                  -   \n",
      "3276                          1                  -   \n",
      "592                           4                  -   \n",
      "\n",
      "                  National Team Image Link  National Team Position  \\\n",
      "18425  https://cdn.sofifa.net/flags/ro.png                       -   \n",
      "18232  https://cdn.sofifa.net/flags/no.png                       -   \n",
      "18284                                    -                       -   \n",
      "18014  https://cdn.sofifa.net/flags/ve.png                       -   \n",
      "16880  https://cdn.sofifa.net/flags/pl.png                       -   \n",
      "...                                    ...                     ...   \n",
      "4499   https://cdn.sofifa.net/flags/it.png                       -   \n",
      "7701   https://cdn.sofifa.net/flags/fr.png                       -   \n",
      "13548                                    -                       -   \n",
      "3276   https://cdn.sofifa.net/flags/ar.png                       -   \n",
      "592    https://cdn.sofifa.net/flags/it.png                       -   \n",
      "\n",
      "      National Team Jersey Number Attacking Work Rate Defensive Work Rate  \n",
      "18425                           -              Medium              Medium  \n",
      "18232                           -              Medium              Medium  \n",
      "18284                           -              Medium              Medium  \n",
      "18014                           -              Medium              Medium  \n",
      "16880                           -                High              Medium  \n",
      "...                           ...                 ...                 ...  \n",
      "4499                            -              Medium              Medium  \n",
      "7701                            -              Medium              Medium  \n",
      "13548                           -              Medium              Medium  \n",
      "3276                            -              Medium              Medium  \n",
      "592                             -              Medium              Medium  \n",
      "\n",
      "[18539 rows x 32 columns]\n"
     ]
    }
   ],
   "source": [
    "# Write your own code\n",
    "\n",
    "fifa_players_youngest = fifa_players.sort_values(by='Age')\n",
    "print(fifa_players_youngest)\n",
    "\n",
    "fifa_players_youngest = fifa_players.sort_values(by='Age').iloc[0:5]\n",
    "print(fifa_players_youngest)\n",
    "\n",
    "\n",
    "\n"
   ]
  },
  {
   "cell_type": "markdown",
   "metadata": {},
   "source": [
    "<font size = \"5\">\n",
    "For questions (h)-(i), read \"data_raw/wdi_2020.csv\" <br>\n",
    "This is a dataset of countries from <br>\n",
    "the World Development Indicators"
   ]
  },
  {
   "cell_type": "markdown",
   "metadata": {},
   "source": [
    "<font size = \"5\">\n",
    "\n",
    "(g) Extract sorted elements from a dataset\n",
    "\n",
    "<font size = \"3\">\n",
    "\n",
    "- Sort by \"prop_urbanpopulation\" in descending order\n",
    "- Subset the 5 countries with the highest urban population"
   ]
  },
  {
   "cell_type": "code",
   "execution_count": 40,
   "metadata": {},
   "outputs": [
    {
     "name": "stdout",
     "output_type": "stream",
     "text": [
      "     year yearcode                countryname countrycode  \\\n",
      "213  2020   YR2020  Sint Maarten (Dutch part)         SXM   \n",
      "24   2020   YR2020                    Bermuda         BMU   \n",
      "103  2020   YR2020       Hong Kong SAR, China         HKG   \n",
      "90   2020   YR2020                  Gibraltar         GIB   \n",
      "212  2020   YR2020                  Singapore         SGP   \n",
      "\n",
      "     prop_urbanpopulation  \n",
      "213                 100.0  \n",
      "24                  100.0  \n",
      "103                 100.0  \n",
      "90                  100.0  \n",
      "212                 100.0  \n"
     ]
    }
   ],
   "source": [
    "# Write your own code\n",
    "\n",
    "wdi = pd.read_csv(\"data_raw/wdi_2020.csv\")\n",
    "wdi_sorted = wdi.sort_values(by=\"prop_urbanpopulation\", ascending=False)\n",
    "top_5 = wdi_sorted.iloc[0:5]\n",
    "print(top_5)\n"
   ]
  },
  {
   "cell_type": "markdown",
   "metadata": {},
   "source": [
    "<font size = \"5\">\n",
    "\n",
    "(h) Subset elements with query\n",
    "\n",
    "<font size = \"3\">\n",
    "\n",
    "- Compute the median of \"prop_urbanpopulation\"\n",
    "- Use \".query()\" to subset countries with <br>\n",
    " \"prop_urbanpopulation\" above the median"
   ]
  },
  {
   "cell_type": "code",
   "execution_count": null,
   "metadata": {},
   "outputs": [
    {
     "name": "stdout",
     "output_type": "stream",
     "text": [
      "60.69872843\n"
     ]
    }
   ],
   "source": [
    "# Write your own code\n",
    "\n",
    "median_pop = wdi['prop_urbanpopulation'].median()\n",
    "print(median_pop)\n",
    "above_median = wdi.query(\"prop_urbanpopulation > @median_pop\")\n",
    "print(above_median)\n",
    "\n",
    "\n",
    "\n"
   ]
  },
  {
   "cell_type": "markdown",
   "metadata": {},
   "source": [
    "<font size = \"5\">\n",
    "\n",
    "(i) Plot by category\n",
    "\n",
    "<font size = \"3\">\n",
    "\n",
    "- Read \"data_raw/wdi_urban.csv\"<br>\n",
    "This contains data from 1980 and 2020\n",
    "\n",
    "- Create a list with the unique values of \"year\"\n",
    "- Create a plot with a ...\n",
    "    - Histogram of \"prop_urbanpopulation\" <br>\n",
    "    for each year\n",
    "    - Set the histogram option ``` alpha = 0.5 ``` for transparency\n",
    "    - All the histograms should be overlapping\n",
    "    - Create a legend with the list of years\n",
    "    - Label the axes and the title\n",
    "\n",
    "What do we learn from the graph?\n",
    "\n",
    "HINT: See the example at the end of Lecture 10\n"
   ]
  },
  {
   "cell_type": "code",
   "execution_count": 53,
   "metadata": {},
   "outputs": [
    {
     "data": {
      "image/png": "[encoded data removed]",
      "text/plain": [
       "<Figure size 640x480 with 1 Axes>"
      ]
     },
     "metadata": {},
     "output_type": "display_data"
    }
   ],
   "source": [
    "import matplotlib.pyplot as plt\n",
    "\n",
    "# Subset the data for each year\n",
    "urban_1980 = urban_data[urban_data['year'] == 1980]\n",
    "urban_2020 = urban_data[urban_data['year'] == 2020]\n",
    "\n",
    "# Plot overlapping histograms\n",
    "plt.hist(urban_1980['prop_urbanpopulation'], alpha=0.5, label=\"1980\")\n",
    "plt.hist(urban_2020['prop_urbanpopulation'], alpha=0.5, label=\"2020\")\n",
    "\n",
    "# Add labels, title, and legend\n",
    "plt.xlabel(\"Proportion Urban Population\")\n",
    "plt.ylabel(\"Number of Countries\")\n",
    "plt.title(\"Urban Population: 1980 vs 2020\")\n",
    "plt.legend()\n",
    "plt.show()\n",
    "\n",
    "\n",
    "\n",
    "\n",
    "\n",
    "\n",
    "\n",
    "\n",
    "\n"
   ]
  },
  {
   "cell_type": "markdown",
   "metadata": {},
   "source": [
    "# Review of last lecture\n"
   ]
  },
  {
   "cell_type": "markdown",
   "metadata": {},
   "source": [
    "<font size = \"5\">\n",
    "\n",
    "(k) Composite operations on arrays\n",
    "\n",
    "<font size = \"3\">\n",
    "\n",
    "- Define $r = 0.04$\n",
    "- Define two arrays $A$ and $T$ using \"np.array()\", assigning the following values\n",
    "\n",
    "$ a = \\begin{pmatrix} a_0 \\\\ a_1 \\\\ a_2 \\end{pmatrix} =  \\begin{pmatrix} 20 \\\\ 30 \\\\ 15 \\end{pmatrix},\n",
    "\\qquad  t = \\begin{pmatrix} t_0 \\\\ t_1 \\\\ t_2 \\end{pmatrix} = \\begin{pmatrix} 0 \\\\ 1 \\\\ 2 \\end{pmatrix} $\n",
    "\n",
    "- Use element-by-element vector operations to compute a new array $M$ of length 3:\n",
    "\n",
    "$ M = \\begin{pmatrix} a_1 / (1+r)^{t_0}  \\\\ a_2 / (1+r)^{t_1} \\\\ a_3 / (1+r)^{t_2} \\end{pmatrix} $\n",
    "\n",
    "- Compute the sum of the values of $M$ using \"M.sum()\"\n",
    "\n",
    "Note: I am using subscripts to denote the individual elements of $a$ and $t$.\n",
    "- In the code just enter the values of $a$ and $t$.\n",
    "- To get full points you must do all of the above tasks\n",
    "\n"
   ]
  },
  {
   "cell_type": "code",
   "execution_count": 62,
   "metadata": {},
   "outputs": [
    {
     "name": "stdout",
     "output_type": "stream",
     "text": [
      "M = [20.         28.84615385 13.8683432 ]\n",
      "Sum M = 62.71449704142012\n"
     ]
    }
   ],
   "source": [
    "# Write your own code\n",
    "\n",
    "import numpy as np\n",
    "\n",
    "R = .04\n",
    "\n",
    "vec_a = np.array([20, 30, 15])\n",
    "vec_t = np.array([0, 1, 2])\n",
    "\n",
    "M = vec_a / (1 + R) ** vec_t\n",
    "\n",
    "\n",
    "result = M.sum()\n",
    "\n",
    "print(\"M =\", M)\n",
    "print(\"Sum M =\", result)\n",
    "\n",
    "\n"
   ]
  }
 ],
 "metadata": {
  "kernelspec": {
   "display_name": "base",
   "language": "python",
   "name": "python3"
  },
  "language_info": {
   "codemirror_mode": {
    "name": "ipython",
    "version": 3
   },
   "file_extension": ".py",
   "mimetype": "text/x-python",
   "name": "python",
   "nbconvert_exporter": "python",
   "pygments_lexer": "ipython3",
   "version": "3.13.5"
  },
  "orig_nbformat": 4
 },
 "nbformat": 4,
 "nbformat_minor": 2
}
