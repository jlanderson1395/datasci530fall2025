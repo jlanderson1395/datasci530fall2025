{
 "cells": [
  {
   "attachments": {},
   "cell_type": "markdown",
   "metadata": {},
   "source": [
    "# <span style=\"color:darkblue\"> Lecture 2b: Subsetting Data </span>\n",
    "\n",
    "<font size = \"5\">\n",
    "\n",
    "In this lecture, we will work on subsetting data.\n"
   ]
  },
  {
   "attachments": {},
   "cell_type": "markdown",
   "metadata": {},
   "source": [
    "## <span style=\"color:darkblue\"> I. Import Libraries and Read Files</span>"
   ]
  },
  {
   "cell_type": "code",
   "execution_count": 1,
   "metadata": {},
   "outputs": [],
   "source": [
    "# the \"pandas\" library is for manipualting datasets\n",
    "# the \"matplotlib.pyplot\" library is for creating graphs\n",
    "import pandas as pd\n",
    "import matplotlib.pyplot as plt"
   ]
  },
  {
   "cell_type": "code",
   "execution_count": 2,
   "metadata": {},
   "outputs": [],
   "source": [
    "# Read the car features dataset\n",
    "carfeatures = pd.read_csv(\"data_raw/features.csv\")"
   ]
  },
  {
   "attachments": {},
   "cell_type": "markdown",
   "metadata": {},
   "source": [
    "## <span style=\"color:darkblue\"> II. Basic data display </span>\n",
    "\n",
    "<font size = \"5\">"
   ]
  },
  {
   "attachments": {},
   "cell_type": "markdown",
   "metadata": {},
   "source": [
    "<font size = \"5\">\n",
    "\n",
    "Display a dataset\n",
    "\n",
    "- Remember that in VS-Code there is also a data viewer.\n",
    "- Go to the variables tab at the top of the notebook"
   ]
  },
  {
   "cell_type": "code",
   "execution_count": 3,
   "metadata": {},
   "outputs": [
    {
     "data": {
      "application/vnd.microsoft.datawrangler.viewer.v0+json": {
       "columns": [
        {
         "name": "index",
         "rawType": "int64",
         "type": "integer"
        },
        {
         "name": "mpg",
         "rawType": "float64",
         "type": "float"
        },
        {
         "name": "cylinders",
         "rawType": "int64",
         "type": "integer"
        },
        {
         "name": "displacement",
         "rawType": "int64",
         "type": "integer"
        },
        {
         "name": "horsepower",
         "rawType": "object",
         "type": "unknown"
        },
        {
         "name": "weight",
         "rawType": "int64",
         "type": "integer"
        },
        {
         "name": "acceleration",
         "rawType": "float64",
         "type": "float"
        },
        {
         "name": "vehicle_id",
         "rawType": "object",
         "type": "string"
        }
       ],
       "ref": "1cd14e13-e189-4a57-8f73-8bffd24fabc4",
       "rows": [
        [
         "0",
         "18.0",
         "8",
         "307",
         "130",
         "3504",
         "12.0",
         "C-1689780"
        ],
        [
         "1",
         "15.0",
         "8",
         "350",
         "165",
         "3693",
         "11.5",
         "B-1689791"
        ],
        [
         "2",
         "18.0",
         "8",
         "318",
         "150",
         "3436",
         "11.0",
         "P-1689802"
        ],
        [
         "3",
         "16.0",
         "8",
         "304",
         "150",
         "3433",
         "12.0",
         "A-1689813"
        ],
        [
         "4",
         "17.0",
         "8",
         "302",
         "140",
         "3449",
         "10.5",
         "F-1689824"
        ],
        [
         "5",
         "15.0",
         "8",
         "429",
         "198",
         "4341",
         "10.0",
         "F-1689835"
        ],
        [
         "6",
         "14.0",
         "8",
         "454",
         "220",
         "4354",
         "9.0",
         "C-1689846"
        ],
        [
         "7",
         "14.0",
         "8",
         "440",
         "215",
         "4312",
         "8.5",
         "P-1689857"
        ],
        [
         "8",
         "14.0",
         "8",
         "455",
         "225",
         "4425",
         "10.0",
         "P-1689868"
        ],
        [
         "9",
         "15.0",
         "8",
         "390",
         "190",
         "3850",
         "8.5",
         "A-1689879"
        ],
        [
         "10",
         "15.0",
         "8",
         "383",
         "170",
         "3563",
         "10.0",
         "D-1689890"
        ],
        [
         "11",
         "14.0",
         "8",
         "340",
         "160",
         "3609",
         "8.0",
         "P-1689901"
        ],
        [
         "12",
         "15.0",
         "8",
         "400",
         "150",
         "3761",
         "9.5",
         "C-1689912"
        ],
        [
         "13",
         "14.0",
         "8",
         "455",
         "225",
         "3086",
         "10.0",
         "B-1689923"
        ],
        [
         "14",
         "24.0",
         "4",
         "113",
         "95",
         "2372",
         "15.0",
         "T-1689934"
        ],
        [
         "15",
         "22.0",
         "6",
         "198",
         "95",
         "2833",
         "15.5",
         "P-1689945"
        ],
        [
         "16",
         "18.0",
         "6",
         "199",
         "97",
         "2774",
         "15.5",
         "A-1689956"
        ],
        [
         "17",
         "21.0",
         "6",
         "200",
         "85",
         "2587",
         "16.0",
         "F-1689967"
        ],
        [
         "18",
         "27.0",
         "4",
         "97",
         "88",
         "2130",
         "14.5",
         "D-1689978"
        ],
        [
         "19",
         "26.0",
         "4",
         "97",
         "46",
         "1835",
         "20.5",
         "V-1689989"
        ],
        [
         "20",
         "25.0",
         "4",
         "110",
         "87",
         "2672",
         "17.5",
         "P-1690000"
        ],
        [
         "21",
         "24.0",
         "4",
         "107",
         "90",
         "2430",
         "14.5",
         "A-1690011"
        ],
        [
         "22",
         "25.0",
         "4",
         "104",
         "95",
         "2375",
         "17.5",
         "S-1690022"
        ],
        [
         "23",
         "26.0",
         "4",
         "121",
         "113",
         "2234",
         "12.5",
         "B-1690033"
        ],
        [
         "24",
         "21.0",
         "6",
         "199",
         "90",
         "2648",
         "15.0",
         "A-1690044"
        ],
        [
         "25",
         "10.0",
         "8",
         "360",
         "215",
         "4615",
         "14.0",
         "F-1690055"
        ],
        [
         "26",
         "10.0",
         "8",
         "307",
         "200",
         "4376",
         "15.0",
         "C-1690066"
        ],
        [
         "27",
         "11.0",
         "8",
         "318",
         "210",
         "4382",
         "13.5",
         "D-1690077"
        ],
        [
         "28",
         "9.0",
         "8",
         "304",
         "193",
         "4732",
         "18.5",
         "H-1690088"
        ],
        [
         "29",
         "27.0",
         "4",
         "97",
         "88",
         "2130",
         "14.5",
         "D-1690099"
        ],
        [
         "30",
         "28.0",
         "4",
         "140",
         "90",
         "2264",
         "15.5",
         "C-1690110"
        ],
        [
         "31",
         "25.0",
         "4",
         "113",
         "95",
         "2228",
         "14.0",
         "T-1690121"
        ],
        [
         "32",
         "25.0",
         "4",
         "98",
         null,
         "2046",
         "19.0",
         "F-1690132"
        ],
        [
         "33",
         "19.0",
         "6",
         "232",
         "100",
         "2634",
         "13.0",
         "A-1690143"
        ],
        [
         "34",
         "16.0",
         "6",
         "225",
         "105",
         "3439",
         "15.5",
         "P-1690154"
        ],
        [
         "35",
         "17.0",
         "6",
         "250",
         "100",
         "3329",
         "15.5",
         "C-1690165"
        ],
        [
         "36",
         "19.0",
         "6",
         "250",
         "88",
         "3302",
         "15.5",
         "F-1690176"
        ],
        [
         "37",
         "18.0",
         "6",
         "232",
         "100",
         "3288",
         "15.5",
         "A-1690187"
        ],
        [
         "38",
         "14.0",
         "8",
         "350",
         "165",
         "4209",
         "12.0",
         "C-1690198"
        ],
        [
         "39",
         "14.0",
         "8",
         "400",
         "175",
         "4464",
         "11.5",
         "P-1690209"
        ],
        [
         "40",
         "14.0",
         "8",
         "351",
         "153",
         "4154",
         "13.5",
         "F-1690220"
        ],
        [
         "41",
         "14.0",
         "8",
         "318",
         "150",
         "4096",
         "13.0",
         "P-1690231"
        ],
        [
         "42",
         "12.0",
         "8",
         "383",
         "180",
         "4955",
         "11.5",
         "D-1690242"
        ],
        [
         "43",
         "13.0",
         "8",
         "400",
         "170",
         "4746",
         "12.0",
         "F-1690253"
        ],
        [
         "44",
         "13.0",
         "8",
         "400",
         "175",
         "5140",
         "12.0",
         "P-1690264"
        ],
        [
         "45",
         "18.0",
         "6",
         "258",
         "110",
         "2962",
         "13.5",
         "A-1690275"
        ],
        [
         "46",
         "22.0",
         "4",
         "140",
         "72",
         "2408",
         "19.0",
         "C-1690286"
        ],
        [
         "47",
         "19.0",
         "6",
         "250",
         "100",
         "3282",
         "15.0",
         "P-1690297"
        ],
        [
         "48",
         "18.0",
         "6",
         "250",
         "88",
         "3139",
         "14.5",
         "F-1690308"
        ],
        [
         "49",
         "23.0",
         "4",
         "122",
         "86",
         "2220",
         "14.0",
         "M-1690319"
        ]
       ],
       "shape": {
        "columns": 7,
        "rows": 398
       }
      },
      "text/html": [
       "<div>\n",
       "<style scoped>\n",
       "    .dataframe tbody tr th:only-of-type {\n",
       "        vertical-align: middle;\n",
       "    }\n",
       "\n",
       "    .dataframe tbody tr th {\n",
       "        vertical-align: top;\n",
       "    }\n",
       "\n",
       "    .dataframe thead th {\n",
       "        text-align: right;\n",
       "    }\n",
       "</style>\n",
       "<table border=\"1\" class=\"dataframe\">\n",
       "  <thead>\n",
       "    <tr style=\"text-align: right;\">\n",
       "      <th></th>\n",
       "      <th>mpg</th>\n",
       "      <th>cylinders</th>\n",
       "      <th>displacement</th>\n",
       "      <th>horsepower</th>\n",
       "      <th>weight</th>\n",
       "      <th>acceleration</th>\n",
       "      <th>vehicle_id</th>\n",
       "    </tr>\n",
       "  </thead>\n",
       "  <tbody>\n",
       "    <tr>\n",
       "      <th>0</th>\n",
       "      <td>18.0</td>\n",
       "      <td>8</td>\n",
       "      <td>307</td>\n",
       "      <td>130</td>\n",
       "      <td>3504</td>\n",
       "      <td>12.0</td>\n",
       "      <td>C-1689780</td>\n",
       "    </tr>\n",
       "    <tr>\n",
       "      <th>1</th>\n",
       "      <td>15.0</td>\n",
       "      <td>8</td>\n",
       "      <td>350</td>\n",
       "      <td>165</td>\n",
       "      <td>3693</td>\n",
       "      <td>11.5</td>\n",
       "      <td>B-1689791</td>\n",
       "    </tr>\n",
       "    <tr>\n",
       "      <th>2</th>\n",
       "      <td>18.0</td>\n",
       "      <td>8</td>\n",
       "      <td>318</td>\n",
       "      <td>150</td>\n",
       "      <td>3436</td>\n",
       "      <td>11.0</td>\n",
       "      <td>P-1689802</td>\n",
       "    </tr>\n",
       "    <tr>\n",
       "      <th>3</th>\n",
       "      <td>16.0</td>\n",
       "      <td>8</td>\n",
       "      <td>304</td>\n",
       "      <td>150</td>\n",
       "      <td>3433</td>\n",
       "      <td>12.0</td>\n",
       "      <td>A-1689813</td>\n",
       "    </tr>\n",
       "    <tr>\n",
       "      <th>4</th>\n",
       "      <td>17.0</td>\n",
       "      <td>8</td>\n",
       "      <td>302</td>\n",
       "      <td>140</td>\n",
       "      <td>3449</td>\n",
       "      <td>10.5</td>\n",
       "      <td>F-1689824</td>\n",
       "    </tr>\n",
       "    <tr>\n",
       "      <th>...</th>\n",
       "      <td>...</td>\n",
       "      <td>...</td>\n",
       "      <td>...</td>\n",
       "      <td>...</td>\n",
       "      <td>...</td>\n",
       "      <td>...</td>\n",
       "      <td>...</td>\n",
       "    </tr>\n",
       "    <tr>\n",
       "      <th>393</th>\n",
       "      <td>27.0</td>\n",
       "      <td>4</td>\n",
       "      <td>140</td>\n",
       "      <td>86</td>\n",
       "      <td>2790</td>\n",
       "      <td>15.6</td>\n",
       "      <td>F-1694103</td>\n",
       "    </tr>\n",
       "    <tr>\n",
       "      <th>394</th>\n",
       "      <td>44.0</td>\n",
       "      <td>4</td>\n",
       "      <td>97</td>\n",
       "      <td>52</td>\n",
       "      <td>2130</td>\n",
       "      <td>24.6</td>\n",
       "      <td>V-1694114</td>\n",
       "    </tr>\n",
       "    <tr>\n",
       "      <th>395</th>\n",
       "      <td>32.0</td>\n",
       "      <td>4</td>\n",
       "      <td>135</td>\n",
       "      <td>84</td>\n",
       "      <td>2295</td>\n",
       "      <td>11.6</td>\n",
       "      <td>D-1694125</td>\n",
       "    </tr>\n",
       "    <tr>\n",
       "      <th>396</th>\n",
       "      <td>28.0</td>\n",
       "      <td>4</td>\n",
       "      <td>120</td>\n",
       "      <td>79</td>\n",
       "      <td>2625</td>\n",
       "      <td>18.6</td>\n",
       "      <td>F-1694136</td>\n",
       "    </tr>\n",
       "    <tr>\n",
       "      <th>397</th>\n",
       "      <td>31.0</td>\n",
       "      <td>4</td>\n",
       "      <td>119</td>\n",
       "      <td>82</td>\n",
       "      <td>2720</td>\n",
       "      <td>19.4</td>\n",
       "      <td>C-1694147</td>\n",
       "    </tr>\n",
       "  </tbody>\n",
       "</table>\n",
       "<p>398 rows × 7 columns</p>\n",
       "</div>"
      ],
      "text/plain": [
       "      mpg  cylinders  displacement horsepower  weight  acceleration vehicle_id\n",
       "0    18.0          8           307        130    3504          12.0  C-1689780\n",
       "1    15.0          8           350        165    3693          11.5  B-1689791\n",
       "2    18.0          8           318        150    3436          11.0  P-1689802\n",
       "3    16.0          8           304        150    3433          12.0  A-1689813\n",
       "4    17.0          8           302        140    3449          10.5  F-1689824\n",
       "..    ...        ...           ...        ...     ...           ...        ...\n",
       "393  27.0          4           140         86    2790          15.6  F-1694103\n",
       "394  44.0          4            97         52    2130          24.6  V-1694114\n",
       "395  32.0          4           135         84    2295          11.6  D-1694125\n",
       "396  28.0          4           120         79    2625          18.6  F-1694136\n",
       "397  31.0          4           119         82    2720          19.4  C-1694147\n",
       "\n",
       "[398 rows x 7 columns]"
      ]
     },
     "metadata": {},
     "output_type": "display_data"
    }
   ],
   "source": [
    "# The display() command will show the first 5 rows and the last five rows\n",
    "\n",
    "display(carfeatures)"
   ]
  },
  {
   "attachments": {},
   "cell_type": "markdown",
   "metadata": {},
   "source": [
    "<font size = \"5\" >\n",
    "\n",
    "Extract column names"
   ]
  },
  {
   "cell_type": "code",
   "execution_count": 4,
   "metadata": {},
   "outputs": [
    {
     "name": "stdout",
     "output_type": "stream",
     "text": [
      "['mpg' 'cylinders' 'displacement' 'horsepower' 'weight' 'acceleration'\n",
      " 'vehicle_id']\n"
     ]
    }
   ],
   "source": [
    "# Write the name of the dataset and use a period \".\" to extract \n",
    "# the attribute \"columns\" and the subttribute \"values\"\n",
    "\n",
    "car_colnames = carfeatures.columns.values\n",
    "print(car_colnames)"
   ]
  },
  {
   "attachments": {},
   "cell_type": "markdown",
   "metadata": {},
   "source": [
    "<font size = \"5\">\n",
    "\n",
    "Subset columns:\n",
    "\n",
    "```python\n",
    "data[list_names]\n",
    "```"
   ]
  },
  {
   "cell_type": "code",
   "execution_count": 5,
   "metadata": {},
   "outputs": [
    {
     "data": {
      "application/vnd.microsoft.datawrangler.viewer.v0+json": {
       "columns": [
        {
         "name": "index",
         "rawType": "int64",
         "type": "integer"
        },
        {
         "name": "weight",
         "rawType": "int64",
         "type": "integer"
        },
        {
         "name": "mpg",
         "rawType": "float64",
         "type": "float"
        }
       ],
       "ref": "fa0f03ab-a5f0-4a01-9214-ea6c09016971",
       "rows": [
        [
         "0",
         "3504",
         "18.0"
        ],
        [
         "1",
         "3693",
         "15.0"
        ],
        [
         "2",
         "3436",
         "18.0"
        ],
        [
         "3",
         "3433",
         "16.0"
        ],
        [
         "4",
         "3449",
         "17.0"
        ],
        [
         "5",
         "4341",
         "15.0"
        ],
        [
         "6",
         "4354",
         "14.0"
        ],
        [
         "7",
         "4312",
         "14.0"
        ],
        [
         "8",
         "4425",
         "14.0"
        ],
        [
         "9",
         "3850",
         "15.0"
        ],
        [
         "10",
         "3563",
         "15.0"
        ],
        [
         "11",
         "3609",
         "14.0"
        ],
        [
         "12",
         "3761",
         "15.0"
        ],
        [
         "13",
         "3086",
         "14.0"
        ],
        [
         "14",
         "2372",
         "24.0"
        ],
        [
         "15",
         "2833",
         "22.0"
        ],
        [
         "16",
         "2774",
         "18.0"
        ],
        [
         "17",
         "2587",
         "21.0"
        ],
        [
         "18",
         "2130",
         "27.0"
        ],
        [
         "19",
         "1835",
         "26.0"
        ],
        [
         "20",
         "2672",
         "25.0"
        ],
        [
         "21",
         "2430",
         "24.0"
        ],
        [
         "22",
         "2375",
         "25.0"
        ],
        [
         "23",
         "2234",
         "26.0"
        ],
        [
         "24",
         "2648",
         "21.0"
        ],
        [
         "25",
         "4615",
         "10.0"
        ],
        [
         "26",
         "4376",
         "10.0"
        ],
        [
         "27",
         "4382",
         "11.0"
        ],
        [
         "28",
         "4732",
         "9.0"
        ],
        [
         "29",
         "2130",
         "27.0"
        ],
        [
         "30",
         "2264",
         "28.0"
        ],
        [
         "31",
         "2228",
         "25.0"
        ],
        [
         "32",
         "2046",
         "25.0"
        ],
        [
         "33",
         "2634",
         "19.0"
        ],
        [
         "34",
         "3439",
         "16.0"
        ],
        [
         "35",
         "3329",
         "17.0"
        ],
        [
         "36",
         "3302",
         "19.0"
        ],
        [
         "37",
         "3288",
         "18.0"
        ],
        [
         "38",
         "4209",
         "14.0"
        ],
        [
         "39",
         "4464",
         "14.0"
        ],
        [
         "40",
         "4154",
         "14.0"
        ],
        [
         "41",
         "4096",
         "14.0"
        ],
        [
         "42",
         "4955",
         "12.0"
        ],
        [
         "43",
         "4746",
         "13.0"
        ],
        [
         "44",
         "5140",
         "13.0"
        ],
        [
         "45",
         "2962",
         "18.0"
        ],
        [
         "46",
         "2408",
         "22.0"
        ],
        [
         "47",
         "3282",
         "19.0"
        ],
        [
         "48",
         "3139",
         "18.0"
        ],
        [
         "49",
         "2220",
         "23.0"
        ]
       ],
       "shape": {
        "columns": 2,
        "rows": 398
       }
      },
      "text/html": [
       "<div>\n",
       "<style scoped>\n",
       "    .dataframe tbody tr th:only-of-type {\n",
       "        vertical-align: middle;\n",
       "    }\n",
       "\n",
       "    .dataframe tbody tr th {\n",
       "        vertical-align: top;\n",
       "    }\n",
       "\n",
       "    .dataframe thead th {\n",
       "        text-align: right;\n",
       "    }\n",
       "</style>\n",
       "<table border=\"1\" class=\"dataframe\">\n",
       "  <thead>\n",
       "    <tr style=\"text-align: right;\">\n",
       "      <th></th>\n",
       "      <th>weight</th>\n",
       "      <th>mpg</th>\n",
       "    </tr>\n",
       "  </thead>\n",
       "  <tbody>\n",
       "    <tr>\n",
       "      <th>0</th>\n",
       "      <td>3504</td>\n",
       "      <td>18.0</td>\n",
       "    </tr>\n",
       "    <tr>\n",
       "      <th>1</th>\n",
       "      <td>3693</td>\n",
       "      <td>15.0</td>\n",
       "    </tr>\n",
       "    <tr>\n",
       "      <th>2</th>\n",
       "      <td>3436</td>\n",
       "      <td>18.0</td>\n",
       "    </tr>\n",
       "    <tr>\n",
       "      <th>3</th>\n",
       "      <td>3433</td>\n",
       "      <td>16.0</td>\n",
       "    </tr>\n",
       "    <tr>\n",
       "      <th>4</th>\n",
       "      <td>3449</td>\n",
       "      <td>17.0</td>\n",
       "    </tr>\n",
       "    <tr>\n",
       "      <th>...</th>\n",
       "      <td>...</td>\n",
       "      <td>...</td>\n",
       "    </tr>\n",
       "    <tr>\n",
       "      <th>393</th>\n",
       "      <td>2790</td>\n",
       "      <td>27.0</td>\n",
       "    </tr>\n",
       "    <tr>\n",
       "      <th>394</th>\n",
       "      <td>2130</td>\n",
       "      <td>44.0</td>\n",
       "    </tr>\n",
       "    <tr>\n",
       "      <th>395</th>\n",
       "      <td>2295</td>\n",
       "      <td>32.0</td>\n",
       "    </tr>\n",
       "    <tr>\n",
       "      <th>396</th>\n",
       "      <td>2625</td>\n",
       "      <td>28.0</td>\n",
       "    </tr>\n",
       "    <tr>\n",
       "      <th>397</th>\n",
       "      <td>2720</td>\n",
       "      <td>31.0</td>\n",
       "    </tr>\n",
       "  </tbody>\n",
       "</table>\n",
       "<p>398 rows × 2 columns</p>\n",
       "</div>"
      ],
      "text/plain": [
       "     weight   mpg\n",
       "0      3504  18.0\n",
       "1      3693  15.0\n",
       "2      3436  18.0\n",
       "3      3433  16.0\n",
       "4      3449  17.0\n",
       "..      ...   ...\n",
       "393    2790  27.0\n",
       "394    2130  44.0\n",
       "395    2295  32.0\n",
       "396    2625  28.0\n",
       "397    2720  31.0\n",
       "\n",
       "[398 rows x 2 columns]"
      ]
     },
     "metadata": {},
     "output_type": "display_data"
    },
    {
     "data": {
      "application/vnd.microsoft.datawrangler.viewer.v0+json": {
       "columns": [
        {
         "name": "index",
         "rawType": "int64",
         "type": "integer"
        },
        {
         "name": "weight",
         "rawType": "int64",
         "type": "integer"
        },
        {
         "name": "mpg",
         "rawType": "float64",
         "type": "float"
        }
       ],
       "ref": "a991895c-7778-405c-bc04-4bdbddf90425",
       "rows": [
        [
         "0",
         "3504",
         "18.0"
        ],
        [
         "1",
         "3693",
         "15.0"
        ],
        [
         "2",
         "3436",
         "18.0"
        ],
        [
         "3",
         "3433",
         "16.0"
        ],
        [
         "4",
         "3449",
         "17.0"
        ],
        [
         "5",
         "4341",
         "15.0"
        ],
        [
         "6",
         "4354",
         "14.0"
        ],
        [
         "7",
         "4312",
         "14.0"
        ],
        [
         "8",
         "4425",
         "14.0"
        ],
        [
         "9",
         "3850",
         "15.0"
        ],
        [
         "10",
         "3563",
         "15.0"
        ],
        [
         "11",
         "3609",
         "14.0"
        ],
        [
         "12",
         "3761",
         "15.0"
        ],
        [
         "13",
         "3086",
         "14.0"
        ],
        [
         "14",
         "2372",
         "24.0"
        ],
        [
         "15",
         "2833",
         "22.0"
        ],
        [
         "16",
         "2774",
         "18.0"
        ],
        [
         "17",
         "2587",
         "21.0"
        ],
        [
         "18",
         "2130",
         "27.0"
        ],
        [
         "19",
         "1835",
         "26.0"
        ],
        [
         "20",
         "2672",
         "25.0"
        ],
        [
         "21",
         "2430",
         "24.0"
        ],
        [
         "22",
         "2375",
         "25.0"
        ],
        [
         "23",
         "2234",
         "26.0"
        ],
        [
         "24",
         "2648",
         "21.0"
        ],
        [
         "25",
         "4615",
         "10.0"
        ],
        [
         "26",
         "4376",
         "10.0"
        ],
        [
         "27",
         "4382",
         "11.0"
        ],
        [
         "28",
         "4732",
         "9.0"
        ],
        [
         "29",
         "2130",
         "27.0"
        ],
        [
         "30",
         "2264",
         "28.0"
        ],
        [
         "31",
         "2228",
         "25.0"
        ],
        [
         "32",
         "2046",
         "25.0"
        ],
        [
         "33",
         "2634",
         "19.0"
        ],
        [
         "34",
         "3439",
         "16.0"
        ],
        [
         "35",
         "3329",
         "17.0"
        ],
        [
         "36",
         "3302",
         "19.0"
        ],
        [
         "37",
         "3288",
         "18.0"
        ],
        [
         "38",
         "4209",
         "14.0"
        ],
        [
         "39",
         "4464",
         "14.0"
        ],
        [
         "40",
         "4154",
         "14.0"
        ],
        [
         "41",
         "4096",
         "14.0"
        ],
        [
         "42",
         "4955",
         "12.0"
        ],
        [
         "43",
         "4746",
         "13.0"
        ],
        [
         "44",
         "5140",
         "13.0"
        ],
        [
         "45",
         "2962",
         "18.0"
        ],
        [
         "46",
         "2408",
         "22.0"
        ],
        [
         "47",
         "3282",
         "19.0"
        ],
        [
         "48",
         "3139",
         "18.0"
        ],
        [
         "49",
         "2220",
         "23.0"
        ]
       ],
       "shape": {
        "columns": 2,
        "rows": 398
       }
      },
      "text/html": [
       "<div>\n",
       "<style scoped>\n",
       "    .dataframe tbody tr th:only-of-type {\n",
       "        vertical-align: middle;\n",
       "    }\n",
       "\n",
       "    .dataframe tbody tr th {\n",
       "        vertical-align: top;\n",
       "    }\n",
       "\n",
       "    .dataframe thead th {\n",
       "        text-align: right;\n",
       "    }\n",
       "</style>\n",
       "<table border=\"1\" class=\"dataframe\">\n",
       "  <thead>\n",
       "    <tr style=\"text-align: right;\">\n",
       "      <th></th>\n",
       "      <th>weight</th>\n",
       "      <th>mpg</th>\n",
       "    </tr>\n",
       "  </thead>\n",
       "  <tbody>\n",
       "    <tr>\n",
       "      <th>0</th>\n",
       "      <td>3504</td>\n",
       "      <td>18.0</td>\n",
       "    </tr>\n",
       "    <tr>\n",
       "      <th>1</th>\n",
       "      <td>3693</td>\n",
       "      <td>15.0</td>\n",
       "    </tr>\n",
       "    <tr>\n",
       "      <th>2</th>\n",
       "      <td>3436</td>\n",
       "      <td>18.0</td>\n",
       "    </tr>\n",
       "    <tr>\n",
       "      <th>3</th>\n",
       "      <td>3433</td>\n",
       "      <td>16.0</td>\n",
       "    </tr>\n",
       "    <tr>\n",
       "      <th>4</th>\n",
       "      <td>3449</td>\n",
       "      <td>17.0</td>\n",
       "    </tr>\n",
       "    <tr>\n",
       "      <th>...</th>\n",
       "      <td>...</td>\n",
       "      <td>...</td>\n",
       "    </tr>\n",
       "    <tr>\n",
       "      <th>393</th>\n",
       "      <td>2790</td>\n",
       "      <td>27.0</td>\n",
       "    </tr>\n",
       "    <tr>\n",
       "      <th>394</th>\n",
       "      <td>2130</td>\n",
       "      <td>44.0</td>\n",
       "    </tr>\n",
       "    <tr>\n",
       "      <th>395</th>\n",
       "      <td>2295</td>\n",
       "      <td>32.0</td>\n",
       "    </tr>\n",
       "    <tr>\n",
       "      <th>396</th>\n",
       "      <td>2625</td>\n",
       "      <td>28.0</td>\n",
       "    </tr>\n",
       "    <tr>\n",
       "      <th>397</th>\n",
       "      <td>2720</td>\n",
       "      <td>31.0</td>\n",
       "    </tr>\n",
       "  </tbody>\n",
       "</table>\n",
       "<p>398 rows × 2 columns</p>\n",
       "</div>"
      ],
      "text/plain": [
       "     weight   mpg\n",
       "0      3504  18.0\n",
       "1      3693  15.0\n",
       "2      3436  18.0\n",
       "3      3433  16.0\n",
       "4      3449  17.0\n",
       "..      ...   ...\n",
       "393    2790  27.0\n",
       "394    2130  44.0\n",
       "395    2295  32.0\n",
       "396    2625  28.0\n",
       "397    2720  31.0\n",
       "\n",
       "[398 rows x 2 columns]"
      ]
     },
     "metadata": {},
     "output_type": "display_data"
    }
   ],
   "source": [
    "# To subset multiple columns write the name of the datasets \n",
    "# and enter a list in square brackets next to the name\n",
    "\n",
    "list_subsetcols     = [\"weight\",\"mpg\"]\n",
    "subcols_carfeatures = carfeatures[list_subsetcols]\n",
    "display(subcols_carfeatures)\n",
    "\n",
    "# Or we can simply include the list directly inside square brackets\n",
    "display(carfeatures[[\"weight\",\"mpg\"]])\n"
   ]
  },
  {
   "attachments": {},
   "cell_type": "markdown",
   "metadata": {},
   "source": [
    "<font size = \"5\">\n",
    "\n",
    "Try it yourself!\n",
    "\n",
    "- Extract the weight and acceleration variables"
   ]
  },
  {
   "cell_type": "code",
   "execution_count": 6,
   "metadata": {},
   "outputs": [
    {
     "data": {
      "application/vnd.microsoft.datawrangler.viewer.v0+json": {
       "columns": [
        {
         "name": "index",
         "rawType": "int64",
         "type": "integer"
        },
        {
         "name": "weight",
         "rawType": "int64",
         "type": "integer"
        },
        {
         "name": "acceleration",
         "rawType": "float64",
         "type": "float"
        }
       ],
       "ref": "79e99edb-2b46-432d-88a5-f8de448fefb3",
       "rows": [
        [
         "0",
         "3504",
         "12.0"
        ],
        [
         "1",
         "3693",
         "11.5"
        ],
        [
         "2",
         "3436",
         "11.0"
        ],
        [
         "3",
         "3433",
         "12.0"
        ],
        [
         "4",
         "3449",
         "10.5"
        ],
        [
         "5",
         "4341",
         "10.0"
        ],
        [
         "6",
         "4354",
         "9.0"
        ],
        [
         "7",
         "4312",
         "8.5"
        ],
        [
         "8",
         "4425",
         "10.0"
        ],
        [
         "9",
         "3850",
         "8.5"
        ],
        [
         "10",
         "3563",
         "10.0"
        ],
        [
         "11",
         "3609",
         "8.0"
        ],
        [
         "12",
         "3761",
         "9.5"
        ],
        [
         "13",
         "3086",
         "10.0"
        ],
        [
         "14",
         "2372",
         "15.0"
        ],
        [
         "15",
         "2833",
         "15.5"
        ],
        [
         "16",
         "2774",
         "15.5"
        ],
        [
         "17",
         "2587",
         "16.0"
        ],
        [
         "18",
         "2130",
         "14.5"
        ],
        [
         "19",
         "1835",
         "20.5"
        ],
        [
         "20",
         "2672",
         "17.5"
        ],
        [
         "21",
         "2430",
         "14.5"
        ],
        [
         "22",
         "2375",
         "17.5"
        ],
        [
         "23",
         "2234",
         "12.5"
        ],
        [
         "24",
         "2648",
         "15.0"
        ],
        [
         "25",
         "4615",
         "14.0"
        ],
        [
         "26",
         "4376",
         "15.0"
        ],
        [
         "27",
         "4382",
         "13.5"
        ],
        [
         "28",
         "4732",
         "18.5"
        ],
        [
         "29",
         "2130",
         "14.5"
        ],
        [
         "30",
         "2264",
         "15.5"
        ],
        [
         "31",
         "2228",
         "14.0"
        ],
        [
         "32",
         "2046",
         "19.0"
        ],
        [
         "33",
         "2634",
         "13.0"
        ],
        [
         "34",
         "3439",
         "15.5"
        ],
        [
         "35",
         "3329",
         "15.5"
        ],
        [
         "36",
         "3302",
         "15.5"
        ],
        [
         "37",
         "3288",
         "15.5"
        ],
        [
         "38",
         "4209",
         "12.0"
        ],
        [
         "39",
         "4464",
         "11.5"
        ],
        [
         "40",
         "4154",
         "13.5"
        ],
        [
         "41",
         "4096",
         "13.0"
        ],
        [
         "42",
         "4955",
         "11.5"
        ],
        [
         "43",
         "4746",
         "12.0"
        ],
        [
         "44",
         "5140",
         "12.0"
        ],
        [
         "45",
         "2962",
         "13.5"
        ],
        [
         "46",
         "2408",
         "19.0"
        ],
        [
         "47",
         "3282",
         "15.0"
        ],
        [
         "48",
         "3139",
         "14.5"
        ],
        [
         "49",
         "2220",
         "14.0"
        ]
       ],
       "shape": {
        "columns": 2,
        "rows": 398
       }
      },
      "text/html": [
       "<div>\n",
       "<style scoped>\n",
       "    .dataframe tbody tr th:only-of-type {\n",
       "        vertical-align: middle;\n",
       "    }\n",
       "\n",
       "    .dataframe tbody tr th {\n",
       "        vertical-align: top;\n",
       "    }\n",
       "\n",
       "    .dataframe thead th {\n",
       "        text-align: right;\n",
       "    }\n",
       "</style>\n",
       "<table border=\"1\" class=\"dataframe\">\n",
       "  <thead>\n",
       "    <tr style=\"text-align: right;\">\n",
       "      <th></th>\n",
       "      <th>weight</th>\n",
       "      <th>acceleration</th>\n",
       "    </tr>\n",
       "  </thead>\n",
       "  <tbody>\n",
       "    <tr>\n",
       "      <th>0</th>\n",
       "      <td>3504</td>\n",
       "      <td>12.0</td>\n",
       "    </tr>\n",
       "    <tr>\n",
       "      <th>1</th>\n",
       "      <td>3693</td>\n",
       "      <td>11.5</td>\n",
       "    </tr>\n",
       "    <tr>\n",
       "      <th>2</th>\n",
       "      <td>3436</td>\n",
       "      <td>11.0</td>\n",
       "    </tr>\n",
       "    <tr>\n",
       "      <th>3</th>\n",
       "      <td>3433</td>\n",
       "      <td>12.0</td>\n",
       "    </tr>\n",
       "    <tr>\n",
       "      <th>4</th>\n",
       "      <td>3449</td>\n",
       "      <td>10.5</td>\n",
       "    </tr>\n",
       "    <tr>\n",
       "      <th>...</th>\n",
       "      <td>...</td>\n",
       "      <td>...</td>\n",
       "    </tr>\n",
       "    <tr>\n",
       "      <th>393</th>\n",
       "      <td>2790</td>\n",
       "      <td>15.6</td>\n",
       "    </tr>\n",
       "    <tr>\n",
       "      <th>394</th>\n",
       "      <td>2130</td>\n",
       "      <td>24.6</td>\n",
       "    </tr>\n",
       "    <tr>\n",
       "      <th>395</th>\n",
       "      <td>2295</td>\n",
       "      <td>11.6</td>\n",
       "    </tr>\n",
       "    <tr>\n",
       "      <th>396</th>\n",
       "      <td>2625</td>\n",
       "      <td>18.6</td>\n",
       "    </tr>\n",
       "    <tr>\n",
       "      <th>397</th>\n",
       "      <td>2720</td>\n",
       "      <td>19.4</td>\n",
       "    </tr>\n",
       "  </tbody>\n",
       "</table>\n",
       "<p>398 rows × 2 columns</p>\n",
       "</div>"
      ],
      "text/plain": [
       "     weight  acceleration\n",
       "0      3504          12.0\n",
       "1      3693          11.5\n",
       "2      3436          11.0\n",
       "3      3433          12.0\n",
       "4      3449          10.5\n",
       "..      ...           ...\n",
       "393    2790          15.6\n",
       "394    2130          24.6\n",
       "395    2295          11.6\n",
       "396    2625          18.6\n",
       "397    2720          19.4\n",
       "\n",
       "[398 rows x 2 columns]"
      ]
     },
     "metadata": {},
     "output_type": "display_data"
    }
   ],
   "source": [
    "# Write your own code\n",
    "\n",
    "display(carfeatures[[\"weight\", \"acceleration\"]])"
   ]
  },
  {
   "attachments": {},
   "cell_type": "markdown",
   "metadata": {},
   "source": [
    "## <span style=\"color:darkblue\"> III. Subsetting by row/column position </span>\n",
    "\n",
    "<font size = \"5\">"
   ]
  },
  {
   "attachments": {},
   "cell_type": "markdown",
   "metadata": {},
   "source": [
    "<font size = \"5\">\n",
    "\n",
    "Sort by column"
   ]
  },
  {
   "cell_type": "code",
   "execution_count": 7,
   "metadata": {},
   "outputs": [
    {
     "data": {
      "application/vnd.microsoft.datawrangler.viewer.v0+json": {
       "columns": [
        {
         "name": "index",
         "rawType": "int64",
         "type": "integer"
        },
        {
         "name": "mpg",
         "rawType": "float64",
         "type": "float"
        },
        {
         "name": "cylinders",
         "rawType": "int64",
         "type": "integer"
        },
        {
         "name": "displacement",
         "rawType": "int64",
         "type": "integer"
        },
        {
         "name": "horsepower",
         "rawType": "object",
         "type": "unknown"
        },
        {
         "name": "weight",
         "rawType": "int64",
         "type": "integer"
        },
        {
         "name": "acceleration",
         "rawType": "float64",
         "type": "float"
        },
        {
         "name": "vehicle_id",
         "rawType": "object",
         "type": "string"
        }
       ],
       "ref": "ffd0907b-703b-44fe-ae81-76fe433e7b40",
       "rows": [
        [
         "322",
         "46.6",
         "4",
         "86",
         "65",
         "2110",
         "17.9",
         "M-1693322"
        ],
        [
         "329",
         "44.6",
         "4",
         "91",
         "67",
         "1850",
         "13.8",
         "H-1693399"
        ],
        [
         "325",
         "44.3",
         "4",
         "90",
         "48",
         "2085",
         "21.7",
         "V-1693355"
        ],
        [
         "394",
         "44.0",
         "4",
         "97",
         "52",
         "2130",
         "24.6",
         "V-1694114"
        ],
        [
         "326",
         "43.4",
         "4",
         "90",
         "48",
         "2335",
         "23.7",
         "V-1693366"
        ],
        [
         "244",
         "43.1",
         "4",
         "90",
         "48",
         "1985",
         "21.5",
         "V-1692464"
        ],
        [
         "309",
         "41.5",
         "4",
         "98",
         "76",
         "2144",
         "14.7",
         "V-1693179"
        ],
        [
         "330",
         "40.9",
         "4",
         "85",
         "?",
         "1835",
         "17.3",
         "R-1693410"
        ],
        [
         "324",
         "40.8",
         "4",
         "85",
         "65",
         "2110",
         "19.2",
         "D-1693344"
        ],
        [
         "247",
         "39.4",
         "4",
         "85",
         "70",
         "2070",
         "18.6",
         "D-1692497"
        ],
        [
         "343",
         "39.1",
         "4",
         "79",
         "58",
         "1755",
         "16.9",
         "T-1693553"
        ],
        [
         "344",
         "39.0",
         "4",
         "86",
         "64",
         "1875",
         "16.4",
         "P-1693564"
        ],
        [
         "310",
         "38.1",
         "4",
         "89",
         "60",
         "1968",
         "18.8",
         "T-1693190"
        ],
        [
         "383",
         "38.0",
         "4",
         "91",
         "67",
         "1965",
         "15.0",
         "H-1693993"
        ],
        [
         "385",
         "38.0",
         "4",
         "91",
         "67",
         "1995",
         "16.2",
         "D-1694015"
        ],
        [
         "378",
         "38.0",
         "4",
         "105",
         "63",
         "2125",
         "14.7",
         "P-1693938"
        ],
        [
         "387",
         "38.0",
         "6",
         "262",
         "85",
         "3015",
         "17.0",
         "O-1694037"
        ],
        [
         "348",
         "37.7",
         "4",
         "89",
         "62",
         "2050",
         "17.3",
         "T-1693608"
        ],
        [
         "304",
         "37.3",
         "4",
         "91",
         "69",
         "2130",
         "14.7",
         "F-1693124"
        ],
        [
         "312",
         "37.2",
         "4",
         "86",
         "65",
         "2019",
         "16.4",
         "D-1693212"
        ],
        [
         "376",
         "37.0",
         "4",
         "91",
         "68",
         "2025",
         "18.2",
         "M-1693916"
        ],
        [
         "320",
         "37.0",
         "4",
         "119",
         "92",
         "2434",
         "15.0",
         "D-1693300"
        ],
        [
         "347",
         "37.0",
         "4",
         "85",
         "65",
         "1975",
         "19.4",
         "D-1693597"
        ],
        [
         "327",
         "36.4",
         "5",
         "121",
         "67",
         "2950",
         "19.9",
         "A-1693377"
        ],
        [
         "248",
         "36.1",
         "4",
         "91",
         "60",
         "1800",
         "16.4",
         "H-1692508"
        ],
        [
         "245",
         "36.1",
         "4",
         "98",
         "66",
         "1800",
         "14.4",
         "F-1692475"
        ],
        [
         "375",
         "36.0",
         "4",
         "105",
         "74",
         "1980",
         "15.3",
         "V-1693905"
        ],
        [
         "381",
         "36.0",
         "4",
         "107",
         "75",
         "2205",
         "14.5",
         "H-1693971"
        ],
        [
         "379",
         "36.0",
         "4",
         "98",
         "70",
         "2125",
         "17.3",
         "M-1693949"
        ],
        [
         "218",
         "36.0",
         "4",
         "79",
         "58",
         "1825",
         "18.6",
         "R-1692178"
        ],
        [
         "380",
         "36.0",
         "4",
         "120",
         "88",
         "2160",
         "14.5",
         "N-1693960"
        ],
        [
         "391",
         "36.0",
         "4",
         "135",
         "84",
         "2370",
         "13.0",
         "D-1694081"
        ],
        [
         "295",
         "35.7",
         "4",
         "98",
         "80",
         "1915",
         "14.4",
         "D-1693025"
        ],
        [
         "345",
         "35.1",
         "4",
         "81",
         "60",
         "1760",
         "16.1",
         "H-1693575"
        ],
        [
         "54",
         "35.0",
         "4",
         "72",
         "69",
         "1613",
         "18.0",
         "D-1690374"
        ],
        [
         "335",
         "35.0",
         "4",
         "122",
         "88",
         "2500",
         "15.1",
         "T-1693465"
        ],
        [
         "350",
         "34.7",
         "4",
         "105",
         "63",
         "2215",
         "14.9",
         "P-1693630"
        ],
        [
         "354",
         "34.5",
         "4",
         "100",
         "?",
         "2320",
         "15.8",
         "R-1693674"
        ],
        [
         "302",
         "34.5",
         "4",
         "105",
         "70",
         "2150",
         "14.9",
         "P-1693102"
        ],
        [
         "351",
         "34.4",
         "4",
         "98",
         "65",
         "2045",
         "16.2",
         "F-1693641"
        ],
        [
         "317",
         "34.3",
         "4",
         "97",
         "78",
         "2188",
         "15.8",
         "A-1693267"
        ],
        [
         "301",
         "34.2",
         "4",
         "105",
         "70",
         "2200",
         "13.2",
         "P-1693091"
        ],
        [
         "349",
         "34.1",
         "4",
         "91",
         "68",
         "1985",
         "16.0",
         "M-1693619"
        ],
        [
         "294",
         "34.1",
         "4",
         "86",
         "65",
         "1975",
         "15.2",
         "M-1693014"
        ],
        [
         "382",
         "34.0",
         "4",
         "108",
         "70",
         "2245",
         "16.9",
         "T-1693982"
        ],
        [
         "369",
         "34.0",
         "4",
         "112",
         "88",
         "2395",
         "18.0",
         "C-1693839"
        ],
        [
         "331",
         "33.8",
         "4",
         "97",
         "67",
         "2145",
         "18.0",
         "S-1693421"
        ],
        [
         "355",
         "33.7",
         "4",
         "107",
         "75",
         "2210",
         "14.4",
         "H-1693685"
        ],
        [
         "308",
         "33.5",
         "4",
         "151",
         "90",
         "2556",
         "13.2",
         "P-1693168"
        ],
        [
         "238",
         "33.5",
         "4",
         "98",
         "83",
         "2075",
         "15.9",
         "D-1692398"
        ]
       ],
       "shape": {
        "columns": 7,
        "rows": 398
       }
      },
      "text/html": [
       "<div>\n",
       "<style scoped>\n",
       "    .dataframe tbody tr th:only-of-type {\n",
       "        vertical-align: middle;\n",
       "    }\n",
       "\n",
       "    .dataframe tbody tr th {\n",
       "        vertical-align: top;\n",
       "    }\n",
       "\n",
       "    .dataframe thead th {\n",
       "        text-align: right;\n",
       "    }\n",
       "</style>\n",
       "<table border=\"1\" class=\"dataframe\">\n",
       "  <thead>\n",
       "    <tr style=\"text-align: right;\">\n",
       "      <th></th>\n",
       "      <th>mpg</th>\n",
       "      <th>cylinders</th>\n",
       "      <th>displacement</th>\n",
       "      <th>horsepower</th>\n",
       "      <th>weight</th>\n",
       "      <th>acceleration</th>\n",
       "      <th>vehicle_id</th>\n",
       "    </tr>\n",
       "  </thead>\n",
       "  <tbody>\n",
       "    <tr>\n",
       "      <th>322</th>\n",
       "      <td>46.6</td>\n",
       "      <td>4</td>\n",
       "      <td>86</td>\n",
       "      <td>65</td>\n",
       "      <td>2110</td>\n",
       "      <td>17.9</td>\n",
       "      <td>M-1693322</td>\n",
       "    </tr>\n",
       "    <tr>\n",
       "      <th>329</th>\n",
       "      <td>44.6</td>\n",
       "      <td>4</td>\n",
       "      <td>91</td>\n",
       "      <td>67</td>\n",
       "      <td>1850</td>\n",
       "      <td>13.8</td>\n",
       "      <td>H-1693399</td>\n",
       "    </tr>\n",
       "    <tr>\n",
       "      <th>325</th>\n",
       "      <td>44.3</td>\n",
       "      <td>4</td>\n",
       "      <td>90</td>\n",
       "      <td>48</td>\n",
       "      <td>2085</td>\n",
       "      <td>21.7</td>\n",
       "      <td>V-1693355</td>\n",
       "    </tr>\n",
       "    <tr>\n",
       "      <th>394</th>\n",
       "      <td>44.0</td>\n",
       "      <td>4</td>\n",
       "      <td>97</td>\n",
       "      <td>52</td>\n",
       "      <td>2130</td>\n",
       "      <td>24.6</td>\n",
       "      <td>V-1694114</td>\n",
       "    </tr>\n",
       "    <tr>\n",
       "      <th>326</th>\n",
       "      <td>43.4</td>\n",
       "      <td>4</td>\n",
       "      <td>90</td>\n",
       "      <td>48</td>\n",
       "      <td>2335</td>\n",
       "      <td>23.7</td>\n",
       "      <td>V-1693366</td>\n",
       "    </tr>\n",
       "    <tr>\n",
       "      <th>...</th>\n",
       "      <td>...</td>\n",
       "      <td>...</td>\n",
       "      <td>...</td>\n",
       "      <td>...</td>\n",
       "      <td>...</td>\n",
       "      <td>...</td>\n",
       "      <td>...</td>\n",
       "    </tr>\n",
       "    <tr>\n",
       "      <th>67</th>\n",
       "      <td>11.0</td>\n",
       "      <td>8</td>\n",
       "      <td>429</td>\n",
       "      <td>208</td>\n",
       "      <td>4633</td>\n",
       "      <td>11.0</td>\n",
       "      <td>M-1690517</td>\n",
       "    </tr>\n",
       "    <tr>\n",
       "      <th>27</th>\n",
       "      <td>11.0</td>\n",
       "      <td>8</td>\n",
       "      <td>318</td>\n",
       "      <td>210</td>\n",
       "      <td>4382</td>\n",
       "      <td>13.5</td>\n",
       "      <td>D-1690077</td>\n",
       "    </tr>\n",
       "    <tr>\n",
       "      <th>25</th>\n",
       "      <td>10.0</td>\n",
       "      <td>8</td>\n",
       "      <td>360</td>\n",
       "      <td>215</td>\n",
       "      <td>4615</td>\n",
       "      <td>14.0</td>\n",
       "      <td>F-1690055</td>\n",
       "    </tr>\n",
       "    <tr>\n",
       "      <th>26</th>\n",
       "      <td>10.0</td>\n",
       "      <td>8</td>\n",
       "      <td>307</td>\n",
       "      <td>200</td>\n",
       "      <td>4376</td>\n",
       "      <td>15.0</td>\n",
       "      <td>C-1690066</td>\n",
       "    </tr>\n",
       "    <tr>\n",
       "      <th>28</th>\n",
       "      <td>9.0</td>\n",
       "      <td>8</td>\n",
       "      <td>304</td>\n",
       "      <td>193</td>\n",
       "      <td>4732</td>\n",
       "      <td>18.5</td>\n",
       "      <td>H-1690088</td>\n",
       "    </tr>\n",
       "  </tbody>\n",
       "</table>\n",
       "<p>398 rows × 7 columns</p>\n",
       "</div>"
      ],
      "text/plain": [
       "      mpg  cylinders  displacement horsepower  weight  acceleration vehicle_id\n",
       "322  46.6          4            86         65    2110          17.9  M-1693322\n",
       "329  44.6          4            91         67    1850          13.8  H-1693399\n",
       "325  44.3          4            90         48    2085          21.7  V-1693355\n",
       "394  44.0          4            97         52    2130          24.6  V-1694114\n",
       "326  43.4          4            90         48    2335          23.7  V-1693366\n",
       "..    ...        ...           ...        ...     ...           ...        ...\n",
       "67   11.0          8           429        208    4633          11.0  M-1690517\n",
       "27   11.0          8           318        210    4382          13.5  D-1690077\n",
       "25   10.0          8           360        215    4615          14.0  F-1690055\n",
       "26   10.0          8           307        200    4376          15.0  C-1690066\n",
       "28    9.0          8           304        193    4732          18.5  H-1690088\n",
       "\n",
       "[398 rows x 7 columns]"
      ]
     },
     "metadata": {},
     "output_type": "display_data"
    }
   ],
   "source": [
    "carsorted = carfeatures.sort_values(by = \"mpg\", ascending = False)\n",
    "display(carsorted)\n"
   ]
  },
  {
   "attachments": {},
   "cell_type": "markdown",
   "metadata": {},
   "source": [
    "<font size = \"5\">\n",
    "\n",
    "Subset row(s)\n",
    "\n",
    "``` data.iloc[ row_int , : ]``` $\\quad$ or\n",
    "\n",
    "``` data.iloc[ list_rows, : ]```\n"
   ]
  },
  {
   "cell_type": "code",
   "execution_count": 8,
   "metadata": {},
   "outputs": [
    {
     "data": {
      "application/vnd.microsoft.datawrangler.viewer.v0+json": {
       "columns": [
        {
         "name": "index",
         "rawType": "object",
         "type": "string"
        },
        {
         "name": "322",
         "rawType": "object",
         "type": "unknown"
        }
       ],
       "ref": "3ddd9999-0162-45f2-ba68-15b892e5c27e",
       "rows": [
        [
         "mpg",
         "46.6"
        ],
        [
         "cylinders",
         "4"
        ],
        [
         "displacement",
         "86"
        ],
        [
         "horsepower",
         "65"
        ],
        [
         "weight",
         "2110"
        ],
        [
         "acceleration",
         "17.9"
        ],
        [
         "vehicle_id",
         "M-1693322"
        ]
       ],
       "shape": {
        "columns": 1,
        "rows": 7
       }
      },
      "text/plain": [
       "mpg                  46.6\n",
       "cylinders               4\n",
       "displacement           86\n",
       "horsepower             65\n",
       "weight               2110\n",
       "acceleration         17.9\n",
       "vehicle_id      M-1693322\n",
       "Name: 322, dtype: object"
      ]
     },
     "metadata": {},
     "output_type": "display_data"
    },
    {
     "data": {
      "application/vnd.microsoft.datawrangler.viewer.v0+json": {
       "columns": [
        {
         "name": "index",
         "rawType": "int64",
         "type": "integer"
        },
        {
         "name": "mpg",
         "rawType": "float64",
         "type": "float"
        },
        {
         "name": "cylinders",
         "rawType": "int64",
         "type": "integer"
        },
        {
         "name": "displacement",
         "rawType": "int64",
         "type": "integer"
        },
        {
         "name": "horsepower",
         "rawType": "object",
         "type": "string"
        },
        {
         "name": "weight",
         "rawType": "int64",
         "type": "integer"
        },
        {
         "name": "acceleration",
         "rawType": "float64",
         "type": "float"
        },
        {
         "name": "vehicle_id",
         "rawType": "object",
         "type": "string"
        }
       ],
       "ref": "ca8e0b83-5e82-4470-82df-47ef53f5fcdf",
       "rows": [
        [
         "322",
         "46.6",
         "4",
         "86",
         "65",
         "2110",
         "17.9",
         "M-1693322"
        ],
        [
         "329",
         "44.6",
         "4",
         "91",
         "67",
         "1850",
         "13.8",
         "H-1693399"
        ],
        [
         "325",
         "44.3",
         "4",
         "90",
         "48",
         "2085",
         "21.7",
         "V-1693355"
        ]
       ],
       "shape": {
        "columns": 7,
        "rows": 3
       }
      },
      "text/html": [
       "<div>\n",
       "<style scoped>\n",
       "    .dataframe tbody tr th:only-of-type {\n",
       "        vertical-align: middle;\n",
       "    }\n",
       "\n",
       "    .dataframe tbody tr th {\n",
       "        vertical-align: top;\n",
       "    }\n",
       "\n",
       "    .dataframe thead th {\n",
       "        text-align: right;\n",
       "    }\n",
       "</style>\n",
       "<table border=\"1\" class=\"dataframe\">\n",
       "  <thead>\n",
       "    <tr style=\"text-align: right;\">\n",
       "      <th></th>\n",
       "      <th>mpg</th>\n",
       "      <th>cylinders</th>\n",
       "      <th>displacement</th>\n",
       "      <th>horsepower</th>\n",
       "      <th>weight</th>\n",
       "      <th>acceleration</th>\n",
       "      <th>vehicle_id</th>\n",
       "    </tr>\n",
       "  </thead>\n",
       "  <tbody>\n",
       "    <tr>\n",
       "      <th>322</th>\n",
       "      <td>46.6</td>\n",
       "      <td>4</td>\n",
       "      <td>86</td>\n",
       "      <td>65</td>\n",
       "      <td>2110</td>\n",
       "      <td>17.9</td>\n",
       "      <td>M-1693322</td>\n",
       "    </tr>\n",
       "    <tr>\n",
       "      <th>329</th>\n",
       "      <td>44.6</td>\n",
       "      <td>4</td>\n",
       "      <td>91</td>\n",
       "      <td>67</td>\n",
       "      <td>1850</td>\n",
       "      <td>13.8</td>\n",
       "      <td>H-1693399</td>\n",
       "    </tr>\n",
       "    <tr>\n",
       "      <th>325</th>\n",
       "      <td>44.3</td>\n",
       "      <td>4</td>\n",
       "      <td>90</td>\n",
       "      <td>48</td>\n",
       "      <td>2085</td>\n",
       "      <td>21.7</td>\n",
       "      <td>V-1693355</td>\n",
       "    </tr>\n",
       "  </tbody>\n",
       "</table>\n",
       "</div>"
      ],
      "text/plain": [
       "      mpg  cylinders  displacement horsepower  weight  acceleration vehicle_id\n",
       "322  46.6          4            86         65    2110          17.9  M-1693322\n",
       "329  44.6          4            91         67    1850          13.8  H-1693399\n",
       "325  44.3          4            90         48    2085          21.7  V-1693355"
      ]
     },
     "metadata": {},
     "output_type": "display_data"
    }
   ],
   "source": [
    "# The following command extracts all columns for row zero\n",
    "# Remember that numbering starts at zero in Python\n",
    "# In this case we will show the car with the highest \"mpg\" value\n",
    "\n",
    "display(carsorted.iloc[0,:])\n",
    "display(carsorted.iloc[[0,1,2],:])\n"
   ]
  },
  {
   "attachments": {},
   "cell_type": "markdown",
   "metadata": {},
   "source": [
    "<font size = \"5\">\n",
    "\n",
    "Subset block of rows\n",
    "\n",
    "``` data.iloc[ lower:upper , : ]```"
   ]
  },
  {
   "cell_type": "code",
   "execution_count": 9,
   "metadata": {},
   "outputs": [
    {
     "data": {
      "application/vnd.microsoft.datawrangler.viewer.v0+json": {
       "columns": [
        {
         "name": "index",
         "rawType": "int64",
         "type": "integer"
        },
        {
         "name": "mpg",
         "rawType": "float64",
         "type": "float"
        },
        {
         "name": "cylinders",
         "rawType": "int64",
         "type": "integer"
        },
        {
         "name": "displacement",
         "rawType": "int64",
         "type": "integer"
        },
        {
         "name": "horsepower",
         "rawType": "object",
         "type": "string"
        },
        {
         "name": "weight",
         "rawType": "int64",
         "type": "integer"
        },
        {
         "name": "acceleration",
         "rawType": "float64",
         "type": "float"
        },
        {
         "name": "vehicle_id",
         "rawType": "object",
         "type": "string"
        }
       ],
       "ref": "422c1101-9fcc-4ef1-88db-ed20ccc32630",
       "rows": [
        [
         "0",
         "18.0",
         "8",
         "307",
         "130",
         "3504",
         "12.0",
         "C-1689780"
        ],
        [
         "1",
         "15.0",
         "8",
         "350",
         "165",
         "3693",
         "11.5",
         "B-1689791"
        ],
        [
         "2",
         "18.0",
         "8",
         "318",
         "150",
         "3436",
         "11.0",
         "P-1689802"
        ],
        [
         "3",
         "16.0",
         "8",
         "304",
         "150",
         "3433",
         "12.0",
         "A-1689813"
        ],
        [
         "4",
         "17.0",
         "8",
         "302",
         "140",
         "3449",
         "10.5",
         "F-1689824"
        ]
       ],
       "shape": {
        "columns": 7,
        "rows": 5
       }
      },
      "text/html": [
       "<div>\n",
       "<style scoped>\n",
       "    .dataframe tbody tr th:only-of-type {\n",
       "        vertical-align: middle;\n",
       "    }\n",
       "\n",
       "    .dataframe tbody tr th {\n",
       "        vertical-align: top;\n",
       "    }\n",
       "\n",
       "    .dataframe thead th {\n",
       "        text-align: right;\n",
       "    }\n",
       "</style>\n",
       "<table border=\"1\" class=\"dataframe\">\n",
       "  <thead>\n",
       "    <tr style=\"text-align: right;\">\n",
       "      <th></th>\n",
       "      <th>mpg</th>\n",
       "      <th>cylinders</th>\n",
       "      <th>displacement</th>\n",
       "      <th>horsepower</th>\n",
       "      <th>weight</th>\n",
       "      <th>acceleration</th>\n",
       "      <th>vehicle_id</th>\n",
       "    </tr>\n",
       "  </thead>\n",
       "  <tbody>\n",
       "    <tr>\n",
       "      <th>0</th>\n",
       "      <td>18.0</td>\n",
       "      <td>8</td>\n",
       "      <td>307</td>\n",
       "      <td>130</td>\n",
       "      <td>3504</td>\n",
       "      <td>12.0</td>\n",
       "      <td>C-1689780</td>\n",
       "    </tr>\n",
       "    <tr>\n",
       "      <th>1</th>\n",
       "      <td>15.0</td>\n",
       "      <td>8</td>\n",
       "      <td>350</td>\n",
       "      <td>165</td>\n",
       "      <td>3693</td>\n",
       "      <td>11.5</td>\n",
       "      <td>B-1689791</td>\n",
       "    </tr>\n",
       "    <tr>\n",
       "      <th>2</th>\n",
       "      <td>18.0</td>\n",
       "      <td>8</td>\n",
       "      <td>318</td>\n",
       "      <td>150</td>\n",
       "      <td>3436</td>\n",
       "      <td>11.0</td>\n",
       "      <td>P-1689802</td>\n",
       "    </tr>\n",
       "    <tr>\n",
       "      <th>3</th>\n",
       "      <td>16.0</td>\n",
       "      <td>8</td>\n",
       "      <td>304</td>\n",
       "      <td>150</td>\n",
       "      <td>3433</td>\n",
       "      <td>12.0</td>\n",
       "      <td>A-1689813</td>\n",
       "    </tr>\n",
       "    <tr>\n",
       "      <th>4</th>\n",
       "      <td>17.0</td>\n",
       "      <td>8</td>\n",
       "      <td>302</td>\n",
       "      <td>140</td>\n",
       "      <td>3449</td>\n",
       "      <td>10.5</td>\n",
       "      <td>F-1689824</td>\n",
       "    </tr>\n",
       "  </tbody>\n",
       "</table>\n",
       "</div>"
      ],
      "text/plain": [
       "    mpg  cylinders  displacement horsepower  weight  acceleration vehicle_id\n",
       "0  18.0          8           307        130    3504          12.0  C-1689780\n",
       "1  15.0          8           350        165    3693          11.5  B-1689791\n",
       "2  18.0          8           318        150    3436          11.0  P-1689802\n",
       "3  16.0          8           304        150    3433          12.0  A-1689813\n",
       "4  17.0          8           302        140    3449          10.5  F-1689824"
      ]
     },
     "metadata": {},
     "output_type": "display_data"
    },
    {
     "data": {
      "application/vnd.microsoft.datawrangler.viewer.v0+json": {
       "columns": [
        {
         "name": "index",
         "rawType": "int64",
         "type": "integer"
        },
        {
         "name": "mpg",
         "rawType": "float64",
         "type": "float"
        },
        {
         "name": "cylinders",
         "rawType": "int64",
         "type": "integer"
        },
        {
         "name": "displacement",
         "rawType": "int64",
         "type": "integer"
        },
        {
         "name": "horsepower",
         "rawType": "object",
         "type": "unknown"
        },
        {
         "name": "weight",
         "rawType": "int64",
         "type": "integer"
        },
        {
         "name": "acceleration",
         "rawType": "float64",
         "type": "float"
        },
        {
         "name": "vehicle_id",
         "rawType": "object",
         "type": "string"
        }
       ],
       "ref": "f35192d9-5fa6-4bd1-bb00-07289c4203bc",
       "rows": [
        [
         "8",
         "14.0",
         "8",
         "455",
         "225",
         "4425",
         "10.0",
         "P-1689868"
        ],
        [
         "9",
         "15.0",
         "8",
         "390",
         "190",
         "3850",
         "8.5",
         "A-1689879"
        ],
        [
         "10",
         "15.0",
         "8",
         "383",
         "170",
         "3563",
         "10.0",
         "D-1689890"
        ],
        [
         "11",
         "14.0",
         "8",
         "340",
         "160",
         "3609",
         "8.0",
         "P-1689901"
        ],
        [
         "12",
         "15.0",
         "8",
         "400",
         "150",
         "3761",
         "9.5",
         "C-1689912"
        ],
        [
         "13",
         "14.0",
         "8",
         "455",
         "225",
         "3086",
         "10.0",
         "B-1689923"
        ],
        [
         "14",
         "24.0",
         "4",
         "113",
         "95",
         "2372",
         "15.0",
         "T-1689934"
        ],
        [
         "15",
         "22.0",
         "6",
         "198",
         "95",
         "2833",
         "15.5",
         "P-1689945"
        ],
        [
         "16",
         "18.0",
         "6",
         "199",
         "97",
         "2774",
         "15.5",
         "A-1689956"
        ],
        [
         "17",
         "21.0",
         "6",
         "200",
         "85",
         "2587",
         "16.0",
         "F-1689967"
        ],
        [
         "18",
         "27.0",
         "4",
         "97",
         "88",
         "2130",
         "14.5",
         "D-1689978"
        ],
        [
         "19",
         "26.0",
         "4",
         "97",
         "46",
         "1835",
         "20.5",
         "V-1689989"
        ],
        [
         "20",
         "25.0",
         "4",
         "110",
         "87",
         "2672",
         "17.5",
         "P-1690000"
        ],
        [
         "21",
         "24.0",
         "4",
         "107",
         "90",
         "2430",
         "14.5",
         "A-1690011"
        ],
        [
         "22",
         "25.0",
         "4",
         "104",
         "95",
         "2375",
         "17.5",
         "S-1690022"
        ],
        [
         "23",
         "26.0",
         "4",
         "121",
         "113",
         "2234",
         "12.5",
         "B-1690033"
        ],
        [
         "24",
         "21.0",
         "6",
         "199",
         "90",
         "2648",
         "15.0",
         "A-1690044"
        ],
        [
         "25",
         "10.0",
         "8",
         "360",
         "215",
         "4615",
         "14.0",
         "F-1690055"
        ],
        [
         "26",
         "10.0",
         "8",
         "307",
         "200",
         "4376",
         "15.0",
         "C-1690066"
        ],
        [
         "27",
         "11.0",
         "8",
         "318",
         "210",
         "4382",
         "13.5",
         "D-1690077"
        ],
        [
         "28",
         "9.0",
         "8",
         "304",
         "193",
         "4732",
         "18.5",
         "H-1690088"
        ],
        [
         "29",
         "27.0",
         "4",
         "97",
         "88",
         "2130",
         "14.5",
         "D-1690099"
        ],
        [
         "30",
         "28.0",
         "4",
         "140",
         "90",
         "2264",
         "15.5",
         "C-1690110"
        ],
        [
         "31",
         "25.0",
         "4",
         "113",
         "95",
         "2228",
         "14.0",
         "T-1690121"
        ],
        [
         "32",
         "25.0",
         "4",
         "98",
         null,
         "2046",
         "19.0",
         "F-1690132"
        ],
        [
         "33",
         "19.0",
         "6",
         "232",
         "100",
         "2634",
         "13.0",
         "A-1690143"
        ],
        [
         "34",
         "16.0",
         "6",
         "225",
         "105",
         "3439",
         "15.5",
         "P-1690154"
        ],
        [
         "35",
         "17.0",
         "6",
         "250",
         "100",
         "3329",
         "15.5",
         "C-1690165"
        ],
        [
         "36",
         "19.0",
         "6",
         "250",
         "88",
         "3302",
         "15.5",
         "F-1690176"
        ],
        [
         "37",
         "18.0",
         "6",
         "232",
         "100",
         "3288",
         "15.5",
         "A-1690187"
        ],
        [
         "38",
         "14.0",
         "8",
         "350",
         "165",
         "4209",
         "12.0",
         "C-1690198"
        ],
        [
         "39",
         "14.0",
         "8",
         "400",
         "175",
         "4464",
         "11.5",
         "P-1690209"
        ],
        [
         "40",
         "14.0",
         "8",
         "351",
         "153",
         "4154",
         "13.5",
         "F-1690220"
        ],
        [
         "41",
         "14.0",
         "8",
         "318",
         "150",
         "4096",
         "13.0",
         "P-1690231"
        ],
        [
         "42",
         "12.0",
         "8",
         "383",
         "180",
         "4955",
         "11.5",
         "D-1690242"
        ],
        [
         "43",
         "13.0",
         "8",
         "400",
         "170",
         "4746",
         "12.0",
         "F-1690253"
        ],
        [
         "44",
         "13.0",
         "8",
         "400",
         "175",
         "5140",
         "12.0",
         "P-1690264"
        ],
        [
         "45",
         "18.0",
         "6",
         "258",
         "110",
         "2962",
         "13.5",
         "A-1690275"
        ],
        [
         "46",
         "22.0",
         "4",
         "140",
         "72",
         "2408",
         "19.0",
         "C-1690286"
        ],
        [
         "47",
         "19.0",
         "6",
         "250",
         "100",
         "3282",
         "15.0",
         "P-1690297"
        ],
        [
         "48",
         "18.0",
         "6",
         "250",
         "88",
         "3139",
         "14.5",
         "F-1690308"
        ],
        [
         "49",
         "23.0",
         "4",
         "122",
         "86",
         "2220",
         "14.0",
         "M-1690319"
        ],
        [
         "50",
         "28.0",
         "4",
         "116",
         "90",
         "2123",
         "14.0",
         "O-1690330"
        ],
        [
         "51",
         "30.0",
         "4",
         "79",
         "70",
         "2074",
         "19.5",
         "P-1690341"
        ],
        [
         "52",
         "30.0",
         "4",
         "88",
         "76",
         "2065",
         "14.5",
         "F-1690352"
        ],
        [
         "53",
         "31.0",
         "4",
         "71",
         "65",
         "1773",
         "19.0",
         "T-1690363"
        ],
        [
         "54",
         "35.0",
         "4",
         "72",
         "69",
         "1613",
         "18.0",
         "D-1690374"
        ],
        [
         "55",
         "27.0",
         "4",
         "97",
         "60",
         "1834",
         "19.0",
         "V-1690385"
        ],
        [
         "56",
         "26.0",
         "4",
         "91",
         "70",
         "1955",
         "20.5",
         "P-1690396"
        ],
        [
         "57",
         "24.0",
         "4",
         "113",
         "95",
         "2278",
         "15.5",
         "T-1690407"
        ]
       ],
       "shape": {
        "columns": 7,
        "rows": 390
       }
      },
      "text/html": [
       "<div>\n",
       "<style scoped>\n",
       "    .dataframe tbody tr th:only-of-type {\n",
       "        vertical-align: middle;\n",
       "    }\n",
       "\n",
       "    .dataframe tbody tr th {\n",
       "        vertical-align: top;\n",
       "    }\n",
       "\n",
       "    .dataframe thead th {\n",
       "        text-align: right;\n",
       "    }\n",
       "</style>\n",
       "<table border=\"1\" class=\"dataframe\">\n",
       "  <thead>\n",
       "    <tr style=\"text-align: right;\">\n",
       "      <th></th>\n",
       "      <th>mpg</th>\n",
       "      <th>cylinders</th>\n",
       "      <th>displacement</th>\n",
       "      <th>horsepower</th>\n",
       "      <th>weight</th>\n",
       "      <th>acceleration</th>\n",
       "      <th>vehicle_id</th>\n",
       "    </tr>\n",
       "  </thead>\n",
       "  <tbody>\n",
       "    <tr>\n",
       "      <th>8</th>\n",
       "      <td>14.0</td>\n",
       "      <td>8</td>\n",
       "      <td>455</td>\n",
       "      <td>225</td>\n",
       "      <td>4425</td>\n",
       "      <td>10.0</td>\n",
       "      <td>P-1689868</td>\n",
       "    </tr>\n",
       "    <tr>\n",
       "      <th>9</th>\n",
       "      <td>15.0</td>\n",
       "      <td>8</td>\n",
       "      <td>390</td>\n",
       "      <td>190</td>\n",
       "      <td>3850</td>\n",
       "      <td>8.5</td>\n",
       "      <td>A-1689879</td>\n",
       "    </tr>\n",
       "    <tr>\n",
       "      <th>10</th>\n",
       "      <td>15.0</td>\n",
       "      <td>8</td>\n",
       "      <td>383</td>\n",
       "      <td>170</td>\n",
       "      <td>3563</td>\n",
       "      <td>10.0</td>\n",
       "      <td>D-1689890</td>\n",
       "    </tr>\n",
       "    <tr>\n",
       "      <th>11</th>\n",
       "      <td>14.0</td>\n",
       "      <td>8</td>\n",
       "      <td>340</td>\n",
       "      <td>160</td>\n",
       "      <td>3609</td>\n",
       "      <td>8.0</td>\n",
       "      <td>P-1689901</td>\n",
       "    </tr>\n",
       "    <tr>\n",
       "      <th>12</th>\n",
       "      <td>15.0</td>\n",
       "      <td>8</td>\n",
       "      <td>400</td>\n",
       "      <td>150</td>\n",
       "      <td>3761</td>\n",
       "      <td>9.5</td>\n",
       "      <td>C-1689912</td>\n",
       "    </tr>\n",
       "    <tr>\n",
       "      <th>...</th>\n",
       "      <td>...</td>\n",
       "      <td>...</td>\n",
       "      <td>...</td>\n",
       "      <td>...</td>\n",
       "      <td>...</td>\n",
       "      <td>...</td>\n",
       "      <td>...</td>\n",
       "    </tr>\n",
       "    <tr>\n",
       "      <th>393</th>\n",
       "      <td>27.0</td>\n",
       "      <td>4</td>\n",
       "      <td>140</td>\n",
       "      <td>86</td>\n",
       "      <td>2790</td>\n",
       "      <td>15.6</td>\n",
       "      <td>F-1694103</td>\n",
       "    </tr>\n",
       "    <tr>\n",
       "      <th>394</th>\n",
       "      <td>44.0</td>\n",
       "      <td>4</td>\n",
       "      <td>97</td>\n",
       "      <td>52</td>\n",
       "      <td>2130</td>\n",
       "      <td>24.6</td>\n",
       "      <td>V-1694114</td>\n",
       "    </tr>\n",
       "    <tr>\n",
       "      <th>395</th>\n",
       "      <td>32.0</td>\n",
       "      <td>4</td>\n",
       "      <td>135</td>\n",
       "      <td>84</td>\n",
       "      <td>2295</td>\n",
       "      <td>11.6</td>\n",
       "      <td>D-1694125</td>\n",
       "    </tr>\n",
       "    <tr>\n",
       "      <th>396</th>\n",
       "      <td>28.0</td>\n",
       "      <td>4</td>\n",
       "      <td>120</td>\n",
       "      <td>79</td>\n",
       "      <td>2625</td>\n",
       "      <td>18.6</td>\n",
       "      <td>F-1694136</td>\n",
       "    </tr>\n",
       "    <tr>\n",
       "      <th>397</th>\n",
       "      <td>31.0</td>\n",
       "      <td>4</td>\n",
       "      <td>119</td>\n",
       "      <td>82</td>\n",
       "      <td>2720</td>\n",
       "      <td>19.4</td>\n",
       "      <td>C-1694147</td>\n",
       "    </tr>\n",
       "  </tbody>\n",
       "</table>\n",
       "<p>390 rows × 7 columns</p>\n",
       "</div>"
      ],
      "text/plain": [
       "      mpg  cylinders  displacement horsepower  weight  acceleration vehicle_id\n",
       "8    14.0          8           455        225    4425          10.0  P-1689868\n",
       "9    15.0          8           390        190    3850           8.5  A-1689879\n",
       "10   15.0          8           383        170    3563          10.0  D-1689890\n",
       "11   14.0          8           340        160    3609           8.0  P-1689901\n",
       "12   15.0          8           400        150    3761           9.5  C-1689912\n",
       "..    ...        ...           ...        ...     ...           ...        ...\n",
       "393  27.0          4           140         86    2790          15.6  F-1694103\n",
       "394  44.0          4            97         52    2130          24.6  V-1694114\n",
       "395  32.0          4           135         84    2295          11.6  D-1694125\n",
       "396  28.0          4           120         79    2625          18.6  F-1694136\n",
       "397  31.0          4           119         82    2720          19.4  C-1694147\n",
       "\n",
       "[390 rows x 7 columns]"
      ]
     },
     "metadata": {},
     "output_type": "display_data"
    }
   ],
   "source": [
    "# Extract rows 0 to 5\n",
    "display(carfeatures.iloc[0:5,:])\n",
    "\n",
    "# Extract rows 8 onwards\n",
    "display(carfeatures.iloc[ 8:, : ])\n",
    "\n",
    "# Note: We can leave the numbers to the left and right of \":\" blank\n",
    "# in order to select all values before or after, respectively.\n"
   ]
  },
  {
   "attachments": {},
   "cell_type": "markdown",
   "metadata": {},
   "source": [
    "<font size = \"5\">\n",
    "\n",
    "Similar for columns\n",
    "\n",
    "- One column: $\\quad$    ``` data.iloc[ : , col_integer ]```\n",
    "- Multiple columns: $\\quad$   ``` data.iloc[ : , list_cols ]```\n",
    "- Row+Column: $\\quad$ ``` data.iloc[ list_rows , list_cols ]```"
   ]
  },
  {
   "attachments": {},
   "cell_type": "markdown",
   "metadata": {},
   "source": [
    "<font size = \"5\">\n",
    "\n",
    "Try it yourself!!\n",
    "\n",
    "- Create a new datate called \"car_ascendingmpg\" which <br>\n",
    "sorts cars from lowest to highest mpg\n",
    "- Subset the data of 5 cars with the lowest \"mpg\"\n",
    "\n",
    "HINT: Use ``sort_values(...,ascending = TRUE``)\n"
   ]
  },
  {
   "cell_type": "code",
   "execution_count": 13,
   "metadata": {},
   "outputs": [
    {
     "data": {
      "application/vnd.microsoft.datawrangler.viewer.v0+json": {
       "columns": [
        {
         "name": "index",
         "rawType": "int64",
         "type": "integer"
        },
        {
         "name": "mpg",
         "rawType": "float64",
         "type": "float"
        },
        {
         "name": "cylinders",
         "rawType": "int64",
         "type": "integer"
        },
        {
         "name": "displacement",
         "rawType": "int64",
         "type": "integer"
        },
        {
         "name": "horsepower",
         "rawType": "object",
         "type": "unknown"
        },
        {
         "name": "weight",
         "rawType": "int64",
         "type": "integer"
        },
        {
         "name": "acceleration",
         "rawType": "float64",
         "type": "float"
        },
        {
         "name": "vehicle_id",
         "rawType": "object",
         "type": "string"
        }
       ],
       "ref": "de5df7be-cfd4-4235-82c1-5be8b35c4ee3",
       "rows": [
        [
         "28",
         "9.0",
         "8",
         "304",
         "193",
         "4732",
         "18.5",
         "H-1690088"
        ],
        [
         "25",
         "10.0",
         "8",
         "360",
         "215",
         "4615",
         "14.0",
         "F-1690055"
        ],
        [
         "26",
         "10.0",
         "8",
         "307",
         "200",
         "4376",
         "15.0",
         "C-1690066"
        ],
        [
         "67",
         "11.0",
         "8",
         "429",
         "208",
         "4633",
         "11.0",
         "M-1690517"
        ],
        [
         "27",
         "11.0",
         "8",
         "318",
         "210",
         "4382",
         "13.5",
         "D-1690077"
        ],
        [
         "103",
         "11.0",
         "8",
         "400",
         "150",
         "4997",
         "14.0",
         "C-1690913"
        ],
        [
         "124",
         "11.0",
         "8",
         "350",
         "180",
         "3664",
         "11.0",
         "O-1691144"
        ],
        [
         "42",
         "12.0",
         "8",
         "383",
         "180",
         "4955",
         "11.5",
         "D-1690242"
        ],
        [
         "95",
         "12.0",
         "8",
         "455",
         "225",
         "4951",
         "11.0",
         "B-1690825"
        ],
        [
         "104",
         "12.0",
         "8",
         "400",
         "167",
         "4906",
         "12.5",
         "F-1690924"
        ],
        [
         "69",
         "12.0",
         "8",
         "350",
         "160",
         "4456",
         "13.5",
         "O-1690539"
        ],
        [
         "106",
         "12.0",
         "8",
         "350",
         "180",
         "4499",
         "12.5",
         "O-1690946"
        ],
        [
         "90",
         "12.0",
         "8",
         "429",
         "198",
         "4952",
         "11.5",
         "M-1690770"
        ],
        [
         "68",
         "13.0",
         "8",
         "350",
         "155",
         "4502",
         "13.5",
         "B-1690528"
        ],
        [
         "74",
         "13.0",
         "8",
         "302",
         "140",
         "4294",
         "16.0",
         "F-1690594"
        ],
        [
         "43",
         "13.0",
         "8",
         "400",
         "170",
         "4746",
         "12.0",
         "F-1690253"
        ],
        [
         "94",
         "13.0",
         "8",
         "440",
         "215",
         "4735",
         "11.0",
         "C-1690814"
        ],
        [
         "92",
         "13.0",
         "8",
         "351",
         "158",
         "4363",
         "13.0",
         "F-1690792"
        ],
        [
         "70",
         "13.0",
         "8",
         "400",
         "190",
         "4422",
         "12.5",
         "C-1690550"
        ],
        [
         "85",
         "13.0",
         "8",
         "350",
         "175",
         "4100",
         "13.0",
         "B-1690715"
        ],
        [
         "96",
         "13.0",
         "8",
         "360",
         "175",
         "3821",
         "11.0",
         "A-1690836"
        ],
        [
         "137",
         "13.0",
         "8",
         "350",
         "150",
         "4699",
         "14.5",
         "B-1691287"
        ],
        [
         "91",
         "13.0",
         "8",
         "400",
         "150",
         "4464",
         "12.0",
         "C-1690781"
        ],
        [
         "105",
         "13.0",
         "8",
         "360",
         "170",
         "4654",
         "13.0",
         "P-1690935"
        ],
        [
         "213",
         "13.0",
         "8",
         "350",
         "145",
         "4055",
         "12.0",
         "C-1692123"
        ],
        [
         "214",
         "13.0",
         "8",
         "302",
         "130",
         "3870",
         "15.0",
         "F-1692134"
        ],
        [
         "208",
         "13.0",
         "8",
         "318",
         "150",
         "3940",
         "13.2",
         "P-1692068"
        ],
        [
         "166",
         "13.0",
         "8",
         "302",
         "129",
         "3169",
         "12.0",
         "F-1691606"
        ],
        [
         "62",
         "13.0",
         "8",
         "350",
         "165",
         "4274",
         "12.0",
         "C-1690462"
        ],
        [
         "87",
         "13.0",
         "8",
         "350",
         "145",
         "3988",
         "13.0",
         "C-1690737"
        ],
        [
         "44",
         "13.0",
         "8",
         "400",
         "175",
         "5140",
         "12.0",
         "P-1690264"
        ],
        [
         "73",
         "13.0",
         "8",
         "307",
         "130",
         "4098",
         "14.0",
         "C-1690583"
        ],
        [
         "215",
         "13.0",
         "8",
         "318",
         "150",
         "3755",
         "14.0",
         "D-1692145"
        ],
        [
         "93",
         "14.0",
         "8",
         "318",
         "150",
         "4237",
         "14.5",
         "P-1690803"
        ],
        [
         "140",
         "14.0",
         "8",
         "304",
         "150",
         "4257",
         "15.5",
         "A-1691320"
        ],
        [
         "88",
         "14.0",
         "8",
         "302",
         "137",
         "4042",
         "14.5",
         "F-1690748"
        ],
        [
         "8",
         "14.0",
         "8",
         "455",
         "225",
         "4425",
         "10.0",
         "P-1689868"
        ],
        [
         "159",
         "14.0",
         "8",
         "351",
         "148",
         "4657",
         "13.5",
         "F-1691529"
        ],
        [
         "11",
         "14.0",
         "8",
         "340",
         "160",
         "3609",
         "8.0",
         "P-1689901"
        ],
        [
         "138",
         "14.0",
         "8",
         "318",
         "150",
         "4457",
         "13.5",
         "D-1691298"
        ],
        [
         "65",
         "14.0",
         "8",
         "351",
         "153",
         "4129",
         "13.0",
         "F-1690495"
        ],
        [
         "63",
         "14.0",
         "8",
         "400",
         "175",
         "4385",
         "12.0",
         "P-1690473"
        ],
        [
         "86",
         "14.0",
         "8",
         "304",
         "150",
         "3672",
         "11.5",
         "A-1690726"
        ],
        [
         "139",
         "14.0",
         "8",
         "302",
         "140",
         "4638",
         "16.0",
         "F-1691309"
        ],
        [
         "41",
         "14.0",
         "8",
         "318",
         "150",
         "4096",
         "13.0",
         "P-1690231"
        ],
        [
         "7",
         "14.0",
         "8",
         "440",
         "215",
         "4312",
         "8.5",
         "P-1689857"
        ],
        [
         "75",
         "14.0",
         "8",
         "318",
         "150",
         "4077",
         "14.0",
         "P-1690605"
        ],
        [
         "6",
         "14.0",
         "8",
         "454",
         "220",
         "4354",
         "9.0",
         "C-1689846"
        ],
        [
         "13",
         "14.0",
         "8",
         "455",
         "225",
         "3086",
         "10.0",
         "B-1689923"
        ],
        [
         "38",
         "14.0",
         "8",
         "350",
         "165",
         "4209",
         "12.0",
         "C-1690198"
        ]
       ],
       "shape": {
        "columns": 7,
        "rows": 398
       }
      },
      "text/html": [
       "<div>\n",
       "<style scoped>\n",
       "    .dataframe tbody tr th:only-of-type {\n",
       "        vertical-align: middle;\n",
       "    }\n",
       "\n",
       "    .dataframe tbody tr th {\n",
       "        vertical-align: top;\n",
       "    }\n",
       "\n",
       "    .dataframe thead th {\n",
       "        text-align: right;\n",
       "    }\n",
       "</style>\n",
       "<table border=\"1\" class=\"dataframe\">\n",
       "  <thead>\n",
       "    <tr style=\"text-align: right;\">\n",
       "      <th></th>\n",
       "      <th>mpg</th>\n",
       "      <th>cylinders</th>\n",
       "      <th>displacement</th>\n",
       "      <th>horsepower</th>\n",
       "      <th>weight</th>\n",
       "      <th>acceleration</th>\n",
       "      <th>vehicle_id</th>\n",
       "    </tr>\n",
       "  </thead>\n",
       "  <tbody>\n",
       "    <tr>\n",
       "      <th>28</th>\n",
       "      <td>9.0</td>\n",
       "      <td>8</td>\n",
       "      <td>304</td>\n",
       "      <td>193</td>\n",
       "      <td>4732</td>\n",
       "      <td>18.5</td>\n",
       "      <td>H-1690088</td>\n",
       "    </tr>\n",
       "    <tr>\n",
       "      <th>25</th>\n",
       "      <td>10.0</td>\n",
       "      <td>8</td>\n",
       "      <td>360</td>\n",
       "      <td>215</td>\n",
       "      <td>4615</td>\n",
       "      <td>14.0</td>\n",
       "      <td>F-1690055</td>\n",
       "    </tr>\n",
       "    <tr>\n",
       "      <th>26</th>\n",
       "      <td>10.0</td>\n",
       "      <td>8</td>\n",
       "      <td>307</td>\n",
       "      <td>200</td>\n",
       "      <td>4376</td>\n",
       "      <td>15.0</td>\n",
       "      <td>C-1690066</td>\n",
       "    </tr>\n",
       "    <tr>\n",
       "      <th>67</th>\n",
       "      <td>11.0</td>\n",
       "      <td>8</td>\n",
       "      <td>429</td>\n",
       "      <td>208</td>\n",
       "      <td>4633</td>\n",
       "      <td>11.0</td>\n",
       "      <td>M-1690517</td>\n",
       "    </tr>\n",
       "    <tr>\n",
       "      <th>27</th>\n",
       "      <td>11.0</td>\n",
       "      <td>8</td>\n",
       "      <td>318</td>\n",
       "      <td>210</td>\n",
       "      <td>4382</td>\n",
       "      <td>13.5</td>\n",
       "      <td>D-1690077</td>\n",
       "    </tr>\n",
       "    <tr>\n",
       "      <th>...</th>\n",
       "      <td>...</td>\n",
       "      <td>...</td>\n",
       "      <td>...</td>\n",
       "      <td>...</td>\n",
       "      <td>...</td>\n",
       "      <td>...</td>\n",
       "      <td>...</td>\n",
       "    </tr>\n",
       "    <tr>\n",
       "      <th>326</th>\n",
       "      <td>43.4</td>\n",
       "      <td>4</td>\n",
       "      <td>90</td>\n",
       "      <td>48</td>\n",
       "      <td>2335</td>\n",
       "      <td>23.7</td>\n",
       "      <td>V-1693366</td>\n",
       "    </tr>\n",
       "    <tr>\n",
       "      <th>394</th>\n",
       "      <td>44.0</td>\n",
       "      <td>4</td>\n",
       "      <td>97</td>\n",
       "      <td>52</td>\n",
       "      <td>2130</td>\n",
       "      <td>24.6</td>\n",
       "      <td>V-1694114</td>\n",
       "    </tr>\n",
       "    <tr>\n",
       "      <th>325</th>\n",
       "      <td>44.3</td>\n",
       "      <td>4</td>\n",
       "      <td>90</td>\n",
       "      <td>48</td>\n",
       "      <td>2085</td>\n",
       "      <td>21.7</td>\n",
       "      <td>V-1693355</td>\n",
       "    </tr>\n",
       "    <tr>\n",
       "      <th>329</th>\n",
       "      <td>44.6</td>\n",
       "      <td>4</td>\n",
       "      <td>91</td>\n",
       "      <td>67</td>\n",
       "      <td>1850</td>\n",
       "      <td>13.8</td>\n",
       "      <td>H-1693399</td>\n",
       "    </tr>\n",
       "    <tr>\n",
       "      <th>322</th>\n",
       "      <td>46.6</td>\n",
       "      <td>4</td>\n",
       "      <td>86</td>\n",
       "      <td>65</td>\n",
       "      <td>2110</td>\n",
       "      <td>17.9</td>\n",
       "      <td>M-1693322</td>\n",
       "    </tr>\n",
       "  </tbody>\n",
       "</table>\n",
       "<p>398 rows × 7 columns</p>\n",
       "</div>"
      ],
      "text/plain": [
       "      mpg  cylinders  displacement horsepower  weight  acceleration vehicle_id\n",
       "28    9.0          8           304        193    4732          18.5  H-1690088\n",
       "25   10.0          8           360        215    4615          14.0  F-1690055\n",
       "26   10.0          8           307        200    4376          15.0  C-1690066\n",
       "67   11.0          8           429        208    4633          11.0  M-1690517\n",
       "27   11.0          8           318        210    4382          13.5  D-1690077\n",
       "..    ...        ...           ...        ...     ...           ...        ...\n",
       "326  43.4          4            90         48    2335          23.7  V-1693366\n",
       "394  44.0          4            97         52    2130          24.6  V-1694114\n",
       "325  44.3          4            90         48    2085          21.7  V-1693355\n",
       "329  44.6          4            91         67    1850          13.8  H-1693399\n",
       "322  46.6          4            86         65    2110          17.9  M-1693322\n",
       "\n",
       "[398 rows x 7 columns]"
      ]
     },
     "metadata": {},
     "output_type": "display_data"
    },
    {
     "data": {
      "text/plain": [
       "np.float64(18.5)"
      ]
     },
     "metadata": {},
     "output_type": "display_data"
    }
   ],
   "source": [
    "# Write your own code\n",
    "\n",
    "carascendingmpg = carfeatures.sort_values(by = \"mpg\", ascending = True)\n",
    "display(carascendingmpg)\n",
    "\n",
    "display(carascendingmpg.iloc[0, 5])\n",
    "\n",
    "\n"
   ]
  },
  {
   "attachments": {},
   "cell_type": "markdown",
   "metadata": {},
   "source": [
    "## <span style=\"color:darkblue\"> II. Queries </span>\n",
    "\n",
    "<font size = \"5\">\n",
    "Filter the data based on its content <br>\n",
    "\n",
    "```python\n",
    "data.query(\"logical expression\")\n",
    "```"
   ]
  },
  {
   "attachments": {},
   "cell_type": "markdown",
   "metadata": {},
   "source": [
    "<font size = \"5\">\n",
    "\n",
    "(i) Expressions with colnames"
   ]
  },
  {
   "cell_type": "code",
   "execution_count": 15,
   "metadata": {},
   "outputs": [],
   "source": [
    "# Enter any logical expression\n",
    "\n",
    "data_threshold_mpg        = carfeatures.query(\"mpg >= 25\")\n",
    "data_rangeacceleration    = carfeatures.query(\"(acceleration >= 10) & (acceleration < 18)\")\n"
   ]
  },
  {
   "attachments": {},
   "cell_type": "markdown",
   "metadata": {},
   "source": [
    "<font size = \"5\">\n",
    "\n",
    "(ii) Expressions with colnames + global variables (@)"
   ]
  },
  {
   "cell_type": "code",
   "execution_count": 16,
   "metadata": {},
   "outputs": [],
   "source": [
    "# You can invoke global variables into the query by using @variablename\n",
    "# If you don't include @, then Python will try to look for a column with \n",
    "# that name.\n",
    "\n",
    "threshold = 25\n",
    "data_varthreshold_mpg = carfeatures.query(\"mpg >= @threshold\")"
   ]
  },
  {
   "attachments": {},
   "cell_type": "markdown",
   "metadata": {},
   "source": [
    "<font size = \"5\">\n",
    "\n",
    "(iii) Expressions with colnames with spaces"
   ]
  },
  {
   "cell_type": "code",
   "execution_count": 17,
   "metadata": {},
   "outputs": [],
   "source": [
    "# Sometimes column names have spaces in them\n",
    "# In this case use the \"`\" symbol, e.g.          `variable name`\n",
    "\n",
    "carfeatures[\"new variable\"] = carfeatures[\"mpg\"]\n",
    "data_spacesthreshold_mpg = carfeatures.query(\"`new variable` >= 25\")\n"
   ]
  },
  {
   "cell_type": "code",
   "execution_count": 18,
   "metadata": {},
   "outputs": [],
   "source": [
    "carfeatures[\"new variable two\"] = carfeatures[\"mpg\"]\n",
    "data_spacesthreshold_mpg_two = carfeatures.query(\"`new variable two` >= 25\")\n"
   ]
  },
  {
   "attachments": {},
   "cell_type": "markdown",
   "metadata": {},
   "source": [
    "<font size = \"5\">\n",
    "\n",
    "Try it yourself!\n",
    "\n",
    "-  Subset the data with mpg $\\ge$ 25 and cylinders == 8"
   ]
  },
  {
   "cell_type": "code",
   "execution_count": 19,
   "metadata": {},
   "outputs": [],
   "source": [
    "# Write your own code here\n",
    "carfeatures[\"new variable three\"] = carfeatures[\"mpg\"]\n",
    "data_spacesthreshold_mpg_three = carfeatures.query(\"`new variable three` >= 25\")\n",
    "\n",
    "\n",
    "\n"
   ]
  },
  {
   "attachments": {},
   "cell_type": "markdown",
   "metadata": {},
   "source": [
    "## <span style=\"color:darkblue\"> III. Visualization for Subsets of the Data </span>\n"
   ]
  },
  {
   "attachments": {},
   "cell_type": "markdown",
   "metadata": {},
   "source": [
    "<font size = \"5\">\n",
    "\n",
    "List of unique categories"
   ]
  },
  {
   "cell_type": "code",
   "execution_count": 20,
   "metadata": {},
   "outputs": [
    {
     "name": "stdout",
     "output_type": "stream",
     "text": [
      "[8 4 6 3 5]\n"
     ]
    }
   ],
   "source": [
    "# Use pd.unique() to extract a list with the unique elements in that column\n",
    "\n",
    "list_unique_cylinders = pd.unique(carfeatures[\"cylinders\"])\n",
    "print(list_unique_cylinders)"
   ]
  },
  {
   "attachments": {},
   "cell_type": "markdown",
   "metadata": {},
   "source": [
    "<font size = \"5\">\n",
    "\n",
    "Compute two overlapping plots"
   ]
  },
  {
   "cell_type": "code",
   "execution_count": 21,
   "metadata": {},
   "outputs": [
    {
     "data": {
      "image/png": "[encoded data removed]",
      "text/plain": [
       "<Figure size 640x480 with 1 Axes>"
      ]
     },
     "metadata": {},
     "output_type": "display_data"
    }
   ],
   "source": [
    "# If we call plt.scatter() twice to display two plots\n",
    "# To display all plots simultaneously we include plt.show() at the very end.\n",
    "# The idea is that the graphs are stacked on top of each other\n",
    "\n",
    "df_8 = carfeatures.query(\"cylinders == 8\")\n",
    "df_4 = carfeatures.query(\"cylinders == 4\")\n",
    "\n",
    "plt.scatter(x = df_8[\"weight\"],y = df_8[\"acceleration\"])\n",
    "plt.scatter(x = df_4[\"weight\"],y = df_4[\"acceleration\"])\n",
    "plt.legend(labels = [\"8\",\"4\"],\n",
    "           title  = \"Cylinders\")\n",
    "\n",
    "plt.show()\n",
    "\n",
    "# Note: If we put plt.show() in between the plots, then the results will\n",
    "# be shown on separate graphs instead.\n"
   ]
  },
  {
   "attachments": {},
   "cell_type": "markdown",
   "metadata": {},
   "source": [
    "<font size = \"5\">\n",
    "\n",
    "Compute plots by all categories"
   ]
  },
  {
   "cell_type": "code",
   "execution_count": 37,
   "metadata": {},
   "outputs": [
    {
     "data": {
      "image/png": "[encoded data removed]",
      "text/plain": [
       "<Figure size 640x480 with 1 Axes>"
      ]
     },
     "metadata": {},
     "output_type": "display_data"
    }
   ],
   "source": [
    "# Compute number of unique categories\n",
    "list_unique_cylinders = pd.unique(carfeatures[\"cylinders\"])\n",
    "\n",
    "# Use a for loop to plot a scatter plot between \"weight\" and \"acceleration\"\n",
    "# for each category. Each plot  will have a different color\n",
    "\n",
    "for category in list_unique_cylinders:\n",
    "    df   = carfeatures.query(\"cylinders == @category\")\n",
    "    plt.scatter(x = df[\"weight\"],y = df[\"acceleration\"])\n",
    "    \n",
    "# Add labels and a legends    \n",
    "plt.xlabel(\"Weight\")\n",
    "plt.ylabel(\"Acceleration\")\n",
    "plt.legend(labels = list_unique_cylinders,\n",
    "           title  = \"Cylinders\")\n",
    "plt.show()\n"
   ]
  },
  {
   "attachments": {},
   "cell_type": "markdown",
   "metadata": {},
   "source": [
    "<font size = \"5\">\n",
    "\n",
    "Try it yourself!\n",
    "\n",
    "- Compute a histogram of \"mpg\" by cylinder count\n",
    "- Make the histograms transparent by adjusting ```alpha``` in\n",
    "\n",
    " ```plt.hist(x = ..., alpha = 0.5)``` "
   ]
  },
  {
   "cell_type": "code",
   "execution_count": 23,
   "metadata": {},
   "outputs": [
    {
     "data": {
      "image/png": "[encoded data removed]",
      "text/plain": [
       "<Figure size 640x480 with 1 Axes>"
      ]
     },
     "metadata": {},
     "output_type": "display_data"
    }
   ],
   "source": [
    "# Write your own code\n",
    "\n",
    "import matplotlib.pyplot as plt\n",
    "\n",
    "# Get unique cylinder categories\n",
    "list_unique_cylinders = carfeatures[\"cylinders\"].unique()\n",
    "\n",
    "# Loop over each cylinder category\n",
    "for category in list_unique_cylinders:\n",
    "    df = carfeatures.query(\"cylinders == @category\")\n",
    "    plt.hist(\n",
    "        df[\"mpg\"],        # <-- histogram of mpg values\n",
    "        alpha=0.5,        # <-- make bars transparent\n",
    "        label=f\"{category} cylinders\"\n",
    "    )\n",
    "\n",
    "plt.xlabel(\"MPG\")\n",
    "plt.ylabel(\"Frequency\")\n",
    "plt.legend()\n",
    "plt.show()\n"
   ]
  }
 ],
 "metadata": {
  "kernelspec": {
   "display_name": "base",
   "language": "python",
   "name": "python3"
  },
  "language_info": {
   "codemirror_mode": {
    "name": "ipython",
    "version": 3
   },
   "file_extension": ".py",
   "mimetype": "text/x-python",
   "name": "python",
   "nbconvert_exporter": "python",
   "pygments_lexer": "ipython3",
   "version": "3.13.5"
  },
  "orig_nbformat": 4,
  "vscode": {
   "interpreter": {
    "hash": "45fc1f684f6f416f40889115beff3ddf69879b64cf4bfee48cb72a61e9d15d1a"
   }
  }
 },
 "nbformat": 4,
 "nbformat_minor": 2
}
