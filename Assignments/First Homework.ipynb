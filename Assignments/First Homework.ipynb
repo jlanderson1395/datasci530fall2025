{
 "cells": [
  {
   "cell_type": "code",
   "execution_count": 1,
   "id": "ac937cf0",
   "metadata": {},
   "outputs": [],
   "source": [
    "## changing directory\n",
    "\n",
    "import os\n",
    "(os.getcwd())\n",
    "\n",
    "import os\n",
    "os.chdir(r\"C:\\Users\\jland\\OneDrive\\Emory Essentials\\CLASSES Fall 2025\\Computing\\datasci530fall2025\\Lecture 04\")\n",
    "\n",
    "# import libraries\n",
    "import pandas as pd\n",
    "import numpy as np\n"
   ]
  },
  {
   "cell_type": "code",
   "execution_count": null,
   "id": "2558083f",
   "metadata": {},
   "outputs": [],
   "source": [
    "#  loading necessary data\n",
    "\n",
    "\n",
    "teams = pd.read_csv(\"data_raw/constructors.csv\")\n",
    "races = pd.read_csv(\"data_raw/races.csv\")\n",
    "team_results = pd.read_csv(\"data_raw/constructor_results.csv\")   # constructor points per race\n",
    "results = pd.read_csv(\"data_raw/results.csv\")               # driver-level results per race\n",
    "drivers = pd.read_csv(\"data_raw/drivers.csv\")\n",
    "\n",
    "#"
   ]
  },
  {
   "cell_type": "code",
   "execution_count": null,
   "id": "a896fa2e",
   "metadata": {},
   "outputs": [
    {
     "data": {
      "text/plain": [
       "np.float64(532.2388059701492)"
      ]
     },
     "execution_count": 60,
     "metadata": {},
     "output_type": "execute_result"
    }
   ],
   "source": [
    "# keep only 1981–2020 races\n",
    "races_8120 = races.loc[(races[\"year\"] >= 1981) & (races[\"year\"] <= 2020), [\"raceId\",\"year\"]]\n",
    "\n",
    "# attach years to team_results   \n",
    "results_by_year = (team_results\n",
    "      .merge(races_8120, on=\"raceId\", how=\"inner\")         # limits to requested years\n",
    "      .merge(teams[[\"constructorId\",\"name\"]], on=\"constructorId\", how=\"left\"))\n",
    "\n",
    "# \n",
    "results_by_year = results_by_year.sort_values([\"points\"], ascending=False)\n",
    "results_by_year\n",
    "\n",
    "# ensuring name and constructorId are unique\n",
    "results_by_year[\"constructorId\"].nunique()\n",
    "results_by_year[\"name\"].nunique()\n",
    "\n",
    "# Top 3 teams by total points from 1981 to 2020 ascending = false\n",
    "top_teams = results_by_year.groupby(\"name\")[\"points\"].sum()\n",
    "top_teams = top_teams.sort_values(ascending=False)\n",
    "top_teams\n",
    "\n",
    "# Average points for all teams\n",
    "avg_points = top_teams.mean()\n",
    "avg_points\n",
    "\n",
    "# Ferrari had the most points with 7,374 points\n",
    "## Mercedes was second with 5,685 points\n",
    "### McLaren was third with 5,229.5 points\n",
    "#### The average points for all teams was approximately 532 points\n"
   ]
  },
  {
   "cell_type": "code",
   "execution_count": null,
   "id": "6936a52e",
   "metadata": {},
   "outputs": [
    {
     "data": {
      "text/plain": [
       "np.float64(786.0142857142857)"
      ]
     },
     "execution_count": 63,
     "metadata": {},
     "output_type": "execute_result"
    }
   ],
   "source": [
    "# keep only 2001–2020 races\n",
    "races_01_20 = races.loc[(races[\"year\"] >= 2001) & (races[\"year\"] <= 2020), [\"raceId\",\"year\"]]\n",
    "\n",
    "# attach years to team_results   \n",
    "results_by_year_2 = (team_results\n",
    "      .merge(races_01_20, on=\"raceId\", how=\"inner\")         # limits to requested years\n",
    "      .merge(teams[[\"constructorId\",\"name\"]], on=\"constructorId\", how=\"left\"))\n",
    "\n",
    "# \n",
    "results_by_year_2 = results_by_year_2.sort_values([\"points\"], ascending=False)\n",
    "results_by_year_2\n",
    "\n",
    "# making sure both are unique\n",
    "results_by_year_2[\"constructorId\"].nunique()\n",
    "results_by_year_2[\"name\"].nunique()\n",
    "\n",
    "# Top 3 teams by total points from 2001 to 2020 ascending = false\n",
    "top_teams = results_by_year_2.groupby(\"name\")[\"points\"].sum()\n",
    "top_teams = top_teams.sort_values(ascending=False)\n",
    "top_teams\n",
    "\n",
    "# Average points for all teams\n",
    "avg_points_2 = top_teams.mean()\n",
    "avg_points_2\n",
    "\n",
    "top_teams\n",
    "avg_points_2\n",
    "\n",
    "# Ferrari was the top team from 2001 to 2020 with 5,862 points\n",
    "## Mercedes was second with 5,685 points\n",
    "### Red Bull was third with 5,043.5 points\n",
    "#### The average points across all teams was approximately 786 points. \n",
    "\n"
   ]
  },
  {
   "cell_type": "code",
   "execution_count": null,
   "id": "5815ecec",
   "metadata": {},
   "outputs": [],
   "source": [
    "## How did rankings change across periods?\n",
    "\n",
    "rnk_a = top3_8120.assign(rank_a=lambda d: d[\"points\"].rank(method=\"dense\", ascending=False).astype(int))[\n",
    "    [\"constructorId\",\"name\",\"points\",\"rank_a\"]\n",
    "]\n",
    "rnk_b = top3_0120.assign(rank_b=lambda d: d[\"points\"].rank(method=\"dense\", ascending=False).astype(int))[\n",
    "    [\"constructorId\",\"name\",\"points\",\"rank_b\"]\n",
    "]\n",
    "\n",
    "rank_change = (rnk_a.merge(rnk_b, on=[\"constructorId\",\"name\"], how=\"outer\", suffixes=(\"_a\",\"_b\"))\n",
    "                  .assign(rank_delta=lambda d: d[\"rank_b\"] - d[\"rank_a\"]))\n",
    "rank_change.sort_values([\"rank_a\",\"rank_b\"])\n"
   ]
  },
  {
   "cell_type": "code",
   "execution_count": null,
   "id": "cf5c97d5",
   "metadata": {},
   "outputs": [
    {
     "data": {
      "text/plain": [
       "25"
      ]
     },
     "execution_count": 65,
     "metadata": {},
     "output_type": "execute_result"
    }
   ],
   "source": [
    "# Different Ferrari Drivers\n",
    "\n",
    "# Ferrari's ID (or filter by name)\n",
    "ferrari_id = teams.loc[teams[\"name\"].str.lower()==\"ferrari\", \"constructorId\"].iloc[0]\n",
    "\n",
    "res_8120 = (results.merge(races_8120, on=\"raceId\", how=\"inner\")\n",
    "                  .loc[lambda d: d[\"constructorId\"] == ferrari_id])\n",
    "\n",
    "n_drivers_ferrari = res_8120[\"driverId\"].nunique()\n",
    "n_drivers_ferrari\n",
    "\n",
    "## There were 25 different Ferrari drivers from 1981 to 2020"
   ]
  },
  {
   "cell_type": "code",
   "execution_count": null,
   "id": "14bede45",
   "metadata": {},
   "outputs": [
    {
     "data": {
      "application/vnd.microsoft.datawrangler.viewer.v0+json": {
       "columns": [
        {
         "name": "index",
         "rawType": "object",
         "type": "string"
        },
        {
         "name": "37",
         "rawType": "float64",
         "type": "float"
        }
       ],
       "ref": "1f31fc9e-afb2-4d39-a2c9-ec4a52ec2479",
       "rows": [
        [
         "year",
         "2018.0"
        ],
        [
         "points",
         "571.0"
        ]
       ],
       "shape": {
        "columns": 1,
        "rows": 2
       }
      },
      "text/plain": [
       "year      2018.0\n",
       "points     571.0\n",
       "Name: 37, dtype: float64"
      ]
     },
     "execution_count": 68,
     "metadata": {},
     "output_type": "execute_result"
    }
   ],
   "source": [
    "#Ferrari's best years\n",
    "\n",
    "ferrari_year_pts = (results_by_year.loc[results_by_year[\"constructorId\"] == ferrari_id]\n",
    "                      .groupby(\"year\", as_index=False)[\"points\"].sum()\n",
    "                      .sort_values(\"points\", ascending=False))\n",
    "\n",
    "best_year = ferrari_year_pts.iloc[0]\n",
    "best_year\n",
    "\n",
    "#Ferrari's best year was 2018. They had 571 points.\n"
   ]
  }
 ],
 "metadata": {
  "kernelspec": {
   "display_name": "base",
   "language": "python",
   "name": "python3"
  },
  "language_info": {
   "codemirror_mode": {
    "name": "ipython",
    "version": 3
   },
   "file_extension": ".py",
   "mimetype": "text/x-python",
   "name": "python",
   "nbconvert_exporter": "python",
   "pygments_lexer": "ipython3",
   "version": "3.13.5"
  }
 },
 "nbformat": 4,
 "nbformat_minor": 5
}
